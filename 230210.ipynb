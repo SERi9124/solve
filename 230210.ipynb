{
 "cells": [
  {
   "attachments": {},
   "cell_type": "markdown",
   "metadata": {},
   "source": [
    "[문자열 정렬하기 (2)](https://school.programmers.co.kr/learn/courses/30/lessons/120911)"
   ]
  },
  {
   "cell_type": "code",
   "execution_count": 9,
   "metadata": {},
   "outputs": [
    {
     "data": {
      "text/plain": [
       "'hnopty'"
      ]
     },
     "execution_count": 9,
     "metadata": {},
     "output_type": "execute_result"
    }
   ],
   "source": [
    "def solution(my_string):\n",
    "    answer = my_string.lower()\n",
    "    answer = ''.join(sorted(str))\n",
    "    # ''.join(sorted(str.lower()))\n",
    "    return answer\n",
    "\n",
    "my_string = \"heLLo\"\n",
    "solution(my_string)"
   ]
  },
  {
   "attachments": {},
   "cell_type": "markdown",
   "metadata": {},
   "source": [
    "[세균 증식](https://school.programmers.co.kr/learn/courses/30/lessons/120910)"
   ]
  },
  {
   "cell_type": "code",
   "execution_count": 23,
   "metadata": {},
   "outputs": [
    {
     "data": {
      "text/plain": [
       "229376"
      ]
     },
     "execution_count": 23,
     "metadata": {},
     "output_type": "execute_result"
    }
   ],
   "source": [
    "def solution(n, t):\n",
    "    answer = n\n",
    "    for x in range(1, t+1):\n",
    "        answer *= 2\n",
    "    return answer\n",
    "\n",
    "n = 7\n",
    "t = 15\n",
    "solution(n, t)"
   ]
  },
  {
   "attachments": {},
   "cell_type": "markdown",
   "metadata": {},
   "source": [
    "[제곱수 판별하기](https://school.programmers.co.kr/learn/courses/30/lessons/120909)"
   ]
  },
  {
   "cell_type": "code",
   "execution_count": 31,
   "metadata": {},
   "outputs": [
    {
     "data": {
      "text/plain": [
       "2"
      ]
     },
     "execution_count": 31,
     "metadata": {},
     "output_type": "execute_result"
    }
   ],
   "source": [
    "import numpy as np\n",
    "\n",
    "def solution(n):\n",
    "    answer = np.sqrt(n)\n",
    "    if answer == int(answer):\n",
    "        return  1\n",
    "    else:\n",
    "        return 2\n",
    "\n",
    "n = 976\n",
    "solution(n)"
   ]
  },
  {
   "attachments": {},
   "cell_type": "markdown",
   "metadata": {},
   "source": [
    "[OX퀴즈](https://school.programmers.co.kr/learn/courses/30/lessons/120907)"
   ]
  },
  {
   "cell_type": "code",
   "execution_count": 22,
   "metadata": {},
   "outputs": [
    {
     "data": {
      "text/plain": [
       "['O', 'O', 'X', 'O']"
      ]
     },
     "execution_count": 22,
     "metadata": {},
     "output_type": "execute_result"
    }
   ],
   "source": [
    "def solution(quiz):\n",
    "    answer = []\n",
    "    for x in quiz:\n",
    "        y = x.split(\" \")\n",
    "        if y[1] == \"-\":\n",
    "            if int(y[0]) - int(y[2]) == int(y[4]):\n",
    "                answer.append(\"O\")\n",
    "            else:\n",
    "                answer.append(\"X\")\n",
    "        else:\n",
    "            if int(y[0]) + int(y[2]) == int(y[4]):\n",
    "                answer.append(\"O\")\n",
    "            else:\n",
    "                answer.append(\"X\")\n",
    "    return answer\n",
    "\n",
    "quiz = [\"19 - 6 = 13\", \"5 + 66 = 71\", \"5 - 15 = 63\", \"3 - 1 = 2\"]\n",
    "solution(quiz)"
   ]
  },
  {
   "attachments": {},
   "cell_type": "markdown",
   "metadata": {},
   "source": [
    "##### OX퀴즈 다른사람풀이"
   ]
  },
  {
   "attachments": {},
   "cell_type": "markdown",
   "metadata": {},
   "source": [
    "eval함수란?? <br>\n",
    "'eval(expression)' 으로 사용한다.<br>\n",
    "<br>\n",
    "eval 함수는 한줄로 정리하자면 매개변수로 받은 expression(우리가 아는 일반적인 사칙연산 '식')을 문자열로 받아서, 실행하는 함수다. 즉, 매개변수로 받은 expression은 파이썬에서 실행 가능한 문자열이 들어와야 한다는것이고, 문자열로 들어온 그 expression을 파이썬이 실행해주는 함수이다."
   ]
  },
  {
   "cell_type": "code",
   "execution_count": 27,
   "metadata": {},
   "outputs": [
    {
     "data": {
      "text/plain": [
       "['X', 'O']"
      ]
     },
     "execution_count": 27,
     "metadata": {},
     "output_type": "execute_result"
    }
   ],
   "source": [
    "q = [\"3 - 4 = -3\", \"5 + 6 = 11\"]\n",
    "\n",
    "def solution(quiz):\n",
    "    answer = []\n",
    "    for q in quiz:\n",
    "        p, a = q.split(\"=\")\n",
    "        if eval(p) == int(a):\n",
    "            answer.append(\"O\")\n",
    "        else:\n",
    "            answer.append(\"X\")\n",
    "    return answer\n",
    "solution(q)"
   ]
  },
  {
   "attachments": {},
   "cell_type": "markdown",
   "metadata": {},
   "source": [
    "[자릿수 더하기](https://school.programmers.co.kr/learn/courses/30/lessons/120906)"
   ]
  },
  {
   "cell_type": "code",
   "execution_count": 38,
   "metadata": {},
   "outputs": [
    {
     "data": {
      "text/plain": [
       "16"
      ]
     },
     "execution_count": 38,
     "metadata": {},
     "output_type": "execute_result"
    }
   ],
   "source": [
    "def solution(n):\n",
    "    answer = 0\n",
    "    for x in list(map(int, str(n))):\n",
    "        answer += x\n",
    "    return answer\n",
    "\n",
    "n = 930211\n",
    "solution(n)"
   ]
  },
  {
   "attachments": {},
   "cell_type": "markdown",
   "metadata": {},
   "source": [
    "[n의 배수 고르기](https://school.programmers.co.kr/learn/courses/30/lessons/120905)"
   ]
  },
  {
   "cell_type": "code",
   "execution_count": 41,
   "metadata": {},
   "outputs": [
    {
     "data": {
      "text/plain": [
       "[6, 9, 12]"
      ]
     },
     "execution_count": 41,
     "metadata": {},
     "output_type": "execute_result"
    }
   ],
   "source": [
    "def solution(n, numlist):\n",
    "    answer = []\n",
    "    for x in numlist:\n",
    "        # print(x)\n",
    "        if x % n == 0:\n",
    "            answer.append(x)\n",
    "    return answer\n",
    "\n",
    "n = 3\n",
    "numlist = [4, 5, 6, 7, 8, 9, 10, 11, 12]\n",
    "solution(n, numlist)"
   ]
  },
  {
   "attachments": {},
   "cell_type": "markdown",
   "metadata": {},
   "source": [
    "[숫자 찾기](https://school.programmers.co.kr/learn/courses/30/lessons/120904)"
   ]
  },
  {
   "cell_type": "code",
   "execution_count": 79,
   "metadata": {},
   "outputs": [
    {
     "data": {
      "text/plain": [
       "3"
      ]
     },
     "execution_count": 79,
     "metadata": {},
     "output_type": "execute_result"
    }
   ],
   "source": [
    "def solution(num, k):\n",
    "    answer = 0\n",
    "    count = 0\n",
    "    for x in list(map(int,str(num))):\n",
    "        count += 1\n",
    "        if x == k:\n",
    "            answer = count\n",
    "            break\n",
    "        else:\n",
    "            answer = -1\n",
    "    return answer #if answer != 0 else -1\n",
    "\n",
    "num = 29183\n",
    "k = 1\n",
    "solution(num, k)"
   ]
  },
  {
   "attachments": {},
   "cell_type": "markdown",
   "metadata": {},
   "source": [
    "##### 숫자 찾기 다른사람풀이"
   ]
  },
  {
   "attachments": {},
   "cell_type": "markdown",
   "metadata": {},
   "source": [
    "enumerate\n",
    "- 반복문 사용 시 몇 번째 반복문인지 확인이 필요할 수 있습니다. 이때 사용합니다.\n",
    "- 인덱스 번호와 컬렉션의 원소를 tuple형태로 반환합니다."
   ]
  },
  {
   "cell_type": "code",
   "execution_count": 83,
   "metadata": {},
   "outputs": [],
   "source": [
    "def solution(num, k):\n",
    "    for i, n in enumerate(str(num)):\n",
    "        if str(k) == n:\n",
    "            return i + 1\n",
    "    return -1"
   ]
  }
 ],
 "metadata": {
  "kernelspec": {
   "display_name": "tf",
   "language": "python",
   "name": "python3"
  },
  "language_info": {
   "codemirror_mode": {
    "name": "ipython",
    "version": 3
   },
   "file_extension": ".py",
   "mimetype": "text/x-python",
   "name": "python",
   "nbconvert_exporter": "python",
   "pygments_lexer": "ipython3",
   "version": "3.9.13"
  },
  "orig_nbformat": 4,
  "vscode": {
   "interpreter": {
    "hash": "d92db622cb5bb78c2c77e21c3317885bdf8c1e85044705cff7d629a77fb46d17"
   }
  }
 },
 "nbformat": 4,
 "nbformat_minor": 2
}
