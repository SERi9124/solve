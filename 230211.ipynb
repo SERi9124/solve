{
 "cells": [
  {
   "attachments": {},
   "cell_type": "markdown",
   "metadata": {},
   "source": [
    "[배열의 유사도](https://school.programmers.co.kr/learn/courses/30/lessons/120903)"
   ]
  },
  {
   "cell_type": "code",
   "execution_count": 1,
   "metadata": {},
   "outputs": [
    {
     "data": {
      "text/plain": [
       "2"
      ]
     },
     "execution_count": 1,
     "metadata": {},
     "output_type": "execute_result"
    }
   ],
   "source": [
    "def solution(s1, s2):\n",
    "    answer = 0\n",
    "    for x in s1:\n",
    "        for y in s2:\n",
    "            if x == y:\n",
    "                answer += 1\n",
    "    return answer\n",
    "\n",
    "s1 = [\"a\", \"b\", \"c\"]\n",
    "s2 = [\"com\", \"b\", \"d\", \"p\", \"c\"]\n",
    "solution(s1, s2)"
   ]
  },
  {
   "attachments": {},
   "cell_type": "markdown",
   "metadata": {},
   "source": [
    "[문자열 계산하기](https://school.programmers.co.kr/learn/courses/30/lessons/120902)"
   ]
  },
  {
   "cell_type": "code",
   "execution_count": 2,
   "metadata": {},
   "outputs": [
    {
     "data": {
      "text/plain": [
       "7"
      ]
     },
     "execution_count": 2,
     "metadata": {},
     "output_type": "execute_result"
    }
   ],
   "source": [
    "def solution(my_string):\n",
    "    answer = eval(my_string)\n",
    "    return answer\n",
    "\n",
    "my_string = \"3 + 4\"\n",
    "solution(my_string)"
   ]
  },
  {
   "attachments": {},
   "cell_type": "markdown",
   "metadata": {},
   "source": [
    "[가장 큰 수 찾기](https://school.programmers.co.kr/learn/courses/30/lessons/120899)"
   ]
  },
  {
   "cell_type": "code",
   "execution_count": 14,
   "metadata": {},
   "outputs": [
    {
     "data": {
      "text/plain": [
       "[11, 2]"
      ]
     },
     "execution_count": 14,
     "metadata": {},
     "output_type": "execute_result"
    }
   ],
   "source": [
    "def solution(array):\n",
    "    answer = [0,0]\n",
    "    temp = array[0]\n",
    "    for x, y in enumerate(array):\n",
    "        if temp < y:\n",
    "            temp = y\n",
    "            answer[0] = y\n",
    "            answer[1] = x\n",
    "    return answer\n",
    "\n",
    "array = [9, 10, 11, 8]\n",
    "solution(array)"
   ]
  },
  {
   "attachments": {},
   "cell_type": "markdown",
   "metadata": {},
   "source": [
    "##### 가장 큰 수 찾기 다른사람풀이"
   ]
  },
  {
   "attachments": {},
   "cell_type": "markdown",
   "metadata": {},
   "source": [
    "max로 리스트내 가장 큰값찾고, 그 큰값의 인덱스를 index()로 찾아벌임"
   ]
  },
  {
   "cell_type": "code",
   "execution_count": null,
   "metadata": {},
   "outputs": [],
   "source": [
    "def solution(array):\n",
    "    answer = []\n",
    "    answer.append(max(array))\n",
    "    answer.append(array.index(max(array)))\n",
    "    return answer"
   ]
  },
  {
   "cell_type": "code",
   "execution_count": null,
   "metadata": {},
   "outputs": [],
   "source": []
  }
 ],
 "metadata": {
  "kernelspec": {
   "display_name": "tf",
   "language": "python",
   "name": "python3"
  },
  "language_info": {
   "codemirror_mode": {
    "name": "ipython",
    "version": 3
   },
   "file_extension": ".py",
   "mimetype": "text/x-python",
   "name": "python",
   "nbconvert_exporter": "python",
   "pygments_lexer": "ipython3",
   "version": "3.9.13"
  },
  "orig_nbformat": 4,
  "vscode": {
   "interpreter": {
    "hash": "d92db622cb5bb78c2c77e21c3317885bdf8c1e85044705cff7d629a77fb46d17"
   }
  }
 },
 "nbformat": 4,
 "nbformat_minor": 2
}
