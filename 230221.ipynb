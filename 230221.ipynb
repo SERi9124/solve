{
 "cells": [
  {
   "attachments": {},
   "cell_type": "markdown",
   "metadata": {},
   "source": [
    "[369게임](https://school.programmers.co.kr/learn/courses/30/lessons/120891)"
   ]
  },
  {
   "cell_type": "code",
   "execution_count": 12,
   "metadata": {},
   "outputs": [
    {
     "data": {
      "text/plain": [
       "2"
      ]
     },
     "execution_count": 12,
     "metadata": {},
     "output_type": "execute_result"
    }
   ],
   "source": [
    "def solution(order):\n",
    "    answer = 0\n",
    "    for x in list(map(int,str(order))):\n",
    "        if x == 3:\n",
    "            answer +=1\n",
    "        elif x == 6:\n",
    "            answer +=1\n",
    "        elif x == 9:\n",
    "            answer +=1\n",
    "    return answer\n",
    "\n",
    "order = 29423\n",
    "solution(order)"
   ]
  },
  {
   "attachments": {},
   "cell_type": "markdown",
   "metadata": {},
   "source": [
    "##### 369게임 다른풀이"
   ]
  },
  {
   "cell_type": "code",
   "execution_count": 15,
   "metadata": {},
   "outputs": [
    {
     "data": {
      "text/plain": [
       "2"
      ]
     },
     "execution_count": 15,
     "metadata": {},
     "output_type": "execute_result"
    }
   ],
   "source": [
    "order = 29423\n",
    "order_str = str(order) # int형을 str형으로 형변환\n",
    "order_str.count('3') + order_str.count('6') + order_str.count('9') \n",
    "# count함수를 통해서 개수를 찾아서 더하기"
   ]
  },
  {
   "attachments": {},
   "cell_type": "markdown",
   "metadata": {},
   "source": [
    "[가까운 수](https://school.programmers.co.kr/learn/courses/30/lessons/120890)"
   ]
  },
  {
   "cell_type": "code",
   "execution_count": 67,
   "metadata": {},
   "outputs": [
    {
     "data": {
      "text/plain": [
       "12"
      ]
     },
     "execution_count": 67,
     "metadata": {},
     "output_type": "execute_result"
    }
   ],
   "source": [
    "def solution(array, n):\n",
    "    # 1차\n",
    "    # answer_list = []\n",
    "    # for x in array:\n",
    "    #     answer_list.append(x-n)\n",
    "    # answer = array[answer_list.index(max(answer_list))]\n",
    "    # return answer\n",
    "\n",
    "    # 2차\n",
    "    # temp = array[0]\n",
    "    # for x in array:\n",
    "    #     if (x-n) < temp:\n",
    "    #         temp = x-n\n",
    "    #         answer = x\n",
    "    # return answer\n",
    "\n",
    "    # 3차\n",
    "    temp = []\n",
    "    array.sort()\n",
    "    for x in array:\n",
    "        temp.append(abs(x-n))\n",
    "\n",
    "    answer = array[temp.index(min(temp))]\n",
    "    return answer\n",
    "\n",
    "array = [40, 12, 24]\n",
    "n = 13\n",
    "solution(array, n)"
   ]
  },
  {
   "attachments": {},
   "cell_type": "markdown",
   "metadata": {},
   "source": [
    "[중복된 문자 제거](https://school.programmers.co.kr/learn/courses/30/lessons/120888)"
   ]
  },
  {
   "cell_type": "code",
   "execution_count": 97,
   "metadata": {},
   "outputs": [
    {
     "data": {
      "text/plain": [
       "'We arthwold'"
      ]
     },
     "execution_count": 97,
     "metadata": {},
     "output_type": "execute_result"
    }
   ],
   "source": [
    "def solution(my_string):\n",
    "    answer = []   \n",
    "    for x in list(map(str, str(my_string))):\n",
    "        if x not in answer:\n",
    "            answer.append(x)\n",
    "\n",
    "    return ''.join(answer)\n",
    "\n",
    "my_string = \"We are the world\"\n",
    "solution(my_string)"
   ]
  },
  {
   "attachments": {},
   "cell_type": "markdown",
   "metadata": {},
   "source": [
    "##### 중본된 문자 제거 다른사람 풀이"
   ]
  },
  {
   "cell_type": "code",
   "execution_count": 100,
   "metadata": {},
   "outputs": [
    {
     "data": {
      "text/plain": [
       "'We arthwold'"
      ]
     },
     "execution_count": 100,
     "metadata": {},
     "output_type": "execute_result"
    }
   ],
   "source": [
    "def solution(my_string):\n",
    "    answer = ''\n",
    "    for i in my_string: \n",
    "        # 굳이 리스트형으로 변환하지 않아도 str형은 for문 돌리면 한글자씩 반환\n",
    "        if i not in answer:\n",
    "            answer+=i \n",
    "            # 그러므로 리스트의 append가 아닌 문자열더하기로 가능\n",
    "    return answer\n",
    "\n",
    "my_string = \"We are the world\"\n",
    "solution(my_string)"
   ]
  },
  {
   "attachments": {},
   "cell_type": "markdown",
   "metadata": {},
   "source": [
    "[k의 개수](https://school.programmers.co.kr/learn/courses/30/lessons/120887)"
   ]
  },
  {
   "cell_type": "code",
   "execution_count": 111,
   "metadata": {},
   "outputs": [
    {
     "data": {
      "text/plain": [
       "14"
      ]
     },
     "execution_count": 111,
     "metadata": {},
     "output_type": "execute_result"
    }
   ],
   "source": [
    "def solution(i, j, k):\n",
    "    answer = 0\n",
    "    k_str = str(k)\n",
    "\n",
    "    for x in range(i,j+1):\n",
    "        answer += str(x).count(k_str)\n",
    "    return answer\n",
    "\n",
    "i = 10\n",
    "j = 50\n",
    "k = 1\n",
    "solution(i,j,k)"
   ]
  },
  {
   "attachments": {},
   "cell_type": "markdown",
   "metadata": {},
   "source": [
    "[A로 B만들기](https://school.programmers.co.kr/learn/courses/30/lessons/120886)"
   ]
  },
  {
   "cell_type": "code",
   "execution_count": 115,
   "metadata": {},
   "outputs": [
    {
     "data": {
      "text/plain": [
       "1"
      ]
     },
     "execution_count": 115,
     "metadata": {},
     "output_type": "execute_result"
    }
   ],
   "source": [
    "# def solution(before, after):\n",
    "#     answer = 0\n",
    "\n",
    "#     if before[::-1] == after:\n",
    "#         answer = 1\n",
    "#     else:\n",
    "#         answer = 0\n",
    "\n",
    "#     # print(before[::-1])\n",
    "#     return answer\n",
    "\n",
    "# before = \"olleh\"\n",
    "# after = \"hello\"\n",
    "# solution(before, after)"
   ]
  },
  {
   "cell_type": "code",
   "execution_count": null,
   "metadata": {},
   "outputs": [],
   "source": []
  }
 ],
 "metadata": {
  "kernelspec": {
   "display_name": "tf",
   "language": "python",
   "name": "python3"
  },
  "language_info": {
   "codemirror_mode": {
    "name": "ipython",
    "version": 3
   },
   "file_extension": ".py",
   "mimetype": "text/x-python",
   "name": "python",
   "nbconvert_exporter": "python",
   "pygments_lexer": "ipython3",
   "version": "3.9.13"
  },
  "orig_nbformat": 4,
  "vscode": {
   "interpreter": {
    "hash": "d92db622cb5bb78c2c77e21c3317885bdf8c1e85044705cff7d629a77fb46d17"
   }
  }
 },
 "nbformat": 4,
 "nbformat_minor": 2
}
