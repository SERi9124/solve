{
 "cells": [
  {
   "attachments": {},
   "cell_type": "markdown",
   "metadata": {},
   "source": [
    "[7의 개수](https://school.programmers.co.kr/learn/courses/30/lessons/120912)"
   ]
  },
  {
   "cell_type": "code",
   "execution_count": 26,
   "metadata": {},
   "outputs": [
    {
     "data": {
      "text/plain": [
       "4"
      ]
     },
     "execution_count": 26,
     "metadata": {},
     "output_type": "execute_result"
    }
   ],
   "source": [
    "def solution(array):\n",
    "    answer = 0\n",
    "    # list(map(str, array))\n",
    "    for x in list(map(str, array)):\n",
    "        for y in str(x):\n",
    "            # print(y)\n",
    "            if y == '7':\n",
    "                answer += 1\n",
    "    return answer\n",
    "\n",
    "array = [7, 77, 17]\n",
    "solution(array)"
   ]
  },
  {
   "attachments": {},
   "cell_type": "markdown",
   "metadata": {},
   "source": [
    "[점의 위치 구하기](https://school.programmers.co.kr/learn/courses/30/lessons/120841)"
   ]
  },
  {
   "cell_type": "code",
   "execution_count": 1,
   "metadata": {},
   "outputs": [
    {
     "data": {
      "text/plain": [
       "2"
      ]
     },
     "execution_count": 1,
     "metadata": {},
     "output_type": "execute_result"
    }
   ],
   "source": [
    "def solution(dot):\n",
    "    answer = 0\n",
    "    if dot[0] > 0 and dot[1] > 0 :\n",
    "        answer = 1\n",
    "    elif dot[0] < 0 and dot[1] > 0 :\n",
    "        answer = 2\n",
    "    elif dot[0] < 0 and dot[1] < 0 : \n",
    "        answer = 3\n",
    "    else :\n",
    "        answer = 4\n",
    "    return answer\n",
    "\n",
    "dot = [-7, 9]\n",
    "solution(dot)"
   ]
  },
  {
   "attachments": {},
   "cell_type": "markdown",
   "metadata": {},
   "source": [
    "[삼각형의 완성조건(1)](https://school.programmers.co.kr/learn/courses/30/lessons/120889)"
   ]
  },
  {
   "cell_type": "code",
   "execution_count": 6,
   "metadata": {},
   "outputs": [
    {
     "data": {
      "text/plain": [
       "1"
      ]
     },
     "execution_count": 6,
     "metadata": {},
     "output_type": "execute_result"
    }
   ],
   "source": [
    "def solution(sides):\n",
    "    answer = 0\n",
    "    if max(sides) < sum(sides) - max(sides) :\n",
    "        answer = 1\n",
    "    else :\n",
    "        answer = 2\n",
    "    return answer\n",
    "\n",
    "sides = [199, 72, 222]\n",
    "solution(sides)"
   ]
  },
  {
   "attachments": {},
   "cell_type": "markdown",
   "metadata": {},
   "source": [
    "[배열 자르기](https://school.programmers.co.kr/learn/courses/30/lessons/120833)"
   ]
  },
  {
   "cell_type": "code",
   "execution_count": 8,
   "metadata": {},
   "outputs": [
    {
     "data": {
      "text/plain": [
       "[2, 3, 4]"
      ]
     },
     "execution_count": 8,
     "metadata": {},
     "output_type": "execute_result"
    }
   ],
   "source": [
    "def solution(numbers, num1, num2):\n",
    "    answer = numbers[num1:num2+1]\n",
    "    return answer\n",
    "\n",
    "numbers = [1,2,3,4,5]\n",
    "num1 = 1\n",
    "num2 = 3\n",
    "\n",
    "solution(numbers, num1, num2)"
   ]
  },
  {
   "attachments": {},
   "cell_type": "markdown",
   "metadata": {},
   "source": [
    "[최댓값 만들기(1)](https://school.programmers.co.kr/learn/courses/30/lessons/120847)"
   ]
  },
  {
   "cell_type": "code",
   "execution_count": 19,
   "metadata": {},
   "outputs": [
    {
     "data": {
      "text/plain": [
       "744"
      ]
     },
     "execution_count": 19,
     "metadata": {},
     "output_type": "execute_result"
    }
   ],
   "source": [
    "def solution(numbers):\n",
    "    # index = numbers.index(max(numbers))\n",
    "    # max1 = numbers.pop(index)\n",
    "    # answer = max1 * max(numbers)\n",
    "\n",
    "    answer = numbers.pop(numbers.index(max(numbers)))\n",
    "    answer *= max(numbers)\n",
    "    return answer\n",
    "    \n",
    "numbers = [0,31,24,10,1,9]\n",
    "solution(numbers)"
   ]
  },
  {
   "attachments": {},
   "cell_type": "markdown",
   "metadata": {},
   "source": [
    "[짝수는 싫어요](https://school.programmers.co.kr/learn/courses/30/lessons/120813)"
   ]
  },
  {
   "cell_type": "code",
   "execution_count": 25,
   "metadata": {},
   "outputs": [
    {
     "data": {
      "text/plain": [
       "[1, 3, 5, 7, 9, 11, 13, 15]"
      ]
     },
     "execution_count": 25,
     "metadata": {},
     "output_type": "execute_result"
    }
   ],
   "source": [
    "def solution(n):\n",
    "    answer = []\n",
    "    for x in range(n+1):\n",
    "        if x % 2 != 0:\n",
    "            answer.append(x)\n",
    "        \n",
    "    # 컴프리헨션 사용해보기\n",
    "    # [answer.append(x) for x in range(n+1) if x%2 != 0]\n",
    "    \n",
    "    return answer\n",
    "\n",
    "n = 15\n",
    "solution(n)"
   ]
  },
  {
   "attachments": {},
   "cell_type": "markdown",
   "metadata": {},
   "source": [
    "[아이스 아메리카노](https://school.programmers.co.kr/learn/courses/30/lessons/120819)"
   ]
  },
  {
   "cell_type": "code",
   "execution_count": 30,
   "metadata": {},
   "outputs": [
    {
     "data": {
      "text/plain": [
       "[2, 4000]"
      ]
     },
     "execution_count": 30,
     "metadata": {},
     "output_type": "execute_result"
    }
   ],
   "source": [
    "def solution(money):\n",
    "    answer = []\n",
    "    coffee = 5500\n",
    "    answer.append(money//coffee)\n",
    "    answer.append(money%coffee)\n",
    "    \n",
    "    return answer\n",
    "\n",
    "money = 15000\n",
    "solution(money)"
   ]
  },
  {
   "attachments": {},
   "cell_type": "markdown",
   "metadata": {},
   "source": [
    "[문자 반복 출력하기](https://school.programmers.co.kr/learn/courses/30/lessons/120825)"
   ]
  },
  {
   "cell_type": "code",
   "execution_count": 41,
   "metadata": {},
   "outputs": [
    {
     "data": {
      "text/plain": [
       "'hhheeellllllooo'"
      ]
     },
     "execution_count": 41,
     "metadata": {},
     "output_type": "execute_result"
    }
   ],
   "source": [
    "def solution(my_string, n):\n",
    "    answer = []\n",
    "    for x in my_string:\n",
    "        answer.append(x*n)\n",
    "    return ''.join(answer)\n",
    "\n",
    "my_string = \"hello\"\n",
    "n = 3\n",
    "solution(my_string, n)"
   ]
  },
  {
   "attachments": {},
   "cell_type": "markdown",
   "metadata": {},
   "source": [
    "[평행](https://school.programmers.co.kr/learn/courses/30/lessons/120875)"
   ]
  },
  {
   "cell_type": "code",
   "execution_count": 50,
   "metadata": {},
   "outputs": [
    {
     "data": {
      "text/plain": [
       "0"
      ]
     },
     "execution_count": 50,
     "metadata": {},
     "output_type": "execute_result"
    }
   ],
   "source": [
    "def solution(dots):\n",
    "    arr = []\n",
    "    for x in dots:\n",
    "        arr.append(x[0])\n",
    "        arr.append(x[1])\n",
    "    # set(answer)\n",
    "    if len(arr) != len(set(arr)):\n",
    "        answer = 0\n",
    "    else :\n",
    "        answer = 1\n",
    "    return answer\n",
    "\n",
    "# dots = [[1, 4], [9, 2], [3, 8], [11, 6]]\n",
    "dots = [[3, 5], [4, 1], [2, 4], [5, 10]]\n",
    "solution(dots)\n",
    "\n",
    "# 기울기 구하는 공식\n",
    "# (y2 - y1) / (x2 - x1)"
   ]
  },
  {
   "cell_type": "code",
   "execution_count": null,
   "metadata": {},
   "outputs": [],
   "source": []
  }
 ],
 "metadata": {
  "kernelspec": {
   "display_name": "tf",
   "language": "python",
   "name": "python3"
  },
  "language_info": {
   "codemirror_mode": {
    "name": "ipython",
    "version": 3
   },
   "file_extension": ".py",
   "mimetype": "text/x-python",
   "name": "python",
   "nbconvert_exporter": "python",
   "pygments_lexer": "ipython3",
   "version": "3.9.13 (main, Oct 13 2022, 21:23:06) [MSC v.1916 64 bit (AMD64)]"
  },
  "orig_nbformat": 4,
  "vscode": {
   "interpreter": {
    "hash": "d92db622cb5bb78c2c77e21c3317885bdf8c1e85044705cff7d629a77fb46d17"
   }
  }
 },
 "nbformat": 4,
 "nbformat_minor": 2
}
