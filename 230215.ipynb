{
 "cells": [
  {
   "attachments": {},
   "cell_type": "markdown",
   "metadata": {},
   "source": [
    "[암호 해독](https://school.programmers.co.kr/learn/courses/30/lessons/120892)"
   ]
  },
  {
   "cell_type": "code",
   "execution_count": 19,
   "metadata": {},
   "outputs": [
    {
     "name": "stdout",
     "output_type": "stream",
     "text": [
      "3\n",
      "7\n",
      "11\n",
      "15\n",
      "19\n",
      "23\n"
     ]
    },
    {
     "data": {
      "text/plain": [
       "'attack'"
      ]
     },
     "execution_count": 19,
     "metadata": {},
     "output_type": "execute_result"
    }
   ],
   "source": [
    "def solution(cipher, code):\n",
    "    answer = ''\n",
    "    for x in range(code-1,len(cipher),code):\n",
    "        answer += cipher[x]\n",
    "    return answer\n",
    "\n",
    "cipher = \"dfjardstddetckdaccccdegk\"\n",
    "# cipher = \"pfqallllabwaoclk\"\n",
    "code = 4\n",
    "# code = 2\n",
    "solution(cipher, code)"
   ]
  },
  {
   "attachments": {},
   "cell_type": "markdown",
   "metadata": {},
   "source": [
    "[겹치는 선분의 길이](https://school.programmers.co.kr/learn/courses/30/lessons/120876)"
   ]
  },
  {
   "cell_type": "code",
   "execution_count": 23,
   "metadata": {},
   "outputs": [
    {
     "data": {
      "text/plain": [
       "0"
      ]
     },
     "execution_count": 23,
     "metadata": {},
     "output_type": "execute_result"
    }
   ],
   "source": [
    "from collections import Counter\n",
    "\n",
    "def solution(lines):\n",
    "    answer_list = []\n",
    "    count = 0\n",
    "    for x,y in lines:\n",
    "        for z in range(x+1,y+1):\n",
    "            answer_list.append(z)\n",
    "\n",
    "    answer_dict = dict(Counter(answer_list))\n",
    "\n",
    "    for k in answer_dict.values():\n",
    "        if k >= 2:\n",
    "            count += 1\n",
    "    return count\n",
    "\n",
    "# lines = [[0, 5], [3, 9], [1, 10]]\n",
    "lines = [[-1, 1], [1, 3], [3, 9]]\n",
    "solution(lines)"
   ]
  },
  {
   "attachments": {},
   "cell_type": "markdown",
   "metadata": {},
   "source": [
    "[안전지대](https://school.programmers.co.kr/learn/courses/30/lessons/120866)"
   ]
  },
  {
   "cell_type": "code",
   "execution_count": 33,
   "metadata": {},
   "outputs": [
    {
     "name": "stdout",
     "output_type": "stream",
     "text": [
      "1\n",
      "25\n"
     ]
    },
    {
     "data": {
      "text/plain": [
       "0"
      ]
     },
     "execution_count": 33,
     "metadata": {},
     "output_type": "execute_result"
    }
   ],
   "source": [
    "def solution(board):\n",
    "    answer = 0\n",
    "    return answer\n",
    "\n",
    "board = [[0, 0, 0, 0, 0], \n",
    "         [0, 0, 0, 0, 0], \n",
    "         [0, 0, 0, 0, 0], \n",
    "         [0, 0, 1, 0, 0], \n",
    "         [0, 0, 0, 0, 0]]\n",
    "solution(board)"
   ]
  },
  {
   "cell_type": "code",
   "execution_count": 34,
   "metadata": {},
   "outputs": [
    {
     "ename": "ValueError",
     "evalue": "1 is not in list",
     "output_type": "error",
     "traceback": [
      "\u001b[1;31m---------------------------------------------------------------------------\u001b[0m",
      "\u001b[1;31mValueError\u001b[0m                                Traceback (most recent call last)",
      "Cell \u001b[1;32mIn [34], line 6\u001b[0m\n\u001b[0;32m      1\u001b[0m board \u001b[39m=\u001b[39m [[\u001b[39m0\u001b[39m, \u001b[39m0\u001b[39m, \u001b[39m0\u001b[39m, \u001b[39m0\u001b[39m, \u001b[39m0\u001b[39m], \n\u001b[0;32m      2\u001b[0m          [\u001b[39m0\u001b[39m, \u001b[39m1\u001b[39m, \u001b[39m0\u001b[39m, \u001b[39m0\u001b[39m, \u001b[39m0\u001b[39m], \n\u001b[0;32m      3\u001b[0m          [\u001b[39m0\u001b[39m, \u001b[39m0\u001b[39m, \u001b[39m0\u001b[39m, \u001b[39m0\u001b[39m, \u001b[39m0\u001b[39m], \n\u001b[0;32m      4\u001b[0m          [\u001b[39m0\u001b[39m, \u001b[39m1\u001b[39m, \u001b[39m1\u001b[39m, \u001b[39m1\u001b[39m, \u001b[39m0\u001b[39m], \n\u001b[0;32m      5\u001b[0m          [\u001b[39m0\u001b[39m, \u001b[39m0\u001b[39m, \u001b[39m0\u001b[39m, \u001b[39m0\u001b[39m, \u001b[39m0\u001b[39m]]\n\u001b[1;32m----> 6\u001b[0m board\u001b[39m.\u001b[39;49mindex(\u001b[39m1\u001b[39;49m)\n",
      "\u001b[1;31mValueError\u001b[0m: 1 is not in list"
     ]
    }
   ],
   "source": [
    "board = [[0, 0, 0, 0, 0], \n",
    "         [0, 1, 0, 0, 0], \n",
    "         [0, 0, 0, 0, 0], \n",
    "         [0, 1, 1, 1, 0], \n",
    "         [0, 0, 0, 0, 0]]\n",
    "board.index(1) "
   ]
  },
  {
   "cell_type": "code",
   "execution_count": 25,
   "metadata": {},
   "outputs": [
    {
     "data": {
      "text/plain": [
       "6"
      ]
     },
     "execution_count": 25,
     "metadata": {},
     "output_type": "execute_result"
    }
   ],
   "source": []
  },
  {
   "cell_type": "code",
   "execution_count": null,
   "metadata": {},
   "outputs": [],
   "source": []
  },
  {
   "cell_type": "code",
   "execution_count": null,
   "metadata": {},
   "outputs": [],
   "source": []
  }
 ],
 "metadata": {
  "kernelspec": {
   "display_name": "tf",
   "language": "python",
   "name": "python3"
  },
  "language_info": {
   "codemirror_mode": {
    "name": "ipython",
    "version": 3
   },
   "file_extension": ".py",
   "mimetype": "text/x-python",
   "name": "python",
   "nbconvert_exporter": "python",
   "pygments_lexer": "ipython3",
   "version": "3.9.13"
  },
  "orig_nbformat": 4,
  "vscode": {
   "interpreter": {
    "hash": "d92db622cb5bb78c2c77e21c3317885bdf8c1e85044705cff7d629a77fb46d17"
   }
  }
 },
 "nbformat": 4,
 "nbformat_minor": 2
}
