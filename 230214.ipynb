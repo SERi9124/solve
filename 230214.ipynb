{
 "cells": [
  {
   "attachments": {},
   "cell_type": "markdown",
   "metadata": {},
   "source": [
    "[영어가 싫어요](https://school.programmers.co.kr/learn/courses/30/lessons/120894?language=python3)"
   ]
  },
  {
   "cell_type": "code",
   "execution_count": 36,
   "metadata": {},
   "outputs": [
    {
     "data": {
      "text/plain": [
       "123456789"
      ]
     },
     "execution_count": 36,
     "metadata": {},
     "output_type": "execute_result"
    }
   ],
   "source": [
    "def solution(numbers):\n",
    "    answer = 0\n",
    "    dict = {\"one\" : \"1\",\n",
    "            \"two\" : \"2\",\n",
    "            \"three\" : \"3\",\n",
    "            \"four\" : \"4\",\n",
    "            \"five\" : \"5\",\n",
    "            \"six\" : \"6\",\n",
    "            \"seven\" : \"7\",\n",
    "            \"eight\" : \"8\",\n",
    "            \"nine\" : \"9\",\n",
    "            \"zero\" : \"0\"}\n",
    "\n",
    "    for x in dict:\n",
    "        numbers = numbers.replace(x,dict.get(x))\n",
    "        \n",
    "    return int(numbers)\n",
    "\n",
    "numbers = \"onetwothreefourfivesixseveneightnine\"\n",
    "solution(numbers)"
   ]
  },
  {
   "attachments": {},
   "cell_type": "markdown",
   "metadata": {},
   "source": [
    "##### 영어가 싫어요 다른사람 풀이"
   ]
  },
  {
   "attachments": {},
   "cell_type": "markdown",
   "metadata": {},
   "source": [
    "리스트를 생성해서 for문의 enumerate를 통해서 해결 <br>\n",
    "-> 이걸 생각했는데, dict로 map을 하면 쉽게 될것만 같았는데 안됬음.."
   ]
  },
  {
   "cell_type": "code",
   "execution_count": 41,
   "metadata": {},
   "outputs": [
    {
     "data": {
      "text/plain": [
       "12345678"
      ]
     },
     "execution_count": 41,
     "metadata": {},
     "output_type": "execute_result"
    }
   ],
   "source": [
    "def solution(numbers):\n",
    "    answer = 0\n",
    "    num_list = [\"one\" , \"two\" , \"three\" , \"four\" , \"five\" , \n",
    "                \"six\" , \"seven\" , \"eight\" , \"nine\" , \"zero\"]\n",
    "    for x,y in enumerate(num_list):\n",
    "        numbers = numbers.replace(y,str(x))\n",
    "    return int(numbers)\n",
    "\n",
    "numbers = \"onetwothreefourfivesixseveneightnine\"\n",
    "solution(numbers)"
   ]
  },
  {
   "attachments": {},
   "cell_type": "markdown",
   "metadata": {},
   "source": [
    "[모음 제거](https://school.programmers.co.kr/learn/courses/30/lessons/120849)"
   ]
  },
  {
   "cell_type": "code",
   "execution_count": 39,
   "metadata": {},
   "outputs": [
    {
     "data": {
      "text/plain": [
       "'nc t mt y'"
      ]
     },
     "execution_count": 39,
     "metadata": {},
     "output_type": "execute_result"
    }
   ],
   "source": [
    "def solution(my_string):\n",
    "    vowel = [\"a\", \"e\", \"i\", \"o\", \"u\"]\n",
    "    for x in my_string:\n",
    "        if x in vowel:\n",
    "            my_string = my_string.replace(x,\"\")\n",
    "    return my_string\n",
    "\n",
    "my_string = \"nice to meet you\"\n",
    "solution(my_string)"
   ]
  },
  {
   "attachments": {},
   "cell_type": "markdown",
   "metadata": {},
   "source": [
    "##### 모음 제거 다른사람 풀이"
   ]
  },
  {
   "attachments": {},
   "cell_type": "markdown",
   "metadata": {},
   "source": [
    "정규표현식으로 [aeiou]가 포함될경우 '' 로변환"
   ]
  },
  {
   "cell_type": "code",
   "execution_count": 40,
   "metadata": {},
   "outputs": [],
   "source": [
    "import re\n",
    "def solution(my_string):\n",
    "    return re.sub('[aeiou]', '', my_string)"
   ]
  },
  {
   "attachments": {},
   "cell_type": "markdown",
   "metadata": {},
   "source": [
    "[대문자와 소문자](https://school.programmers.co.kr/learn/courses/30/lessons/120893)"
   ]
  },
  {
   "cell_type": "code",
   "execution_count": 52,
   "metadata": {},
   "outputs": [
    {
     "data": {
      "text/plain": [
       "'CCCccc'"
      ]
     },
     "execution_count": 52,
     "metadata": {},
     "output_type": "execute_result"
    }
   ],
   "source": [
    "def solution(my_string):\n",
    "    answer = []\n",
    "    for x in my_string:\n",
    "        if x.islower() == True:\n",
    "            answer.append(x.upper())\n",
    "        else:\n",
    "            answer.append(x.lower())\n",
    "    return ''.join(answer)\n",
    "\n",
    "my_string = \"cccCCC\"\n",
    "solution(my_string)"
   ]
  },
  {
   "attachments": {},
   "cell_type": "markdown",
   "metadata": {},
   "source": [
    "[가위 바위 보](https://school.programmers.co.kr/learn/courses/30/lessons/120839)"
   ]
  },
  {
   "cell_type": "code",
   "execution_count": 53,
   "metadata": {},
   "outputs": [
    {
     "data": {
      "text/plain": [
       "'052'"
      ]
     },
     "execution_count": 53,
     "metadata": {},
     "output_type": "execute_result"
    }
   ],
   "source": [
    "def solution(rsp):\n",
    "    answer = ''\n",
    "    for x in rsp:\n",
    "        if x == \"2\":\n",
    "            answer += \"0\"\n",
    "        elif x == \"0\":\n",
    "            answer += \"5\"\n",
    "        else:\n",
    "            answer += \"2\"\n",
    "    return answer\n",
    "\n",
    "rsp = \"205\"\n",
    "solution(rsp)"
   ]
  },
  {
   "cell_type": "code",
   "execution_count": null,
   "metadata": {},
   "outputs": [],
   "source": []
  }
 ],
 "metadata": {
  "kernelspec": {
   "display_name": "base",
   "language": "python",
   "name": "python3"
  },
  "language_info": {
   "codemirror_mode": {
    "name": "ipython",
    "version": 3
   },
   "file_extension": ".py",
   "mimetype": "text/x-python",
   "name": "python",
   "nbconvert_exporter": "python",
   "pygments_lexer": "ipython3",
   "version": "3.9.15"
  },
  "orig_nbformat": 4,
  "vscode": {
   "interpreter": {
    "hash": "9dbe02be43e025ad15ca2bf85d874bf1fbf344ec6c3e0aa0e9ec91283bc7eb91"
   }
  }
 },
 "nbformat": 4,
 "nbformat_minor": 2
}
