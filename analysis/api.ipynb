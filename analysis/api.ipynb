{
 "cells": [
  {
   "cell_type": "markdown",
   "metadata": {},
   "source": [
    "curl -X GET \"https://apis.data.go.kr/1741000/ApplicationChangeRegistration/getApplicationChangeRegistration?ServiceKey=OLanqSK5beSik02NhQsKQT04nMt9pM%2BLvGQrqlvRAYGJYnucYKnQzh45cGjtX%2Bdz7mYHGhedcVXYTd9aPkCWuw%3D%3D&pageNo=2&numOfRows=100\" -H  \"accept: application/xml\""
   ]
  },
  {
   "cell_type": "code",
   "execution_count": 13,
   "metadata": {},
   "outputs": [],
   "source": [
    "import requests\n",
    "from bs4 import BeautifulSoup as bs\n",
    "import pprint\n",
    "import xmltodict\n",
    "import json\n",
    "import urllib.request\n",
    "import xml.dom.minidom"
   ]
  },
  {
   "cell_type": "code",
   "execution_count": null,
   "metadata": {},
   "outputs": [],
   "source": [
    "https://apis.data.go.kr/1741000/ApplicationChangeRegistration/getApplicationChangeRegistration?serviceKey=OLanqSK5beSik02NhQsKQT04nMt9pM%2BLvGQrqlvRAYGJYnucYKnQzh45cGjtX%2Bdz7mYHGhedcVXYTd9aPkCWuw%3D%3D&pageNo=1&numOfRows=10"
   ]
  },
  {
   "cell_type": "code",
   "execution_count": 33,
   "metadata": {},
   "outputs": [
    {
     "name": "stderr",
     "output_type": "stream",
     "text": [
      "c:\\Users\\tpfl1\\Anaconda3\\lib\\site-packages\\urllib3\\connectionpool.py:1045: InsecureRequestWarning: Unverified HTTPS request is being made to host 'apis.data.go.kr'. Adding certificate verification is strongly advised. See: https://urllib3.readthedocs.io/en/1.26.x/advanced-usage.html#ssl-warnings\n",
      "  warnings.warn(\n"
     ]
    },
    {
     "data": {
      "text/plain": [
       "<?xml version=\"1.0\" encoding=\"utf-8\"?>\n",
       "<soapenv:Envelope xmlns:soapenv=\"http://schemas.xmlsoap.org/soap/envelope/\">\n",
       "<soapenv:Body>\n",
       "<soapenv:Fault>\n",
       "<faultcode>soapenv:Server</faultcode>\n",
       "<faultstring>Policy Falsified</faultstring>\n",
       "<faultactor>https://apis.data.go.kr/1741000/ApplicationChangeRegistration?ServiceKey=OLanqSK5beSik02NhQsKQT04nMt9pM%2BLvGQrqlvRAYGJYnucYKnQzh45cGjtX%2Bdz7mYHGhedcVXYTd9aPkCWuw%3D%3D&amp;pageNo=2&amp;numOfRows=100</faultactor>\n",
       "<detail>\n",
       "<l7:policyResult status=\"Service Not Found.  The request may have been sent to an invalid URL, or intended for an unsupported operation.\" xmlns:l7=\"http://www.layer7tech.com/ws/policy/fault\"/>\n",
       "</detail>\n",
       "</soapenv:Fault>\n",
       "</soapenv:Body>\n",
       "</soapenv:Envelope>"
      ]
     },
     "execution_count": 33,
     "metadata": {},
     "output_type": "execute_result"
    }
   ],
   "source": [
    "# pageurl = 'https://apis.data.go.kr/1741000/ApplicationChangeRegistration' #/getApplicationChangeRegistration'\n",
    "# headers = {'accept': 'application/xml'}\n",
    "\n",
    "# params = {\n",
    "#           'ServiceKey': 'OLanqSK5beSik02NhQsKQT04nMt9pM+LvGQrqlvRAYGJYnucYKnQzh45cGjtX+dz7mYHGhedcVXYTd9aPkCWuw==',\n",
    "#         #   'ServiceKey': 'OLanqSK5beSik02NhQsKQT04nMt9pM%2BLvGQrqlvRAYGJYnucYKnQzh45cGjtX%2Bdz7mYHGhedcVXYTd9aPkCWuw%3D%3D',\n",
    "#           'pageNo': '2',\n",
    "#           'numOfRows': '100'\n",
    "#           }\n",
    "\n",
    "# response = requests.get(pageurl, params=params, verify=False)\n",
    "# result = bs(response.content, 'xml')\n",
    "\n",
    "# result"
   ]
  },
  {
   "cell_type": "code",
   "execution_count": 51,
   "metadata": {},
   "outputs": [
    {
     "name": "stderr",
     "output_type": "stream",
     "text": [
      "c:\\Users\\tpfl1\\Anaconda3\\lib\\site-packages\\urllib3\\connectionpool.py:1045: InsecureRequestWarning: Unverified HTTPS request is being made to host 'apis.data.go.kr'. Adding certificate verification is strongly advised. See: https://urllib3.readthedocs.io/en/1.26.x/advanced-usage.html#ssl-warnings\n",
      "  warnings.warn(\n"
     ]
    },
    {
     "data": {
      "text/plain": [
       "<?xml version=\"1.0\" encoding=\"utf-8\"?>\n",
       "<ApplicationChangeRegistration>\n",
       "<head>\n",
       "<totalCount>5</totalCount>\n",
       "<numOfRows>1000</numOfRows>\n",
       "<pageNo>1</pageNo>\n",
       "<type>XML</type>\n",
       "<RESULT>\n",
       "<resultCode>INFO-0</resultCode>\n",
       "<resultMsg>NOMAL SERVICE</resultMsg>\n",
       "</RESULT>\n",
       "</head>\n",
       "<row>\n",
       "<wrttimeid>2017</wrttimeid>\n",
       "<seq>1</seq>\n",
       "<tot>799</tot>\n",
       "<prop_subtot>593</prop_subtot>\n",
       "<prop_voice_phishing>206</prop_voice_phishing>\n",
       "<prop_prsn__pirate>217</prop_prsn__pirate>\n",
       "<prop_etc>170</prop_etc>\n",
       "<life_body_subtot>206</life_body_subtot>\n",
       "<life_body_domestic_violence>96</life_body_domestic_violence>\n",
       "<life_body_injury_threat>61</life_body_injury_threat>\n",
       "<life_body_sexual_violence>18</life_body_sexual_violence>\n",
       "<life_body_etc>31</life_body_etc>\n",
       "</row>\n",
       "<row>\n",
       "<wrttimeid>2018</wrttimeid>\n",
       "<seq>1</seq>\n",
       "<tot>560</tot>\n",
       "<prop_subtot>365</prop_subtot>\n",
       "<prop_voice_phishing>140</prop_voice_phishing>\n",
       "<prop_prsn__pirate>148</prop_prsn__pirate>\n",
       "<prop_etc>77</prop_etc>\n",
       "<life_body_subtot>195</life_body_subtot>\n",
       "<life_body_domestic_violence>93</life_body_domestic_violence>\n",
       "<life_body_injury_threat>47</life_body_injury_threat>\n",
       "<life_body_sexual_violence>23</life_body_sexual_violence>\n",
       "<life_body_etc>32</life_body_etc>\n",
       "</row>\n",
       "<row>\n",
       "<wrttimeid>2019</wrttimeid>\n",
       "<seq>1</seq>\n",
       "<tot>641</tot>\n",
       "<prop_subtot>426</prop_subtot>\n",
       "<prop_voice_phishing>238</prop_voice_phishing>\n",
       "<prop_prsn__pirate>85</prop_prsn__pirate>\n",
       "<prop_etc>103</prop_etc>\n",
       "<life_body_subtot>215</life_body_subtot>\n",
       "<life_body_domestic_violence>122</life_body_domestic_violence>\n",
       "<life_body_injury_threat>70</life_body_injury_threat>\n",
       "<life_body_sexual_violence>12</life_body_sexual_violence>\n",
       "<life_body_etc>11</life_body_etc>\n",
       "</row>\n",
       "<row>\n",
       "<wrttimeid>2020</wrttimeid>\n",
       "<seq>1</seq>\n",
       "<tot>1127</tot>\n",
       "<prop_subtot>868</prop_subtot>\n",
       "<prop_voice_phishing>576</prop_voice_phishing>\n",
       "<prop_prsn__pirate>125</prop_prsn__pirate>\n",
       "<prop_etc>167</prop_etc>\n",
       "<life_body_subtot>259</life_body_subtot>\n",
       "<life_body_domestic_violence>123</life_body_domestic_violence>\n",
       "<life_body_injury_threat>88</life_body_injury_threat>\n",
       "<life_body_sexual_violence>42</life_body_sexual_violence>\n",
       "<life_body_etc>6</life_body_etc>\n",
       "</row>\n",
       "<row>\n",
       "<wrttimeid>2021</wrttimeid>\n",
       "<seq>1</seq>\n",
       "<tot>1344</tot>\n",
       "<prop_subtot>1147</prop_subtot>\n",
       "<prop_voice_phishing>867</prop_voice_phishing>\n",
       "<prop_prsn__pirate>103</prop_prsn__pirate>\n",
       "<prop_etc>177</prop_etc>\n",
       "<life_body_subtot>197</life_body_subtot>\n",
       "<life_body_domestic_violence>95</life_body_domestic_violence>\n",
       "<life_body_injury_threat>48</life_body_injury_threat>\n",
       "<life_body_sexual_violence>41</life_body_sexual_violence>\n",
       "<life_body_etc>13</life_body_etc>\n",
       "</row>\n",
       "</ApplicationChangeRegistration>"
      ]
     },
     "execution_count": 51,
     "metadata": {},
     "output_type": "execute_result"
    }
   ],
   "source": [
    "pageurl = 'https://apis.data.go.kr/1741000/ApplicationChangeRegistration/getApplicationChangeRegistration'\n",
    "\n",
    "params = {\n",
    "          'ServiceKey': 'OLanqSK5beSik02NhQsKQT04nMt9pM+LvGQrqlvRAYGJYnucYKnQzh45cGjtX+dz7mYHGhedcVXYTd9aPkCWuw==',\n",
    "        #   'ServiceKey': 'OLanqSK5beSik02NhQsKQT04nMt9pM%2BLvGQrqlvRAYGJYnucYKnQzh45cGjtX%2Bdz7mYHGhedcVXYTd9aPkCWuw%3D%3D',\n",
    "          'pageNo': '1',\n",
    "          'numOfRows': '1000'\n",
    "          }\n",
    "\n",
    "response = requests.get(pageurl, params=params, verify=False)\n",
    "result = bs(response.content, 'xml')\n",
    "\n",
    "result"
   ]
  },
  {
   "cell_type": "code",
   "execution_count": 52,
   "metadata": {},
   "outputs": [
    {
     "data": {
      "text/plain": [
       "{'ApplicationChangeRegistration': {'head': {'totalCount': '5',\n",
       "   'numOfRows': '1000',\n",
       "   'pageNo': '1',\n",
       "   'type': 'XML',\n",
       "   'RESULT': {'resultCode': 'INFO-0', 'resultMsg': 'NOMAL SERVICE'}},\n",
       "  'row': [{'wrttimeid': '2017',\n",
       "    'seq': '1',\n",
       "    'tot': '799',\n",
       "    'prop_subtot': '593',\n",
       "    'prop_voice_phishing': '206',\n",
       "    'prop_prsn__pirate': '217',\n",
       "    'prop_etc': '170',\n",
       "    'life_body_subtot': '206',\n",
       "    'life_body_domestic_violence': '96',\n",
       "    'life_body_injury_threat': '61',\n",
       "    'life_body_sexual_violence': '18',\n",
       "    'life_body_etc': '31'},\n",
       "   {'wrttimeid': '2018',\n",
       "    'seq': '1',\n",
       "    'tot': '560',\n",
       "    'prop_subtot': '365',\n",
       "    'prop_voice_phishing': '140',\n",
       "    'prop_prsn__pirate': '148',\n",
       "    'prop_etc': '77',\n",
       "    'life_body_subtot': '195',\n",
       "    'life_body_domestic_violence': '93',\n",
       "    'life_body_injury_threat': '47',\n",
       "    'life_body_sexual_violence': '23',\n",
       "    'life_body_etc': '32'},\n",
       "   {'wrttimeid': '2019',\n",
       "    'seq': '1',\n",
       "    'tot': '641',\n",
       "    'prop_subtot': '426',\n",
       "    'prop_voice_phishing': '238',\n",
       "    'prop_prsn__pirate': '85',\n",
       "    'prop_etc': '103',\n",
       "    'life_body_subtot': '215',\n",
       "    'life_body_domestic_violence': '122',\n",
       "    'life_body_injury_threat': '70',\n",
       "    'life_body_sexual_violence': '12',\n",
       "    'life_body_etc': '11'},\n",
       "   {'wrttimeid': '2020',\n",
       "    'seq': '1',\n",
       "    'tot': '1127',\n",
       "    'prop_subtot': '868',\n",
       "    'prop_voice_phishing': '576',\n",
       "    'prop_prsn__pirate': '125',\n",
       "    'prop_etc': '167',\n",
       "    'life_body_subtot': '259',\n",
       "    'life_body_domestic_violence': '123',\n",
       "    'life_body_injury_threat': '88',\n",
       "    'life_body_sexual_violence': '42',\n",
       "    'life_body_etc': '6'},\n",
       "   {'wrttimeid': '2021',\n",
       "    'seq': '1',\n",
       "    'tot': '1344',\n",
       "    'prop_subtot': '1147',\n",
       "    'prop_voice_phishing': '867',\n",
       "    'prop_prsn__pirate': '103',\n",
       "    'prop_etc': '177',\n",
       "    'life_body_subtot': '197',\n",
       "    'life_body_domestic_violence': '95',\n",
       "    'life_body_injury_threat': '48',\n",
       "    'life_body_sexual_violence': '41',\n",
       "    'life_body_etc': '13'}]}}"
      ]
     },
     "execution_count": 52,
     "metadata": {},
     "output_type": "execute_result"
    }
   ],
   "source": [
    "xmltodict.parse(response.content)"
   ]
  },
  {
   "cell_type": "code",
   "execution_count": 44,
   "metadata": {},
   "outputs": [
    {
     "data": {
      "text/html": [
       "<div>\n",
       "<style scoped>\n",
       "    .dataframe tbody tr th:only-of-type {\n",
       "        vertical-align: middle;\n",
       "    }\n",
       "\n",
       "    .dataframe tbody tr th {\n",
       "        vertical-align: top;\n",
       "    }\n",
       "\n",
       "    .dataframe thead th {\n",
       "        text-align: right;\n",
       "    }\n",
       "</style>\n",
       "<table border=\"1\" class=\"dataframe\">\n",
       "  <thead>\n",
       "    <tr style=\"text-align: right;\">\n",
       "      <th></th>\n",
       "      <th>ApplicationChangeRegistration</th>\n",
       "    </tr>\n",
       "  </thead>\n",
       "  <tbody>\n",
       "    <tr>\n",
       "      <th>head</th>\n",
       "      <td>{'totalCount': '5', 'numOfRows': '10', 'pageNo...</td>\n",
       "    </tr>\n",
       "    <tr>\n",
       "      <th>row</th>\n",
       "      <td>[{'wrttimeid': '2017', 'seq': '1', 'tot': '799...</td>\n",
       "    </tr>\n",
       "  </tbody>\n",
       "</table>\n",
       "</div>"
      ],
      "text/plain": [
       "                          ApplicationChangeRegistration\n",
       "head  {'totalCount': '5', 'numOfRows': '10', 'pageNo...\n",
       "row   [{'wrttimeid': '2017', 'seq': '1', 'tot': '799..."
      ]
     },
     "execution_count": 44,
     "metadata": {},
     "output_type": "execute_result"
    }
   ],
   "source": [
    "import pandas as pd\n",
    "xd = xmltodict.parse(response.content)\n",
    "pd.DataFrame(xd)"
   ]
  },
  {
   "cell_type": "code",
   "execution_count": 15,
   "metadata": {},
   "outputs": [
    {
     "name": "stdout",
     "output_type": "stream",
     "text": [
      "[START]\n"
     ]
    },
    {
     "ename": "URLError",
     "evalue": "<urlopen error [SSL: CERTIFICATE_VERIFY_FAILED] certificate verify failed: unable to get local issuer certificate (_ssl.c:1129)>",
     "output_type": "error",
     "traceback": [
      "\u001b[1;31m---------------------------------------------------------------------------\u001b[0m",
      "\u001b[1;31mSSLCertVerificationError\u001b[0m                  Traceback (most recent call last)",
      "\u001b[1;32mc:\\Users\\tpfl1\\Anaconda3\\lib\\urllib\\request.py\u001b[0m in \u001b[0;36mdo_open\u001b[1;34m(self, http_class, req, **http_conn_args)\u001b[0m\n\u001b[0;32m   1345\u001b[0m             \u001b[1;32mtry\u001b[0m\u001b[1;33m:\u001b[0m\u001b[1;33m\u001b[0m\u001b[1;33m\u001b[0m\u001b[0m\n\u001b[1;32m-> 1346\u001b[1;33m                 h.request(req.get_method(), req.selector, req.data, headers,\n\u001b[0m\u001b[0;32m   1347\u001b[0m                           encode_chunked=req.has_header('Transfer-encoding'))\n",
      "\u001b[1;32mc:\\Users\\tpfl1\\Anaconda3\\lib\\http\\client.py\u001b[0m in \u001b[0;36mrequest\u001b[1;34m(self, method, url, body, headers, encode_chunked)\u001b[0m\n\u001b[0;32m   1284\u001b[0m         \u001b[1;34m\"\"\"Send a complete request to the server.\"\"\"\u001b[0m\u001b[1;33m\u001b[0m\u001b[1;33m\u001b[0m\u001b[0m\n\u001b[1;32m-> 1285\u001b[1;33m         \u001b[0mself\u001b[0m\u001b[1;33m.\u001b[0m\u001b[0m_send_request\u001b[0m\u001b[1;33m(\u001b[0m\u001b[0mmethod\u001b[0m\u001b[1;33m,\u001b[0m \u001b[0murl\u001b[0m\u001b[1;33m,\u001b[0m \u001b[0mbody\u001b[0m\u001b[1;33m,\u001b[0m \u001b[0mheaders\u001b[0m\u001b[1;33m,\u001b[0m \u001b[0mencode_chunked\u001b[0m\u001b[1;33m)\u001b[0m\u001b[1;33m\u001b[0m\u001b[1;33m\u001b[0m\u001b[0m\n\u001b[0m\u001b[0;32m   1286\u001b[0m \u001b[1;33m\u001b[0m\u001b[0m\n",
      "\u001b[1;32mc:\\Users\\tpfl1\\Anaconda3\\lib\\http\\client.py\u001b[0m in \u001b[0;36m_send_request\u001b[1;34m(self, method, url, body, headers, encode_chunked)\u001b[0m\n\u001b[0;32m   1330\u001b[0m             \u001b[0mbody\u001b[0m \u001b[1;33m=\u001b[0m \u001b[0m_encode\u001b[0m\u001b[1;33m(\u001b[0m\u001b[0mbody\u001b[0m\u001b[1;33m,\u001b[0m \u001b[1;34m'body'\u001b[0m\u001b[1;33m)\u001b[0m\u001b[1;33m\u001b[0m\u001b[1;33m\u001b[0m\u001b[0m\n\u001b[1;32m-> 1331\u001b[1;33m         \u001b[0mself\u001b[0m\u001b[1;33m.\u001b[0m\u001b[0mendheaders\u001b[0m\u001b[1;33m(\u001b[0m\u001b[0mbody\u001b[0m\u001b[1;33m,\u001b[0m \u001b[0mencode_chunked\u001b[0m\u001b[1;33m=\u001b[0m\u001b[0mencode_chunked\u001b[0m\u001b[1;33m)\u001b[0m\u001b[1;33m\u001b[0m\u001b[1;33m\u001b[0m\u001b[0m\n\u001b[0m\u001b[0;32m   1332\u001b[0m \u001b[1;33m\u001b[0m\u001b[0m\n",
      "\u001b[1;32mc:\\Users\\tpfl1\\Anaconda3\\lib\\http\\client.py\u001b[0m in \u001b[0;36mendheaders\u001b[1;34m(self, message_body, encode_chunked)\u001b[0m\n\u001b[0;32m   1279\u001b[0m             \u001b[1;32mraise\u001b[0m \u001b[0mCannotSendHeader\u001b[0m\u001b[1;33m(\u001b[0m\u001b[1;33m)\u001b[0m\u001b[1;33m\u001b[0m\u001b[1;33m\u001b[0m\u001b[0m\n\u001b[1;32m-> 1280\u001b[1;33m         \u001b[0mself\u001b[0m\u001b[1;33m.\u001b[0m\u001b[0m_send_output\u001b[0m\u001b[1;33m(\u001b[0m\u001b[0mmessage_body\u001b[0m\u001b[1;33m,\u001b[0m \u001b[0mencode_chunked\u001b[0m\u001b[1;33m=\u001b[0m\u001b[0mencode_chunked\u001b[0m\u001b[1;33m)\u001b[0m\u001b[1;33m\u001b[0m\u001b[1;33m\u001b[0m\u001b[0m\n\u001b[0m\u001b[0;32m   1281\u001b[0m \u001b[1;33m\u001b[0m\u001b[0m\n",
      "\u001b[1;32mc:\\Users\\tpfl1\\Anaconda3\\lib\\http\\client.py\u001b[0m in \u001b[0;36m_send_output\u001b[1;34m(self, message_body, encode_chunked)\u001b[0m\n\u001b[0;32m   1039\u001b[0m         \u001b[1;32mdel\u001b[0m \u001b[0mself\u001b[0m\u001b[1;33m.\u001b[0m\u001b[0m_buffer\u001b[0m\u001b[1;33m[\u001b[0m\u001b[1;33m:\u001b[0m\u001b[1;33m]\u001b[0m\u001b[1;33m\u001b[0m\u001b[1;33m\u001b[0m\u001b[0m\n\u001b[1;32m-> 1040\u001b[1;33m         \u001b[0mself\u001b[0m\u001b[1;33m.\u001b[0m\u001b[0msend\u001b[0m\u001b[1;33m(\u001b[0m\u001b[0mmsg\u001b[0m\u001b[1;33m)\u001b[0m\u001b[1;33m\u001b[0m\u001b[1;33m\u001b[0m\u001b[0m\n\u001b[0m\u001b[0;32m   1041\u001b[0m \u001b[1;33m\u001b[0m\u001b[0m\n",
      "\u001b[1;32mc:\\Users\\tpfl1\\Anaconda3\\lib\\http\\client.py\u001b[0m in \u001b[0;36msend\u001b[1;34m(self, data)\u001b[0m\n\u001b[0;32m    979\u001b[0m             \u001b[1;32mif\u001b[0m \u001b[0mself\u001b[0m\u001b[1;33m.\u001b[0m\u001b[0mauto_open\u001b[0m\u001b[1;33m:\u001b[0m\u001b[1;33m\u001b[0m\u001b[1;33m\u001b[0m\u001b[0m\n\u001b[1;32m--> 980\u001b[1;33m                 \u001b[0mself\u001b[0m\u001b[1;33m.\u001b[0m\u001b[0mconnect\u001b[0m\u001b[1;33m(\u001b[0m\u001b[1;33m)\u001b[0m\u001b[1;33m\u001b[0m\u001b[1;33m\u001b[0m\u001b[0m\n\u001b[0m\u001b[0;32m    981\u001b[0m             \u001b[1;32melse\u001b[0m\u001b[1;33m:\u001b[0m\u001b[1;33m\u001b[0m\u001b[1;33m\u001b[0m\u001b[0m\n",
      "\u001b[1;32mc:\\Users\\tpfl1\\Anaconda3\\lib\\http\\client.py\u001b[0m in \u001b[0;36mconnect\u001b[1;34m(self)\u001b[0m\n\u001b[0;32m   1453\u001b[0m \u001b[1;33m\u001b[0m\u001b[0m\n\u001b[1;32m-> 1454\u001b[1;33m             self.sock = self._context.wrap_socket(self.sock,\n\u001b[0m\u001b[0;32m   1455\u001b[0m                                                   server_hostname=server_hostname)\n",
      "\u001b[1;32mc:\\Users\\tpfl1\\Anaconda3\\lib\\ssl.py\u001b[0m in \u001b[0;36mwrap_socket\u001b[1;34m(self, sock, server_side, do_handshake_on_connect, suppress_ragged_eofs, server_hostname, session)\u001b[0m\n\u001b[0;32m    500\u001b[0m         \u001b[1;31m# ctx._wrap_socket()\u001b[0m\u001b[1;33m\u001b[0m\u001b[1;33m\u001b[0m\u001b[0m\n\u001b[1;32m--> 501\u001b[1;33m         return self.sslsocket_class._create(\n\u001b[0m\u001b[0;32m    502\u001b[0m             \u001b[0msock\u001b[0m\u001b[1;33m=\u001b[0m\u001b[0msock\u001b[0m\u001b[1;33m,\u001b[0m\u001b[1;33m\u001b[0m\u001b[1;33m\u001b[0m\u001b[0m\n",
      "\u001b[1;32mc:\\Users\\tpfl1\\Anaconda3\\lib\\ssl.py\u001b[0m in \u001b[0;36m_create\u001b[1;34m(cls, sock, server_side, do_handshake_on_connect, suppress_ragged_eofs, server_hostname, context, session)\u001b[0m\n\u001b[0;32m   1040\u001b[0m                         \u001b[1;32mraise\u001b[0m \u001b[0mValueError\u001b[0m\u001b[1;33m(\u001b[0m\u001b[1;34m\"do_handshake_on_connect should not be specified for non-blocking sockets\"\u001b[0m\u001b[1;33m)\u001b[0m\u001b[1;33m\u001b[0m\u001b[1;33m\u001b[0m\u001b[0m\n\u001b[1;32m-> 1041\u001b[1;33m                     \u001b[0mself\u001b[0m\u001b[1;33m.\u001b[0m\u001b[0mdo_handshake\u001b[0m\u001b[1;33m(\u001b[0m\u001b[1;33m)\u001b[0m\u001b[1;33m\u001b[0m\u001b[1;33m\u001b[0m\u001b[0m\n\u001b[0m\u001b[0;32m   1042\u001b[0m             \u001b[1;32mexcept\u001b[0m \u001b[1;33m(\u001b[0m\u001b[0mOSError\u001b[0m\u001b[1;33m,\u001b[0m \u001b[0mValueError\u001b[0m\u001b[1;33m)\u001b[0m\u001b[1;33m:\u001b[0m\u001b[1;33m\u001b[0m\u001b[1;33m\u001b[0m\u001b[0m\n",
      "\u001b[1;32mc:\\Users\\tpfl1\\Anaconda3\\lib\\ssl.py\u001b[0m in \u001b[0;36mdo_handshake\u001b[1;34m(self, block)\u001b[0m\n\u001b[0;32m   1309\u001b[0m                 \u001b[0mself\u001b[0m\u001b[1;33m.\u001b[0m\u001b[0msettimeout\u001b[0m\u001b[1;33m(\u001b[0m\u001b[1;32mNone\u001b[0m\u001b[1;33m)\u001b[0m\u001b[1;33m\u001b[0m\u001b[1;33m\u001b[0m\u001b[0m\n\u001b[1;32m-> 1310\u001b[1;33m             \u001b[0mself\u001b[0m\u001b[1;33m.\u001b[0m\u001b[0m_sslobj\u001b[0m\u001b[1;33m.\u001b[0m\u001b[0mdo_handshake\u001b[0m\u001b[1;33m(\u001b[0m\u001b[1;33m)\u001b[0m\u001b[1;33m\u001b[0m\u001b[1;33m\u001b[0m\u001b[0m\n\u001b[0m\u001b[0;32m   1311\u001b[0m         \u001b[1;32mfinally\u001b[0m\u001b[1;33m:\u001b[0m\u001b[1;33m\u001b[0m\u001b[1;33m\u001b[0m\u001b[0m\n",
      "\u001b[1;31mSSLCertVerificationError\u001b[0m: [SSL: CERTIFICATE_VERIFY_FAILED] certificate verify failed: unable to get local issuer certificate (_ssl.c:1129)",
      "\nDuring handling of the above exception, another exception occurred:\n",
      "\u001b[1;31mURLError\u001b[0m                                  Traceback (most recent call last)",
      "\u001b[1;32m~\\AppData\\Local\\Temp\\ipykernel_12916\\2708834589.py\u001b[0m in \u001b[0;36m<module>\u001b[1;34m\u001b[0m\n\u001b[0;32m      9\u001b[0m \u001b[1;33m\u001b[0m\u001b[0m\n\u001b[0;32m     10\u001b[0m \u001b[1;31m# request보내기\u001b[0m\u001b[1;33m\u001b[0m\u001b[1;33m\u001b[0m\u001b[0m\n\u001b[1;32m---> 11\u001b[1;33m \u001b[0mresponse\u001b[0m \u001b[1;33m=\u001b[0m \u001b[0murllib\u001b[0m\u001b[1;33m.\u001b[0m\u001b[0mrequest\u001b[0m\u001b[1;33m.\u001b[0m\u001b[0murlopen\u001b[0m\u001b[1;33m(\u001b[0m\u001b[0mrequest\u001b[0m\u001b[1;33m)\u001b[0m\u001b[1;33m\u001b[0m\u001b[1;33m\u001b[0m\u001b[0m\n\u001b[0m\u001b[0;32m     12\u001b[0m \u001b[1;33m\u001b[0m\u001b[0m\n\u001b[0;32m     13\u001b[0m \u001b[1;31m# 결과 코드 정의\u001b[0m\u001b[1;33m\u001b[0m\u001b[1;33m\u001b[0m\u001b[0m\n",
      "\u001b[1;32mc:\\Users\\tpfl1\\Anaconda3\\lib\\urllib\\request.py\u001b[0m in \u001b[0;36murlopen\u001b[1;34m(url, data, timeout, cafile, capath, cadefault, context)\u001b[0m\n\u001b[0;32m    212\u001b[0m     \u001b[1;32melse\u001b[0m\u001b[1;33m:\u001b[0m\u001b[1;33m\u001b[0m\u001b[1;33m\u001b[0m\u001b[0m\n\u001b[0;32m    213\u001b[0m         \u001b[0mopener\u001b[0m \u001b[1;33m=\u001b[0m \u001b[0m_opener\u001b[0m\u001b[1;33m\u001b[0m\u001b[1;33m\u001b[0m\u001b[0m\n\u001b[1;32m--> 214\u001b[1;33m     \u001b[1;32mreturn\u001b[0m \u001b[0mopener\u001b[0m\u001b[1;33m.\u001b[0m\u001b[0mopen\u001b[0m\u001b[1;33m(\u001b[0m\u001b[0murl\u001b[0m\u001b[1;33m,\u001b[0m \u001b[0mdata\u001b[0m\u001b[1;33m,\u001b[0m \u001b[0mtimeout\u001b[0m\u001b[1;33m)\u001b[0m\u001b[1;33m\u001b[0m\u001b[1;33m\u001b[0m\u001b[0m\n\u001b[0m\u001b[0;32m    215\u001b[0m \u001b[1;33m\u001b[0m\u001b[0m\n\u001b[0;32m    216\u001b[0m \u001b[1;32mdef\u001b[0m \u001b[0minstall_opener\u001b[0m\u001b[1;33m(\u001b[0m\u001b[0mopener\u001b[0m\u001b[1;33m)\u001b[0m\u001b[1;33m:\u001b[0m\u001b[1;33m\u001b[0m\u001b[1;33m\u001b[0m\u001b[0m\n",
      "\u001b[1;32mc:\\Users\\tpfl1\\Anaconda3\\lib\\urllib\\request.py\u001b[0m in \u001b[0;36mopen\u001b[1;34m(self, fullurl, data, timeout)\u001b[0m\n\u001b[0;32m    515\u001b[0m \u001b[1;33m\u001b[0m\u001b[0m\n\u001b[0;32m    516\u001b[0m         \u001b[0msys\u001b[0m\u001b[1;33m.\u001b[0m\u001b[0maudit\u001b[0m\u001b[1;33m(\u001b[0m\u001b[1;34m'urllib.Request'\u001b[0m\u001b[1;33m,\u001b[0m \u001b[0mreq\u001b[0m\u001b[1;33m.\u001b[0m\u001b[0mfull_url\u001b[0m\u001b[1;33m,\u001b[0m \u001b[0mreq\u001b[0m\u001b[1;33m.\u001b[0m\u001b[0mdata\u001b[0m\u001b[1;33m,\u001b[0m \u001b[0mreq\u001b[0m\u001b[1;33m.\u001b[0m\u001b[0mheaders\u001b[0m\u001b[1;33m,\u001b[0m \u001b[0mreq\u001b[0m\u001b[1;33m.\u001b[0m\u001b[0mget_method\u001b[0m\u001b[1;33m(\u001b[0m\u001b[1;33m)\u001b[0m\u001b[1;33m)\u001b[0m\u001b[1;33m\u001b[0m\u001b[1;33m\u001b[0m\u001b[0m\n\u001b[1;32m--> 517\u001b[1;33m         \u001b[0mresponse\u001b[0m \u001b[1;33m=\u001b[0m \u001b[0mself\u001b[0m\u001b[1;33m.\u001b[0m\u001b[0m_open\u001b[0m\u001b[1;33m(\u001b[0m\u001b[0mreq\u001b[0m\u001b[1;33m,\u001b[0m \u001b[0mdata\u001b[0m\u001b[1;33m)\u001b[0m\u001b[1;33m\u001b[0m\u001b[1;33m\u001b[0m\u001b[0m\n\u001b[0m\u001b[0;32m    518\u001b[0m \u001b[1;33m\u001b[0m\u001b[0m\n\u001b[0;32m    519\u001b[0m         \u001b[1;31m# post-process response\u001b[0m\u001b[1;33m\u001b[0m\u001b[1;33m\u001b[0m\u001b[0m\n",
      "\u001b[1;32mc:\\Users\\tpfl1\\Anaconda3\\lib\\urllib\\request.py\u001b[0m in \u001b[0;36m_open\u001b[1;34m(self, req, data)\u001b[0m\n\u001b[0;32m    532\u001b[0m \u001b[1;33m\u001b[0m\u001b[0m\n\u001b[0;32m    533\u001b[0m         \u001b[0mprotocol\u001b[0m \u001b[1;33m=\u001b[0m \u001b[0mreq\u001b[0m\u001b[1;33m.\u001b[0m\u001b[0mtype\u001b[0m\u001b[1;33m\u001b[0m\u001b[1;33m\u001b[0m\u001b[0m\n\u001b[1;32m--> 534\u001b[1;33m         result = self._call_chain(self.handle_open, protocol, protocol +\n\u001b[0m\u001b[0;32m    535\u001b[0m                                   '_open', req)\n\u001b[0;32m    536\u001b[0m         \u001b[1;32mif\u001b[0m \u001b[0mresult\u001b[0m\u001b[1;33m:\u001b[0m\u001b[1;33m\u001b[0m\u001b[1;33m\u001b[0m\u001b[0m\n",
      "\u001b[1;32mc:\\Users\\tpfl1\\Anaconda3\\lib\\urllib\\request.py\u001b[0m in \u001b[0;36m_call_chain\u001b[1;34m(self, chain, kind, meth_name, *args)\u001b[0m\n\u001b[0;32m    492\u001b[0m         \u001b[1;32mfor\u001b[0m \u001b[0mhandler\u001b[0m \u001b[1;32min\u001b[0m \u001b[0mhandlers\u001b[0m\u001b[1;33m:\u001b[0m\u001b[1;33m\u001b[0m\u001b[1;33m\u001b[0m\u001b[0m\n\u001b[0;32m    493\u001b[0m             \u001b[0mfunc\u001b[0m \u001b[1;33m=\u001b[0m \u001b[0mgetattr\u001b[0m\u001b[1;33m(\u001b[0m\u001b[0mhandler\u001b[0m\u001b[1;33m,\u001b[0m \u001b[0mmeth_name\u001b[0m\u001b[1;33m)\u001b[0m\u001b[1;33m\u001b[0m\u001b[1;33m\u001b[0m\u001b[0m\n\u001b[1;32m--> 494\u001b[1;33m             \u001b[0mresult\u001b[0m \u001b[1;33m=\u001b[0m \u001b[0mfunc\u001b[0m\u001b[1;33m(\u001b[0m\u001b[1;33m*\u001b[0m\u001b[0margs\u001b[0m\u001b[1;33m)\u001b[0m\u001b[1;33m\u001b[0m\u001b[1;33m\u001b[0m\u001b[0m\n\u001b[0m\u001b[0;32m    495\u001b[0m             \u001b[1;32mif\u001b[0m \u001b[0mresult\u001b[0m \u001b[1;32mis\u001b[0m \u001b[1;32mnot\u001b[0m \u001b[1;32mNone\u001b[0m\u001b[1;33m:\u001b[0m\u001b[1;33m\u001b[0m\u001b[1;33m\u001b[0m\u001b[0m\n\u001b[0;32m    496\u001b[0m                 \u001b[1;32mreturn\u001b[0m \u001b[0mresult\u001b[0m\u001b[1;33m\u001b[0m\u001b[1;33m\u001b[0m\u001b[0m\n",
      "\u001b[1;32mc:\\Users\\tpfl1\\Anaconda3\\lib\\urllib\\request.py\u001b[0m in \u001b[0;36mhttps_open\u001b[1;34m(self, req)\u001b[0m\n\u001b[0;32m   1387\u001b[0m \u001b[1;33m\u001b[0m\u001b[0m\n\u001b[0;32m   1388\u001b[0m         \u001b[1;32mdef\u001b[0m \u001b[0mhttps_open\u001b[0m\u001b[1;33m(\u001b[0m\u001b[0mself\u001b[0m\u001b[1;33m,\u001b[0m \u001b[0mreq\u001b[0m\u001b[1;33m)\u001b[0m\u001b[1;33m:\u001b[0m\u001b[1;33m\u001b[0m\u001b[1;33m\u001b[0m\u001b[0m\n\u001b[1;32m-> 1389\u001b[1;33m             return self.do_open(http.client.HTTPSConnection, req,\n\u001b[0m\u001b[0;32m   1390\u001b[0m                 context=self._context, check_hostname=self._check_hostname)\n\u001b[0;32m   1391\u001b[0m \u001b[1;33m\u001b[0m\u001b[0m\n",
      "\u001b[1;32mc:\\Users\\tpfl1\\Anaconda3\\lib\\urllib\\request.py\u001b[0m in \u001b[0;36mdo_open\u001b[1;34m(self, http_class, req, **http_conn_args)\u001b[0m\n\u001b[0;32m   1347\u001b[0m                           encode_chunked=req.has_header('Transfer-encoding'))\n\u001b[0;32m   1348\u001b[0m             \u001b[1;32mexcept\u001b[0m \u001b[0mOSError\u001b[0m \u001b[1;32mas\u001b[0m \u001b[0merr\u001b[0m\u001b[1;33m:\u001b[0m \u001b[1;31m# timeout error\u001b[0m\u001b[1;33m\u001b[0m\u001b[1;33m\u001b[0m\u001b[0m\n\u001b[1;32m-> 1349\u001b[1;33m                 \u001b[1;32mraise\u001b[0m \u001b[0mURLError\u001b[0m\u001b[1;33m(\u001b[0m\u001b[0merr\u001b[0m\u001b[1;33m)\u001b[0m\u001b[1;33m\u001b[0m\u001b[1;33m\u001b[0m\u001b[0m\n\u001b[0m\u001b[0;32m   1350\u001b[0m             \u001b[0mr\u001b[0m \u001b[1;33m=\u001b[0m \u001b[0mh\u001b[0m\u001b[1;33m.\u001b[0m\u001b[0mgetresponse\u001b[0m\u001b[1;33m(\u001b[0m\u001b[1;33m)\u001b[0m\u001b[1;33m\u001b[0m\u001b[1;33m\u001b[0m\u001b[0m\n\u001b[0;32m   1351\u001b[0m         \u001b[1;32mexcept\u001b[0m\u001b[1;33m:\u001b[0m\u001b[1;33m\u001b[0m\u001b[1;33m\u001b[0m\u001b[0m\n",
      "\u001b[1;31mURLError\u001b[0m: <urlopen error [SSL: CERTIFICATE_VERIFY_FAILED] certificate verify failed: unable to get local issuer certificate (_ssl.c:1129)>"
     ]
    }
   ],
   "source": [
    "encodingKey = \"OLanqSK5beSik02NhQsKQT04nMt9pM%2BLvGQrqlvRAYGJYnucYKnQzh45cGjtX%2Bdz7mYHGhedcVXYTd9aPkCWuw%3D%3D\"\n",
    "decodingKey = \"OLanqSK5beSik02NhQsKQT04nMt9pM+LvGQrqlvRAYGJYnucYKnQzh45cGjtX+dz7mYHGhedcVXYTd9aPkCWuw==\"\n",
    "\n",
    "print(\"[START]\")\n",
    "\n",
    "# request url정의\n",
    "url = \"https://apis.data.go.kr/1741000/ApplicationChangeRegistration/getApplicationChangeRegistration?ServiceKey=\" + decodingKey + \"&pageNo=2&numOfRows=100\"\n",
    "request = urllib.request.Request(url)\n",
    "\n",
    "# request보내기\n",
    "response = urllib.request.urlopen(request)\n",
    "\n",
    "# 결과 코드 정의\n",
    "rescode = response.getcode()\n",
    "\n",
    "if(rescode==200):\n",
    "    response_body = response.read()\n",
    "    dom = xml.dom.minidom.parseString(response_body.decode('utf-8'))\n",
    "    pretty_xml_as_string = dom.toprettyxml()\n",
    "    print(pretty_xml_as_string)\n",
    "else:\n",
    "    print(\"Error Code:\" + rescode)\n",
    "\n",
    "print(\"[END]\")"
   ]
  },
  {
   "cell_type": "code",
   "execution_count": null,
   "metadata": {},
   "outputs": [],
   "source": []
  }
 ],
 "metadata": {
  "kernelspec": {
   "display_name": "base",
   "language": "python",
   "name": "python3"
  },
  "language_info": {
   "codemirror_mode": {
    "name": "ipython",
    "version": 3
   },
   "file_extension": ".py",
   "mimetype": "text/x-python",
   "name": "python",
   "nbconvert_exporter": "python",
   "pygments_lexer": "ipython3",
   "version": "3.9.15 (main, Nov 24 2022, 14:39:17) [MSC v.1916 64 bit (AMD64)]"
  },
  "orig_nbformat": 4,
  "vscode": {
   "interpreter": {
    "hash": "9dbe02be43e025ad15ca2bf85d874bf1fbf344ec6c3e0aa0e9ec91283bc7eb91"
   }
  }
 },
 "nbformat": 4,
 "nbformat_minor": 2
}
