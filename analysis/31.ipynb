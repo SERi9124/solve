{
 "cells": [
  {
   "attachments": {},
   "cell_type": "markdown",
   "metadata": {},
   "source": [
    "https://www.bigdata-policing.kr/board/notice/view?idx=169&category= <br>\n",
    "https://www.bigdata-policing.kr/board/b_contest/view?idx=167&category="
   ]
  },
  {
   "cell_type": "code",
   "execution_count": 2,
   "metadata": {},
   "outputs": [],
   "source": [
    "import pandas as pd"
   ]
  },
  {
   "cell_type": "code",
   "execution_count": 10,
   "metadata": {},
   "outputs": [
    {
     "data": {
      "text/html": [
       "<div>\n",
       "<style scoped>\n",
       "    .dataframe tbody tr th:only-of-type {\n",
       "        vertical-align: middle;\n",
       "    }\n",
       "\n",
       "    .dataframe tbody tr th {\n",
       "        vertical-align: top;\n",
       "    }\n",
       "\n",
       "    .dataframe thead th {\n",
       "        text-align: right;\n",
       "    }\n",
       "</style>\n",
       "<table border=\"1\" class=\"dataframe\">\n",
       "  <thead>\n",
       "    <tr style=\"text-align: right;\">\n",
       "      <th></th>\n",
       "      <th>No</th>\n",
       "      <th>컬럼명</th>\n",
       "      <th>컬럼 그룹</th>\n",
       "      <th>코드명</th>\n",
       "      <th>코드값</th>\n",
       "    </tr>\n",
       "  </thead>\n",
       "  <tbody>\n",
       "    <tr>\n",
       "      <th>0</th>\n",
       "      <td>1</td>\n",
       "      <td>NPA_CL</td>\n",
       "      <td>경찰청 구분</td>\n",
       "      <td>본청</td>\n",
       "      <td>1</td>\n",
       "    </tr>\n",
       "    <tr>\n",
       "      <th>1</th>\n",
       "      <td>2</td>\n",
       "      <td>NPA_CL</td>\n",
       "      <td>경찰청 구분</td>\n",
       "      <td>서울청</td>\n",
       "      <td>8</td>\n",
       "    </tr>\n",
       "    <tr>\n",
       "      <th>2</th>\n",
       "      <td>3</td>\n",
       "      <td>NPA_CL</td>\n",
       "      <td>경찰청 구분</td>\n",
       "      <td>부산청</td>\n",
       "      <td>9</td>\n",
       "    </tr>\n",
       "    <tr>\n",
       "      <th>3</th>\n",
       "      <td>4</td>\n",
       "      <td>NPA_CL</td>\n",
       "      <td>경찰청 구분</td>\n",
       "      <td>대구청</td>\n",
       "      <td>10</td>\n",
       "    </tr>\n",
       "    <tr>\n",
       "      <th>4</th>\n",
       "      <td>5</td>\n",
       "      <td>NPA_CL</td>\n",
       "      <td>경찰청 구분</td>\n",
       "      <td>인천청</td>\n",
       "      <td>11</td>\n",
       "    </tr>\n",
       "  </tbody>\n",
       "</table>\n",
       "</div>"
      ],
      "text/plain": [
       "   No     컬럼명   컬럼 그룹  코드명  코드값\n",
       "0   1  NPA_CL  경찰청 구분   본청    1\n",
       "1   2  NPA_CL  경찰청 구분  서울청    8\n",
       "2   3  NPA_CL  경찰청 구분  부산청    9\n",
       "3   4  NPA_CL  경찰청 구분  대구청   10\n",
       "4   5  NPA_CL  경찰청 구분  인천청   11"
      ]
     },
     "execution_count": 10,
     "metadata": {},
     "output_type": "execute_result"
    }
   ],
   "source": [
    "code = \"https://ais7.s3.ap-northeast-2.amazonaws.com/%EC%82%AC%EB%B3%B8(29)+-+%ED%99%9C%EC%9A%A9%EB%8D%B0%EC%9D%B4%ED%84%B0/codeBook_v3.xlsx\"\n",
    "codeBook = pd.read_excel(code)\n",
    "codeBook.head()"
   ]
  },
  {
   "cell_type": "code",
   "execution_count": 13,
   "metadata": {},
   "outputs": [
    {
     "data": {
      "text/html": [
       "<div>\n",
       "<style scoped>\n",
       "    .dataframe tbody tr th:only-of-type {\n",
       "        vertical-align: middle;\n",
       "    }\n",
       "\n",
       "    .dataframe tbody tr th {\n",
       "        vertical-align: top;\n",
       "    }\n",
       "\n",
       "    .dataframe thead th {\n",
       "        text-align: right;\n",
       "    }\n",
       "</style>\n",
       "<table border=\"1\" class=\"dataframe\">\n",
       "  <thead>\n",
       "    <tr style=\"text-align: right;\">\n",
       "      <th></th>\n",
       "      <th>RECV_DEPT_NM</th>\n",
       "      <th>RECV_CPLT_DM</th>\n",
       "      <th>NPA_CL</th>\n",
       "      <th>EVT_STAT_CD</th>\n",
       "      <th>EVT_CL_CD</th>\n",
       "      <th>RPTER_SEX</th>\n",
       "      <th>HPPN_PNU_ADDR</th>\n",
       "      <th>HPPN_X</th>\n",
       "      <th>HPPN_Y</th>\n",
       "      <th>SME_EVT_YN</th>\n",
       "    </tr>\n",
       "  </thead>\n",
       "  <tbody>\n",
       "    <tr>\n",
       "      <th>0</th>\n",
       "      <td>충남청</td>\n",
       "      <td>20/12/01 01:43:07.000000000</td>\n",
       "      <td>19</td>\n",
       "      <td>10</td>\n",
       "      <td>305</td>\n",
       "      <td>1.0</td>\n",
       "      <td>충청남도 보령시 궁촌동(행정:대천4동) 369</td>\n",
       "      <td>126.598345</td>\n",
       "      <td>36.341537</td>\n",
       "      <td>Y</td>\n",
       "    </tr>\n",
       "    <tr>\n",
       "      <th>1</th>\n",
       "      <td>대전청</td>\n",
       "      <td>20/12/01 02:05:04.000000000</td>\n",
       "      <td>13</td>\n",
       "      <td>10</td>\n",
       "      <td>601</td>\n",
       "      <td>3.0</td>\n",
       "      <td>NaN</td>\n",
       "      <td>127.404663</td>\n",
       "      <td>36.341685</td>\n",
       "      <td>NaN</td>\n",
       "    </tr>\n",
       "    <tr>\n",
       "      <th>2</th>\n",
       "      <td>대전청</td>\n",
       "      <td>20/12/01 02:06:52.000000000</td>\n",
       "      <td>13</td>\n",
       "      <td>10</td>\n",
       "      <td>601</td>\n",
       "      <td>1.0</td>\n",
       "      <td>NaN</td>\n",
       "      <td>127.404663</td>\n",
       "      <td>36.341685</td>\n",
       "      <td>NaN</td>\n",
       "    </tr>\n",
       "    <tr>\n",
       "      <th>3</th>\n",
       "      <td>충남청</td>\n",
       "      <td>20/12/01 02:37:25.000000000</td>\n",
       "      <td>19</td>\n",
       "      <td>10</td>\n",
       "      <td>606</td>\n",
       "      <td>3.0</td>\n",
       "      <td>충청남도 보령시 천북면 하만리 628-10</td>\n",
       "      <td>126.524980</td>\n",
       "      <td>36.474390</td>\n",
       "      <td>N</td>\n",
       "    </tr>\n",
       "    <tr>\n",
       "      <th>4</th>\n",
       "      <td>충남청</td>\n",
       "      <td>20/12/01 08:17:50.000000000</td>\n",
       "      <td>19</td>\n",
       "      <td>10</td>\n",
       "      <td>401</td>\n",
       "      <td>2.0</td>\n",
       "      <td>충청남도 천안시 서북구 성정동(행정:성정2동) 1259</td>\n",
       "      <td>127.137160</td>\n",
       "      <td>36.826718</td>\n",
       "      <td>NaN</td>\n",
       "    </tr>\n",
       "  </tbody>\n",
       "</table>\n",
       "</div>"
      ],
      "text/plain": [
       "  RECV_DEPT_NM                 RECV_CPLT_DM  NPA_CL  EVT_STAT_CD  EVT_CL_CD  \\\n",
       "0          충남청  20/12/01 01:43:07.000000000      19           10        305   \n",
       "1          대전청  20/12/01 02:05:04.000000000      13           10        601   \n",
       "2          대전청  20/12/01 02:06:52.000000000      13           10        601   \n",
       "3          충남청  20/12/01 02:37:25.000000000      19           10        606   \n",
       "4          충남청  20/12/01 08:17:50.000000000      19           10        401   \n",
       "\n",
       "   RPTER_SEX                   HPPN_PNU_ADDR      HPPN_X     HPPN_Y SME_EVT_YN  \n",
       "0        1.0       충청남도 보령시 궁촌동(행정:대천4동) 369  126.598345  36.341537          Y  \n",
       "1        3.0                             NaN  127.404663  36.341685        NaN  \n",
       "2        1.0                             NaN  127.404663  36.341685        NaN  \n",
       "3        3.0        충청남도 보령시 천북면 하만리 628-10   126.524980  36.474390          N  \n",
       "4        2.0  충청남도 천안시 서북구 성정동(행정:성정2동) 1259  127.137160  36.826718        NaN  "
      ]
     },
     "execution_count": 13,
     "metadata": {},
     "output_type": "execute_result"
    }
   ],
   "source": [
    "kp20 = \"https://ais7.s3.ap-northeast-2.amazonaws.com/%EC%82%AC%EB%B3%B8(29)+-+%ED%99%9C%EC%9A%A9%EB%8D%B0%EC%9D%B4%ED%84%B0/KP2020.csv\"\n",
    "kp2020 = pd.read_csv(kp20, encoding='cp949')\n",
    "kp2020.head()"
   ]
  },
  {
   "cell_type": "code",
   "execution_count": 14,
   "metadata": {},
   "outputs": [
    {
     "data": {
      "text/html": [
       "<div>\n",
       "<style scoped>\n",
       "    .dataframe tbody tr th:only-of-type {\n",
       "        vertical-align: middle;\n",
       "    }\n",
       "\n",
       "    .dataframe tbody tr th {\n",
       "        vertical-align: top;\n",
       "    }\n",
       "\n",
       "    .dataframe thead th {\n",
       "        text-align: right;\n",
       "    }\n",
       "</style>\n",
       "<table border=\"1\" class=\"dataframe\">\n",
       "  <thead>\n",
       "    <tr style=\"text-align: right;\">\n",
       "      <th></th>\n",
       "      <th>RECV_DEPT_NM</th>\n",
       "      <th>RECV_CPLT_DM</th>\n",
       "      <th>NPA_CL</th>\n",
       "      <th>EVT_STAT_CD</th>\n",
       "      <th>EVT_CL_CD</th>\n",
       "      <th>RPTER_SEX</th>\n",
       "      <th>HPPN_PNU_ADDR</th>\n",
       "      <th>HPPN_X</th>\n",
       "      <th>HPPN_Y</th>\n",
       "      <th>SME_EVT_YN</th>\n",
       "    </tr>\n",
       "  </thead>\n",
       "  <tbody>\n",
       "    <tr>\n",
       "      <th>0</th>\n",
       "      <td>대전청</td>\n",
       "      <td>21/03/07 00:00:01.000000000</td>\n",
       "      <td>13</td>\n",
       "      <td>10</td>\n",
       "      <td>604</td>\n",
       "      <td>3.0</td>\n",
       "      <td>대전광역시 서구 둔산동 1122</td>\n",
       "      <td>127.373676</td>\n",
       "      <td>36.350975</td>\n",
       "      <td>Y</td>\n",
       "    </tr>\n",
       "    <tr>\n",
       "      <th>1</th>\n",
       "      <td>대전청</td>\n",
       "      <td>21/03/07 00:02:13.000000000</td>\n",
       "      <td>13</td>\n",
       "      <td>10</td>\n",
       "      <td>201</td>\n",
       "      <td>1.0</td>\n",
       "      <td>대전광역시 유성구 상대동(원신흥동) 469-9</td>\n",
       "      <td>127.339018</td>\n",
       "      <td>36.347420</td>\n",
       "      <td>NaN</td>\n",
       "    </tr>\n",
       "    <tr>\n",
       "      <th>2</th>\n",
       "      <td>대전청</td>\n",
       "      <td>21/03/07 00:00:33.000000000</td>\n",
       "      <td>13</td>\n",
       "      <td>10</td>\n",
       "      <td>601</td>\n",
       "      <td>3.0</td>\n",
       "      <td>NaN</td>\n",
       "      <td>127.404663</td>\n",
       "      <td>36.341685</td>\n",
       "      <td>NaN</td>\n",
       "    </tr>\n",
       "    <tr>\n",
       "      <th>3</th>\n",
       "      <td>대전청</td>\n",
       "      <td>21/03/07 00:01:18.000000000</td>\n",
       "      <td>13</td>\n",
       "      <td>10</td>\n",
       "      <td>601</td>\n",
       "      <td>3.0</td>\n",
       "      <td>NaN</td>\n",
       "      <td>127.404663</td>\n",
       "      <td>36.341685</td>\n",
       "      <td>NaN</td>\n",
       "    </tr>\n",
       "    <tr>\n",
       "      <th>4</th>\n",
       "      <td>대전청</td>\n",
       "      <td>21/03/07 00:01:43.000000000</td>\n",
       "      <td>13</td>\n",
       "      <td>10</td>\n",
       "      <td>308</td>\n",
       "      <td>1.0</td>\n",
       "      <td>대전광역시 중구 선화동 141-16</td>\n",
       "      <td>127.420455</td>\n",
       "      <td>36.330413</td>\n",
       "      <td>NaN</td>\n",
       "    </tr>\n",
       "  </tbody>\n",
       "</table>\n",
       "</div>"
      ],
      "text/plain": [
       "  RECV_DEPT_NM                 RECV_CPLT_DM  NPA_CL  EVT_STAT_CD  EVT_CL_CD  \\\n",
       "0          대전청  21/03/07 00:00:01.000000000      13           10        604   \n",
       "1          대전청  21/03/07 00:02:13.000000000      13           10        201   \n",
       "2          대전청  21/03/07 00:00:33.000000000      13           10        601   \n",
       "3          대전청  21/03/07 00:01:18.000000000      13           10        601   \n",
       "4          대전청  21/03/07 00:01:43.000000000      13           10        308   \n",
       "\n",
       "   RPTER_SEX              HPPN_PNU_ADDR      HPPN_X     HPPN_Y SME_EVT_YN  \n",
       "0        3.0          대전광역시 서구 둔산동 1122  127.373676  36.350975          Y  \n",
       "1        1.0  대전광역시 유성구 상대동(원신흥동) 469-9  127.339018  36.347420        NaN  \n",
       "2        3.0                        NaN  127.404663  36.341685        NaN  \n",
       "3        3.0                        NaN  127.404663  36.341685        NaN  \n",
       "4        1.0        대전광역시 중구 선화동 141-16  127.420455  36.330413        NaN  "
      ]
     },
     "execution_count": 14,
     "metadata": {},
     "output_type": "execute_result"
    }
   ],
   "source": [
    "kp21 = \"https://ais7.s3.ap-northeast-2.amazonaws.com/%EC%82%AC%EB%B3%B8(29)+-+%ED%99%9C%EC%9A%A9%EB%8D%B0%EC%9D%B4%ED%84%B0/KP2021.csv\"\n",
    "kp2021 = pd.read_csv(kp21, encoding='cp949')\n",
    "kp2021.head()"
   ]
  },
  {
   "cell_type": "code",
   "execution_count": 15,
   "metadata": {},
   "outputs": [
    {
     "data": {
      "text/html": [
       "<div>\n",
       "<style scoped>\n",
       "    .dataframe tbody tr th:only-of-type {\n",
       "        vertical-align: middle;\n",
       "    }\n",
       "\n",
       "    .dataframe tbody tr th {\n",
       "        vertical-align: top;\n",
       "    }\n",
       "\n",
       "    .dataframe thead th {\n",
       "        text-align: right;\n",
       "    }\n",
       "</style>\n",
       "<table border=\"1\" class=\"dataframe\">\n",
       "  <thead>\n",
       "    <tr style=\"text-align: right;\">\n",
       "      <th></th>\n",
       "      <th>RECV_CPLT_DT</th>\n",
       "      <th>RECV_CPLT_TM</th>\n",
       "      <th>NPA_CL</th>\n",
       "      <th>EVT_STAT_CD</th>\n",
       "      <th>EVT_CL_CD</th>\n",
       "      <th>RPTER_SEX</th>\n",
       "      <th>HPPN_OLD_ADDR</th>\n",
       "      <th>HPPN_X</th>\n",
       "      <th>HPPN_Y</th>\n",
       "      <th>SME_EVT_YN</th>\n",
       "    </tr>\n",
       "  </thead>\n",
       "  <tbody>\n",
       "    <tr>\n",
       "      <th>0</th>\n",
       "      <td>20200101</td>\n",
       "      <td>7</td>\n",
       "      <td>13</td>\n",
       "      <td>10</td>\n",
       "      <td>501</td>\n",
       "      <td>2</td>\n",
       "      <td>대전광역시 중구 목동(행정:목동) 360</td>\n",
       "      <td>127.409270</td>\n",
       "      <td>36.333010</td>\n",
       "      <td>Y</td>\n",
       "    </tr>\n",
       "    <tr>\n",
       "      <th>1</th>\n",
       "      <td>20200101</td>\n",
       "      <td>132</td>\n",
       "      <td>13</td>\n",
       "      <td>10</td>\n",
       "      <td>501</td>\n",
       "      <td>1</td>\n",
       "      <td>대전광역시 중구 대흥동(대흥동) 499-1</td>\n",
       "      <td>127.421295</td>\n",
       "      <td>36.325575</td>\n",
       "      <td>NaN</td>\n",
       "    </tr>\n",
       "    <tr>\n",
       "      <th>2</th>\n",
       "      <td>20200101</td>\n",
       "      <td>39</td>\n",
       "      <td>13</td>\n",
       "      <td>10</td>\n",
       "      <td>501</td>\n",
       "      <td>1</td>\n",
       "      <td>NaN</td>\n",
       "      <td>127.404663</td>\n",
       "      <td>36.341685</td>\n",
       "      <td>NaN</td>\n",
       "    </tr>\n",
       "    <tr>\n",
       "      <th>3</th>\n",
       "      <td>20200101</td>\n",
       "      <td>110</td>\n",
       "      <td>13</td>\n",
       "      <td>10</td>\n",
       "      <td>601</td>\n",
       "      <td>3</td>\n",
       "      <td>NaN</td>\n",
       "      <td>0.000000</td>\n",
       "      <td>0.000000</td>\n",
       "      <td>NaN</td>\n",
       "    </tr>\n",
       "    <tr>\n",
       "      <th>4</th>\n",
       "      <td>20200101</td>\n",
       "      <td>342</td>\n",
       "      <td>13</td>\n",
       "      <td>10</td>\n",
       "      <td>601</td>\n",
       "      <td>1</td>\n",
       "      <td>NaN</td>\n",
       "      <td>127.404663</td>\n",
       "      <td>36.341685</td>\n",
       "      <td>NaN</td>\n",
       "    </tr>\n",
       "  </tbody>\n",
       "</table>\n",
       "</div>"
      ],
      "text/plain": [
       "   RECV_CPLT_DT  RECV_CPLT_TM  NPA_CL  EVT_STAT_CD  EVT_CL_CD RPTER_SEX  \\\n",
       "0      20200101             7      13           10        501         2   \n",
       "1      20200101           132      13           10        501         1   \n",
       "2      20200101            39      13           10        501         1   \n",
       "3      20200101           110      13           10        601         3   \n",
       "4      20200101           342      13           10        601         1   \n",
       "\n",
       "             HPPN_OLD_ADDR      HPPN_X     HPPN_Y SME_EVT_YN  \n",
       "0   대전광역시 중구 목동(행정:목동) 360  127.409270  36.333010          Y  \n",
       "1  대전광역시 중구 대흥동(대흥동) 499-1  127.421295  36.325575        NaN  \n",
       "2                      NaN  127.404663  36.341685        NaN  \n",
       "3                      NaN    0.000000   0.000000        NaN  \n",
       "4                      NaN  127.404663  36.341685        NaN  "
      ]
     },
     "execution_count": 15,
     "metadata": {},
     "output_type": "execute_result"
    }
   ],
   "source": [
    "npa = \"https://ais7.s3.ap-northeast-2.amazonaws.com/%EC%82%AC%EB%B3%B8(29)+-+%ED%99%9C%EC%9A%A9%EB%8D%B0%EC%9D%B4%ED%84%B0/NPA2020.csv\"\n",
    "npa2020 = pd.read_csv(npa, encoding='cp949')\n",
    "npa2020.head()"
   ]
  },
  {
   "cell_type": "code",
   "execution_count": 9,
   "metadata": {},
   "outputs": [
    {
     "data": {
      "text/html": [
       "<div>\n",
       "<style scoped>\n",
       "    .dataframe tbody tr th:only-of-type {\n",
       "        vertical-align: middle;\n",
       "    }\n",
       "\n",
       "    .dataframe tbody tr th {\n",
       "        vertical-align: top;\n",
       "    }\n",
       "\n",
       "    .dataframe thead th {\n",
       "        text-align: right;\n",
       "    }\n",
       "</style>\n",
       "<table border=\"1\" class=\"dataframe\">\n",
       "  <thead>\n",
       "    <tr style=\"text-align: right;\">\n",
       "      <th></th>\n",
       "      <th>No</th>\n",
       "      <th>컬럼명</th>\n",
       "      <th>컬럼 그룹</th>\n",
       "      <th>코드명</th>\n",
       "      <th>코드값</th>\n",
       "    </tr>\n",
       "  </thead>\n",
       "  <tbody>\n",
       "    <tr>\n",
       "      <th>57</th>\n",
       "      <td>58</td>\n",
       "      <td>EVT_CL_CD</td>\n",
       "      <td>사건종별코드</td>\n",
       "      <td>보이스피싱</td>\n",
       "      <td>215</td>\n",
       "    </tr>\n",
       "  </tbody>\n",
       "</table>\n",
       "</div>"
      ],
      "text/plain": [
       "    No        컬럼명   컬럼 그룹    코드명  코드값\n",
       "57  58  EVT_CL_CD  사건종별코드  보이스피싱  215"
      ]
     },
     "metadata": {},
     "output_type": "display_data"
    },
    {
     "data": {
      "text/html": [
       "<div>\n",
       "<style scoped>\n",
       "    .dataframe tbody tr th:only-of-type {\n",
       "        vertical-align: middle;\n",
       "    }\n",
       "\n",
       "    .dataframe tbody tr th {\n",
       "        vertical-align: top;\n",
       "    }\n",
       "\n",
       "    .dataframe thead th {\n",
       "        text-align: right;\n",
       "    }\n",
       "</style>\n",
       "<table border=\"1\" class=\"dataframe\">\n",
       "  <thead>\n",
       "    <tr style=\"text-align: right;\">\n",
       "      <th></th>\n",
       "      <th>No</th>\n",
       "      <th>컬럼명</th>\n",
       "      <th>컬럼 그룹</th>\n",
       "      <th>코드명</th>\n",
       "      <th>코드값</th>\n",
       "    </tr>\n",
       "  </thead>\n",
       "  <tbody>\n",
       "    <tr>\n",
       "      <th>67</th>\n",
       "      <td>68</td>\n",
       "      <td>EVT_CL_CD</td>\n",
       "      <td>사건종별코드</td>\n",
       "      <td>교통사고</td>\n",
       "      <td>401</td>\n",
       "    </tr>\n",
       "  </tbody>\n",
       "</table>\n",
       "</div>"
      ],
      "text/plain": [
       "    No        컬럼명   컬럼 그룹   코드명  코드값\n",
       "67  68  EVT_CL_CD  사건종별코드  교통사고  401"
      ]
     },
     "metadata": {},
     "output_type": "display_data"
    }
   ],
   "source": [
    "display(codeBook.loc[(codeBook.코드명 == \"보이스피싱\")])\n",
    "display(codeBook.loc[(codeBook.코드명 == \"교통사고\")])"
   ]
  },
  {
   "cell_type": "code",
   "execution_count": 37,
   "metadata": {},
   "outputs": [],
   "source": [
    "voice20 = kp2020.loc[(kp2020.EVT_CL_CD == 215)]\n",
    "accident20 = kp2020.loc[(kp2020.EVT_CL_CD == 401)]"
   ]
  },
  {
   "cell_type": "code",
   "execution_count": 49,
   "metadata": {},
   "outputs": [
    {
     "name": "stdout",
     "output_type": "stream",
     "text": [
      "kp2020 보이스피싱 : 1.4878738282993602\n",
      "kp2020 교통사고 : 9.5372712393989\n"
     ]
    }
   ],
   "source": [
    "print(f\"kp2020 보이스피싱 : {(voice20.SME_EVT_YN.count() / kp2020.SME_EVT_YN.count()) * 100}\")\n",
    "print(f\"kp2020 교통사고 : {(accident20.SME_EVT_YN.count() / kp2020.SME_EVT_YN.count()) * 100}\")"
   ]
  },
  {
   "cell_type": "code",
   "execution_count": 40,
   "metadata": {},
   "outputs": [],
   "source": [
    "voice21 = kp2021.loc[(kp2021.EVT_CL_CD == 215)]\n",
    "accident21 = kp2021.loc[(kp2021.EVT_CL_CD == 401)]"
   ]
  },
  {
   "cell_type": "code",
   "execution_count": 50,
   "metadata": {},
   "outputs": [
    {
     "name": "stdout",
     "output_type": "stream",
     "text": [
      "kp2021 보이스피싱 : 1.0020643301996166\n",
      "kp2021 교통사고 : 7.086692158458218\n"
     ]
    }
   ],
   "source": [
    "print(f\"kp2021 보이스피싱 : {(voice21.SME_EVT_YN.count() / kp2021.SME_EVT_YN.count()) * 100}\")\n",
    "print(f\"kp2021 교통사고 : {(accident21.SME_EVT_YN.count() / kp2021.SME_EVT_YN.count()) * 100}\")"
   ]
  },
  {
   "cell_type": "code",
   "execution_count": 44,
   "metadata": {},
   "outputs": [],
   "source": [
    "voice_npa20 = npa2020.loc[(npa2020.EVT_CL_CD == 215)]\n",
    "accident_npa20 = npa2020.loc[(npa2020.EVT_CL_CD == 401)]"
   ]
  },
  {
   "cell_type": "code",
   "execution_count": 51,
   "metadata": {},
   "outputs": [
    {
     "name": "stdout",
     "output_type": "stream",
     "text": [
      "npa20 보이스피싱 : 1.069924309003634\n",
      "npa20 교통사고 : 8.623889186042312\n"
     ]
    }
   ],
   "source": [
    "print(f\"npa20 보이스피싱 : {(voice_npa20.SME_EVT_YN.count() / npa2020.SME_EVT_YN.count()) * 100}\")\n",
    "print(f\"npa20 교통사고 : {(accident_npa20.SME_EVT_YN.count() / npa2020.SME_EVT_YN.count()) * 100}\")"
   ]
  },
  {
   "cell_type": "code",
   "execution_count": 67,
   "metadata": {},
   "outputs": [
    {
     "data": {
      "text/html": [
       "<div>\n",
       "<style scoped>\n",
       "    .dataframe tbody tr th:only-of-type {\n",
       "        vertical-align: middle;\n",
       "    }\n",
       "\n",
       "    .dataframe tbody tr th {\n",
       "        vertical-align: top;\n",
       "    }\n",
       "\n",
       "    .dataframe thead th {\n",
       "        text-align: right;\n",
       "    }\n",
       "</style>\n",
       "<table border=\"1\" class=\"dataframe\">\n",
       "  <thead>\n",
       "    <tr style=\"text-align: right;\">\n",
       "      <th></th>\n",
       "      <th>RECV_CPLT_DT</th>\n",
       "      <th>RECV_CPLT_TM</th>\n",
       "      <th>NPA_CL</th>\n",
       "      <th>EVT_STAT_CD</th>\n",
       "      <th>EVT_CL_CD</th>\n",
       "      <th>RPTER_SEX</th>\n",
       "      <th>HPPN_OLD_ADDR</th>\n",
       "      <th>HPPN_X</th>\n",
       "      <th>HPPN_Y</th>\n",
       "      <th>SME_EVT_YN</th>\n",
       "    </tr>\n",
       "  </thead>\n",
       "  <tbody>\n",
       "    <tr>\n",
       "      <th>740911</th>\n",
       "      <td>20200707</td>\n",
       "      <td>192136</td>\n",
       "      <td>19</td>\n",
       "      <td>10</td>\n",
       "      <td>215</td>\n",
       "      <td>2</td>\n",
       "      <td>충청남도 천안시 동남구 청당동(행정:청룡동) 481</td>\n",
       "      <td>127.156113</td>\n",
       "      <td>36.786832</td>\n",
       "      <td>NaN</td>\n",
       "    </tr>\n",
       "    <tr>\n",
       "      <th>1083534</th>\n",
       "      <td>20201026</td>\n",
       "      <td>221008</td>\n",
       "      <td>19</td>\n",
       "      <td>10</td>\n",
       "      <td>215</td>\n",
       "      <td>1</td>\n",
       "      <td>충청남도 서산시 팔봉면 어송리(행정:팔봉면) 산109</td>\n",
       "      <td>126.360185</td>\n",
       "      <td>36.800520</td>\n",
       "      <td></td>\n",
       "    </tr>\n",
       "    <tr>\n",
       "      <th>783377</th>\n",
       "      <td>20200811</td>\n",
       "      <td>92933</td>\n",
       "      <td>19</td>\n",
       "      <td>10</td>\n",
       "      <td>215</td>\n",
       "      <td>2</td>\n",
       "      <td>충청남도 천안시 동남구 신부동(행정:신안동) 451-5</td>\n",
       "      <td>127.153650</td>\n",
       "      <td>36.818067</td>\n",
       "      <td></td>\n",
       "    </tr>\n",
       "    <tr>\n",
       "      <th>522135</th>\n",
       "      <td>20200526</td>\n",
       "      <td>160446</td>\n",
       "      <td>19</td>\n",
       "      <td>10</td>\n",
       "      <td>215</td>\n",
       "      <td>1</td>\n",
       "      <td>충청남도 천안시 서북구 성거읍 저리(행정:성거읍) 57-32</td>\n",
       "      <td>127.200362</td>\n",
       "      <td>36.877174</td>\n",
       "      <td>NaN</td>\n",
       "    </tr>\n",
       "    <tr>\n",
       "      <th>897623</th>\n",
       "      <td>20200910</td>\n",
       "      <td>193723</td>\n",
       "      <td>19</td>\n",
       "      <td>10</td>\n",
       "      <td>215</td>\n",
       "      <td>2</td>\n",
       "      <td>세종특별자치시 세종시 한솔동(행정:한솔동) 971</td>\n",
       "      <td>127.251800</td>\n",
       "      <td>36.479170</td>\n",
       "      <td></td>\n",
       "    </tr>\n",
       "  </tbody>\n",
       "</table>\n",
       "</div>"
      ],
      "text/plain": [
       "         RECV_CPLT_DT  RECV_CPLT_TM  NPA_CL  EVT_STAT_CD  EVT_CL_CD RPTER_SEX  \\\n",
       "740911       20200707        192136      19           10        215         2   \n",
       "1083534      20201026        221008      19           10        215         1   \n",
       "783377       20200811         92933      19           10        215         2   \n",
       "522135       20200526        160446      19           10        215         1   \n",
       "897623       20200910        193723      19           10        215         2   \n",
       "\n",
       "                             HPPN_OLD_ADDR      HPPN_X     HPPN_Y SME_EVT_YN  \n",
       "740911        충청남도 천안시 동남구 청당동(행정:청룡동) 481  127.156113  36.786832        NaN  \n",
       "1083534      충청남도 서산시 팔봉면 어송리(행정:팔봉면) 산109  126.360185  36.800520             \n",
       "783377      충청남도 천안시 동남구 신부동(행정:신안동) 451-5  127.153650  36.818067             \n",
       "522135   충청남도 천안시 서북구 성거읍 저리(행정:성거읍) 57-32  127.200362  36.877174        NaN  \n",
       "897623         세종특별자치시 세종시 한솔동(행정:한솔동) 971  127.251800  36.479170             "
      ]
     },
     "execution_count": 67,
     "metadata": {},
     "output_type": "execute_result"
    }
   ],
   "source": [
    "voice_npa20.sample(5)"
   ]
  },
  {
   "cell_type": "code",
   "execution_count": 66,
   "metadata": {},
   "outputs": [
    {
     "data": {
      "text/html": [
       "<div>\n",
       "<style scoped>\n",
       "    .dataframe tbody tr th:only-of-type {\n",
       "        vertical-align: middle;\n",
       "    }\n",
       "\n",
       "    .dataframe tbody tr th {\n",
       "        vertical-align: top;\n",
       "    }\n",
       "\n",
       "    .dataframe thead th {\n",
       "        text-align: right;\n",
       "    }\n",
       "</style>\n",
       "<table border=\"1\" class=\"dataframe\">\n",
       "  <thead>\n",
       "    <tr style=\"text-align: right;\">\n",
       "      <th></th>\n",
       "      <th>RECV_CPLT_DT</th>\n",
       "      <th>RECV_CPLT_TM</th>\n",
       "      <th>NPA_CL</th>\n",
       "      <th>EVT_STAT_CD</th>\n",
       "      <th>EVT_CL_CD</th>\n",
       "      <th>RPTER_SEX</th>\n",
       "      <th>HPPN_OLD_ADDR</th>\n",
       "      <th>HPPN_X</th>\n",
       "      <th>HPPN_Y</th>\n",
       "      <th>SME_EVT_YN</th>\n",
       "    </tr>\n",
       "  </thead>\n",
       "  <tbody>\n",
       "    <tr>\n",
       "      <th>597671</th>\n",
       "      <td>20200706</td>\n",
       "      <td>133913</td>\n",
       "      <td>13</td>\n",
       "      <td>10</td>\n",
       "      <td>401</td>\n",
       "      <td>1</td>\n",
       "      <td>대전광역시 서구 탄방동(행정:탄방동) 89-7</td>\n",
       "      <td>127.391806</td>\n",
       "      <td>36.340839</td>\n",
       "      <td>NaN</td>\n",
       "    </tr>\n",
       "    <tr>\n",
       "      <th>784920</th>\n",
       "      <td>20200811</td>\n",
       "      <td>72227</td>\n",
       "      <td>19</td>\n",
       "      <td>10</td>\n",
       "      <td>401</td>\n",
       "      <td>1</td>\n",
       "      <td>세종특별자치시 세종시 고운동(고운동) 157-20</td>\n",
       "      <td>127.246474</td>\n",
       "      <td>36.522648</td>\n",
       "      <td></td>\n",
       "    </tr>\n",
       "    <tr>\n",
       "      <th>914101</th>\n",
       "      <td>20200913</td>\n",
       "      <td>135946</td>\n",
       "      <td>19</td>\n",
       "      <td>10</td>\n",
       "      <td>401</td>\n",
       "      <td>3</td>\n",
       "      <td>충청북도 청주시 흥덕구 옥산면 가락리 776-5 경부고속도로 옥산JC에서 옥산TG방...</td>\n",
       "      <td>127.372900</td>\n",
       "      <td>36.668330</td>\n",
       "      <td></td>\n",
       "    </tr>\n",
       "    <tr>\n",
       "      <th>520168</th>\n",
       "      <td>20200528</td>\n",
       "      <td>120316</td>\n",
       "      <td>19</td>\n",
       "      <td>10</td>\n",
       "      <td>401</td>\n",
       "      <td>1</td>\n",
       "      <td>충청남도 홍성군 장곡면 천태리(장곡면) 342-8</td>\n",
       "      <td>126.759012</td>\n",
       "      <td>36.509694</td>\n",
       "      <td>NaN</td>\n",
       "    </tr>\n",
       "    <tr>\n",
       "      <th>803885</th>\n",
       "      <td>20200816</td>\n",
       "      <td>140223</td>\n",
       "      <td>19</td>\n",
       "      <td>10</td>\n",
       "      <td>401</td>\n",
       "      <td>2</td>\n",
       "      <td>충청남도 금산군 진산면 삼가리(행정:진산면) 46</td>\n",
       "      <td>127.397431</td>\n",
       "      <td>36.117604</td>\n",
       "      <td></td>\n",
       "    </tr>\n",
       "  </tbody>\n",
       "</table>\n",
       "</div>"
      ],
      "text/plain": [
       "        RECV_CPLT_DT  RECV_CPLT_TM  NPA_CL  EVT_STAT_CD  EVT_CL_CD RPTER_SEX  \\\n",
       "597671      20200706        133913      13           10        401         1   \n",
       "784920      20200811         72227      19           10        401         1   \n",
       "914101      20200913        135946      19           10        401         3   \n",
       "520168      20200528        120316      19           10        401         1   \n",
       "803885      20200816        140223      19           10        401         2   \n",
       "\n",
       "                                            HPPN_OLD_ADDR      HPPN_X  \\\n",
       "597671                          대전광역시 서구 탄방동(행정:탄방동) 89-7  127.391806   \n",
       "784920                        세종특별자치시 세종시 고운동(고운동) 157-20  127.246474   \n",
       "914101  충청북도 청주시 흥덕구 옥산면 가락리 776-5 경부고속도로 옥산JC에서 옥산TG방...  127.372900   \n",
       "520168                        충청남도 홍성군 장곡면 천태리(장곡면) 342-8  126.759012   \n",
       "803885                        충청남도 금산군 진산면 삼가리(행정:진산면) 46  127.397431   \n",
       "\n",
       "           HPPN_Y SME_EVT_YN  \n",
       "597671  36.340839        NaN  \n",
       "784920  36.522648             \n",
       "914101  36.668330             \n",
       "520168  36.509694        NaN  \n",
       "803885  36.117604             "
      ]
     },
     "execution_count": 66,
     "metadata": {},
     "output_type": "execute_result"
    }
   ],
   "source": [
    "accident_npa20.sample(5)"
   ]
  },
  {
   "cell_type": "code",
   "execution_count": 59,
   "metadata": {},
   "outputs": [
    {
     "data": {
      "text/plain": [
       "array([19, 13, 31, 21, 11, 18, 15, 10, 16,  8, 22, 20], dtype=int64)"
      ]
     },
     "metadata": {},
     "output_type": "display_data"
    },
    {
     "data": {
      "text/plain": [
       "array([13, 19, 31, 21, 18, 20, 15, 11, 16, 22,  8, 17, 10, 23, 12, 14,  9,\n",
       "       24], dtype=int64)"
      ]
     },
     "metadata": {},
     "output_type": "display_data"
    },
    {
     "data": {
      "text/plain": [
       "array([13, 19], dtype=int64)"
      ]
     },
     "metadata": {},
     "output_type": "display_data"
    }
   ],
   "source": [
    "display(accident20.NPA_CL.unique())\n",
    "display(accident21.NPA_CL.unique())\n",
    "display(accident_npa20.NPA_CL.unique())"
   ]
  },
  {
   "cell_type": "code",
   "execution_count": 64,
   "metadata": {},
   "outputs": [
    {
     "data": {
      "text/plain": [
       "array([10], dtype=int64)"
      ]
     },
     "metadata": {},
     "output_type": "display_data"
    },
    {
     "data": {
      "text/plain": [
       "array([10,  5,  2,  3,  9], dtype=int64)"
      ]
     },
     "metadata": {},
     "output_type": "display_data"
    },
    {
     "data": {
      "text/plain": [
       "array([10,  5,  7,  2,  6], dtype=int64)"
      ]
     },
     "metadata": {},
     "output_type": "display_data"
    }
   ],
   "source": [
    "display(accident20.EVT_STAT_CD.unique())\n",
    "display(accident21.EVT_STAT_CD.unique())\n",
    "display(accident_npa20.EVT_STAT_CD.unique())"
   ]
  },
  {
   "cell_type": "code",
   "execution_count": 60,
   "metadata": {},
   "outputs": [
    {
     "data": {
      "text/plain": [
       "array([19, 13,  8, 31, 11, 15, 20, 23, 18, 12, 21,  9, 17], dtype=int64)"
      ]
     },
     "metadata": {},
     "output_type": "display_data"
    },
    {
     "data": {
      "text/plain": [
       "array([19, 13, 31, 10, 14, 12, 11,  8, 18, 20, 15, 23, 16,  9, 22, 21, 17],\n",
       "      dtype=int64)"
      ]
     },
     "metadata": {},
     "output_type": "display_data"
    },
    {
     "data": {
      "text/plain": [
       "array([13, 19], dtype=int64)"
      ]
     },
     "metadata": {},
     "output_type": "display_data"
    }
   ],
   "source": [
    "display(voice20.NPA_CL.unique())\n",
    "display(voice21.NPA_CL.unique())\n",
    "display(voice_npa20.NPA_CL.unique())"
   ]
  },
  {
   "cell_type": "code",
   "execution_count": 63,
   "metadata": {},
   "outputs": [
    {
     "data": {
      "text/plain": [
       "array([10,  5], dtype=int64)"
      ]
     },
     "metadata": {},
     "output_type": "display_data"
    },
    {
     "data": {
      "text/plain": [
       "array([10,  5,  7,  9], dtype=int64)"
      ]
     },
     "metadata": {},
     "output_type": "display_data"
    },
    {
     "data": {
      "text/plain": [
       "array([10,  5,  7], dtype=int64)"
      ]
     },
     "metadata": {},
     "output_type": "display_data"
    }
   ],
   "source": [
    "display(voice20.EVT_STAT_CD.unique())\n",
    "display(voice21.EVT_STAT_CD.unique())\n",
    "display(voice_npa20.EVT_STAT_CD.unique())"
   ]
  },
  {
   "cell_type": "code",
   "execution_count": null,
   "metadata": {},
   "outputs": [],
   "source": []
  }
 ],
 "metadata": {
  "kernelspec": {
   "display_name": "tf",
   "language": "python",
   "name": "python3"
  },
  "language_info": {
   "codemirror_mode": {
    "name": "ipython",
    "version": 3
   },
   "file_extension": ".py",
   "mimetype": "text/x-python",
   "name": "python",
   "nbconvert_exporter": "python",
   "pygments_lexer": "ipython3",
   "version": "3.9.13"
  },
  "orig_nbformat": 4,
  "vscode": {
   "interpreter": {
    "hash": "d92db622cb5bb78c2c77e21c3317885bdf8c1e85044705cff7d629a77fb46d17"
   }
  }
 },
 "nbformat": 4,
 "nbformat_minor": 2
}
