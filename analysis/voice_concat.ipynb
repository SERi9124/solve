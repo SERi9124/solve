{
 "cells": [
  {
   "cell_type": "code",
   "execution_count": 2,
   "metadata": {},
   "outputs": [],
   "source": [
    "import pandas as pd"
   ]
  },
  {
   "attachments": {},
   "cell_type": "markdown",
   "metadata": {},
   "source": [
    "#### S3에서 데이터 불러오기"
   ]
  },
  {
   "cell_type": "code",
   "execution_count": 3,
   "metadata": {},
   "outputs": [],
   "source": [
    "code = \"https://ais7.s3.ap-northeast-2.amazonaws.com/%EC%82%AC%EB%B3%B8(29)+-+%ED%99%9C%EC%9A%A9%EB%8D%B0%EC%9D%B4%ED%84%B0/codeBook_v3.xlsx\"\n",
    "codeBook = pd.read_excel(code)"
   ]
  },
  {
   "cell_type": "code",
   "execution_count": 4,
   "metadata": {},
   "outputs": [],
   "source": [
    "kp20 = \"https://ais7.s3.ap-northeast-2.amazonaws.com/%EC%82%AC%EB%B3%B8(29)+-+%ED%99%9C%EC%9A%A9%EB%8D%B0%EC%9D%B4%ED%84%B0/KP2020.csv\"\n",
    "kp2020 = pd.read_csv(kp20, encoding='cp949', index_col=False)"
   ]
  },
  {
   "cell_type": "code",
   "execution_count": 5,
   "metadata": {},
   "outputs": [],
   "source": [
    "kp21 = \"https://ais7.s3.ap-northeast-2.amazonaws.com/%EC%82%AC%EB%B3%B8(29)+-+%ED%99%9C%EC%9A%A9%EB%8D%B0%EC%9D%B4%ED%84%B0/KP2021.csv\"\n",
    "kp2021 = pd.read_csv(kp21, encoding='cp949', index_col=False)"
   ]
  },
  {
   "cell_type": "code",
   "execution_count": 6,
   "metadata": {},
   "outputs": [],
   "source": [
    "npa = \"https://ais7.s3.ap-northeast-2.amazonaws.com/%EC%82%AC%EB%B3%B8(29)+-+%ED%99%9C%EC%9A%A9%EB%8D%B0%EC%9D%B4%ED%84%B0/NPA2020.csv\"\n",
    "npa2020 = pd.read_csv(npa, encoding='cp949', index_col=False)"
   ]
  },
  {
   "attachments": {},
   "cell_type": "markdown",
   "metadata": {},
   "source": [
    "#### concat"
   ]
  },
  {
   "cell_type": "code",
   "execution_count": 247,
   "metadata": {},
   "outputs": [
    {
     "data": {
      "text/html": [
       "<div>\n",
       "<style scoped>\n",
       "    .dataframe tbody tr th:only-of-type {\n",
       "        vertical-align: middle;\n",
       "    }\n",
       "\n",
       "    .dataframe tbody tr th {\n",
       "        vertical-align: top;\n",
       "    }\n",
       "\n",
       "    .dataframe thead th {\n",
       "        text-align: right;\n",
       "    }\n",
       "</style>\n",
       "<table border=\"1\" class=\"dataframe\">\n",
       "  <thead>\n",
       "    <tr style=\"text-align: right;\">\n",
       "      <th></th>\n",
       "      <th>No</th>\n",
       "      <th>컬럼명</th>\n",
       "      <th>컬럼 그룹</th>\n",
       "      <th>코드명</th>\n",
       "      <th>코드값</th>\n",
       "    </tr>\n",
       "  </thead>\n",
       "  <tbody>\n",
       "    <tr>\n",
       "      <th>57</th>\n",
       "      <td>58</td>\n",
       "      <td>EVT_CL_CD</td>\n",
       "      <td>사건종별코드</td>\n",
       "      <td>보이스피싱</td>\n",
       "      <td>215</td>\n",
       "    </tr>\n",
       "  </tbody>\n",
       "</table>\n",
       "</div>"
      ],
      "text/plain": [
       "    No        컬럼명   컬럼 그룹    코드명  코드값\n",
       "57  58  EVT_CL_CD  사건종별코드  보이스피싱  215"
      ]
     },
     "metadata": {},
     "output_type": "display_data"
    }
   ],
   "source": [
    "display(codeBook.loc[(codeBook.코드명 == \"보이스피싱\")])"
   ]
  },
  {
   "cell_type": "code",
   "execution_count": 248,
   "metadata": {},
   "outputs": [],
   "source": [
    "# 보이스피싱 코드값에 해당하는 값만 추출\n",
    "voice20 = kp2020.loc[(kp2020.EVT_CL_CD == 215)]\n",
    "voice21 = kp2021.loc[(kp2021.EVT_CL_CD == 215)]\n",
    "voice_npa20 = npa2020.loc[(npa2020.EVT_CL_CD == 215)]"
   ]
  },
  {
   "cell_type": "code",
   "execution_count": 249,
   "metadata": {},
   "outputs": [
    {
     "name": "stdout",
     "output_type": "stream",
     "text": [
      "voice20: (1660, 10), voice21: (33829, 10), voice_npa20: (10779, 10)\n"
     ]
    }
   ],
   "source": [
    "print(f\"voice20: {voice20.shape}, voice21: {voice21.shape}, voice_npa20: {voice_npa20.shape}\")"
   ]
  },
  {
   "cell_type": "code",
   "execution_count": 250,
   "metadata": {},
   "outputs": [],
   "source": [
    "# kp2020, kp2021의 보이스피싱 컬럼만 먼저 concat\n",
    "concat_voice = pd.concat([voice20, voice21])\n",
    "# concat_voice.sample(10)"
   ]
  },
  {
   "cell_type": "code",
   "execution_count": 251,
   "metadata": {},
   "outputs": [
    {
     "data": {
      "text/html": [
       "<div>\n",
       "<style scoped>\n",
       "    .dataframe tbody tr th:only-of-type {\n",
       "        vertical-align: middle;\n",
       "    }\n",
       "\n",
       "    .dataframe tbody tr th {\n",
       "        vertical-align: top;\n",
       "    }\n",
       "\n",
       "    .dataframe thead th {\n",
       "        text-align: right;\n",
       "    }\n",
       "</style>\n",
       "<table border=\"1\" class=\"dataframe\">\n",
       "  <thead>\n",
       "    <tr style=\"text-align: right;\">\n",
       "      <th></th>\n",
       "      <th>RECV_CPLT_DM</th>\n",
       "      <th>NPA_CL</th>\n",
       "      <th>EVT_STAT_CD</th>\n",
       "      <th>EVT_CL_CD</th>\n",
       "      <th>RPTER_SEX</th>\n",
       "      <th>HPPN_PNU_ADDR</th>\n",
       "      <th>HPPN_X</th>\n",
       "      <th>HPPN_Y</th>\n",
       "      <th>SME_EVT_YN</th>\n",
       "    </tr>\n",
       "  </thead>\n",
       "  <tbody>\n",
       "    <tr>\n",
       "      <th>1582582</th>\n",
       "      <td>2022-04-26 17:37:10</td>\n",
       "      <td>13</td>\n",
       "      <td>10</td>\n",
       "      <td>215</td>\n",
       "      <td>1.0</td>\n",
       "      <td>NaN</td>\n",
       "      <td>127.404663</td>\n",
       "      <td>36.341685</td>\n",
       "      <td>Y</td>\n",
       "    </tr>\n",
       "    <tr>\n",
       "      <th>1691158</th>\n",
       "      <td>2022-05-26 12:54:34</td>\n",
       "      <td>31</td>\n",
       "      <td>10</td>\n",
       "      <td>215</td>\n",
       "      <td>1.0</td>\n",
       "      <td>세종특별자치시 세종시 아름동 (행정:아름동 )</td>\n",
       "      <td>127.246219</td>\n",
       "      <td>36.511808</td>\n",
       "      <td>NaN</td>\n",
       "    </tr>\n",
       "    <tr>\n",
       "      <th>2571391</th>\n",
       "      <td>2023-01-10 15:54:15</td>\n",
       "      <td>13</td>\n",
       "      <td>10</td>\n",
       "      <td>215</td>\n",
       "      <td>1.0</td>\n",
       "      <td>NaN</td>\n",
       "      <td>127.404663</td>\n",
       "      <td>36.341685</td>\n",
       "      <td>NaN</td>\n",
       "    </tr>\n",
       "    <tr>\n",
       "      <th>446626</th>\n",
       "      <td>2021-05-24 18:34:19</td>\n",
       "      <td>13</td>\n",
       "      <td>10</td>\n",
       "      <td>215</td>\n",
       "      <td>2.0</td>\n",
       "      <td>대전광역시 대덕구 중리동(중리동) 275-30</td>\n",
       "      <td>127.421013</td>\n",
       "      <td>36.361819</td>\n",
       "      <td>NaN</td>\n",
       "    </tr>\n",
       "    <tr>\n",
       "      <th>1598247</th>\n",
       "      <td>2022-04-29 15:26:15</td>\n",
       "      <td>13</td>\n",
       "      <td>10</td>\n",
       "      <td>215</td>\n",
       "      <td>1.0</td>\n",
       "      <td>충청남도 계룡시 신도안면 정장리(신도안면 ) 273-4</td>\n",
       "      <td>127.231999</td>\n",
       "      <td>36.299860</td>\n",
       "      <td>N</td>\n",
       "    </tr>\n",
       "  </tbody>\n",
       "</table>\n",
       "</div>"
      ],
      "text/plain": [
       "               RECV_CPLT_DM  NPA_CL  EVT_STAT_CD  EVT_CL_CD  RPTER_SEX  \\\n",
       "1582582 2022-04-26 17:37:10      13           10        215        1.0   \n",
       "1691158 2022-05-26 12:54:34      31           10        215        1.0   \n",
       "2571391 2023-01-10 15:54:15      13           10        215        1.0   \n",
       "446626  2021-05-24 18:34:19      13           10        215        2.0   \n",
       "1598247 2022-04-29 15:26:15      13           10        215        1.0   \n",
       "\n",
       "                          HPPN_PNU_ADDR      HPPN_X     HPPN_Y SME_EVT_YN  \n",
       "1582582                             NaN  127.404663  36.341685          Y  \n",
       "1691158       세종특별자치시 세종시 아름동 (행정:아름동 )  127.246219  36.511808        NaN  \n",
       "2571391                             NaN  127.404663  36.341685        NaN  \n",
       "446626        대전광역시 대덕구 중리동(중리동) 275-30  127.421013  36.361819        NaN  \n",
       "1598247  충청남도 계룡시 신도안면 정장리(신도안면 ) 273-4  127.231999  36.299860          N  "
      ]
     },
     "execution_count": 251,
     "metadata": {},
     "output_type": "execute_result"
    }
   ],
   "source": [
    "# RECV_CPLT_DM 20xx년 으로 변환을 위해 문자열앞에 20을 붙여줌\n",
    "concat_voice[\"RECV_CPLT_DM\"] = [\"20\" + concat_voice[\"RECV_CPLT_DM\"].iloc[x] for x in range(len(concat_voice[\"RECV_CPLT_DM\"]))]\n",
    "\n",
    "# RECV_CPLT_DM 을 datetime 형변환\n",
    "concat_voice[\"RECV_CPLT_DM\"] = pd.to_datetime(concat_voice[\"RECV_CPLT_DM\"])\n",
    "\n",
    "# RECV_DEPT_NM 컬럼이 NPA_CL 컬럼값과 같아서 제거\n",
    "concat_voice = concat_voice.drop([\"RECV_DEPT_NM\"], axis=1)\n",
    "\n",
    "concat_voice.sample(5)"
   ]
  },
  {
   "cell_type": "code",
   "execution_count": 252,
   "metadata": {},
   "outputs": [
    {
     "name": "stdout",
     "output_type": "stream",
     "text": [
      "<class 'pandas.core.frame.DataFrame'>\n",
      "Int64Index: 10779 entries, 3221 to 1177944\n",
      "Data columns (total 10 columns):\n",
      " #   Column         Non-Null Count  Dtype  \n",
      "---  ------         --------------  -----  \n",
      " 0   RECV_CPLT_DT   10779 non-null  object \n",
      " 1   RECV_CPLT_TM   10779 non-null  object \n",
      " 2   NPA_CL         10779 non-null  int64  \n",
      " 3   EVT_STAT_CD    10779 non-null  int64  \n",
      " 4   EVT_CL_CD      10779 non-null  int64  \n",
      " 5   RPTER_SEX      10779 non-null  float64\n",
      " 6   HPPN_OLD_ADDR  10147 non-null  object \n",
      " 7   HPPN_X         10664 non-null  float64\n",
      " 8   HPPN_Y         10664 non-null  float64\n",
      " 9   SME_EVT_YN     6221 non-null   object \n",
      "dtypes: float64(3), int64(3), object(4)\n",
      "memory usage: 926.3+ KB\n"
     ]
    }
   ],
   "source": [
    "# RECV_CPLT_DT, RECV_CPLT_TM 를 datetime 형변환을 위해 str로 형변환\n",
    "# concat_voice와 콘캣시 타입에 맞추기위해 float로 형변환\n",
    "voice_npa20 = voice_npa20.astype({\"RECV_CPLT_DT\" : \"str\", \"RECV_CPLT_TM\" : \"str\", \"RPTER_SEX\" : \"float\"})\n",
    "voice_npa20.info()"
   ]
  },
  {
   "cell_type": "code",
   "execution_count": 253,
   "metadata": {},
   "outputs": [
    {
     "data": {
      "text/html": [
       "<div>\n",
       "<style scoped>\n",
       "    .dataframe tbody tr th:only-of-type {\n",
       "        vertical-align: middle;\n",
       "    }\n",
       "\n",
       "    .dataframe tbody tr th {\n",
       "        vertical-align: top;\n",
       "    }\n",
       "\n",
       "    .dataframe thead th {\n",
       "        text-align: right;\n",
       "    }\n",
       "</style>\n",
       "<table border=\"1\" class=\"dataframe\">\n",
       "  <thead>\n",
       "    <tr style=\"text-align: right;\">\n",
       "      <th></th>\n",
       "      <th>RECV_CPLT_DT</th>\n",
       "      <th>RECV_CPLT_TM</th>\n",
       "      <th>NPA_CL</th>\n",
       "      <th>EVT_STAT_CD</th>\n",
       "      <th>EVT_CL_CD</th>\n",
       "      <th>RPTER_SEX</th>\n",
       "      <th>HPPN_OLD_ADDR</th>\n",
       "      <th>HPPN_X</th>\n",
       "      <th>HPPN_Y</th>\n",
       "      <th>SME_EVT_YN</th>\n",
       "      <th>RECV_CPLT_DM</th>\n",
       "    </tr>\n",
       "  </thead>\n",
       "  <tbody>\n",
       "    <tr>\n",
       "      <th>603464</th>\n",
       "      <td>20200726</td>\n",
       "      <td>16:36:15</td>\n",
       "      <td>13</td>\n",
       "      <td>10</td>\n",
       "      <td>215</td>\n",
       "      <td>2.0</td>\n",
       "      <td>대전광역시 서구 도마동(도마2동) 334-24</td>\n",
       "      <td>127.371118</td>\n",
       "      <td>36.316840</td>\n",
       "      <td>NaN</td>\n",
       "      <td>2020-07-26 16:36:15</td>\n",
       "    </tr>\n",
       "    <tr>\n",
       "      <th>29074</th>\n",
       "      <td>20200110</td>\n",
       "      <td>11:14:10</td>\n",
       "      <td>13</td>\n",
       "      <td>10</td>\n",
       "      <td>215</td>\n",
       "      <td>2.0</td>\n",
       "      <td>대전광역시 대덕구 송촌동(행정:송촌동) 227-1</td>\n",
       "      <td>127.441950</td>\n",
       "      <td>36.357615</td>\n",
       "      <td>NaN</td>\n",
       "      <td>2020-01-10 11:14:10</td>\n",
       "    </tr>\n",
       "  </tbody>\n",
       "</table>\n",
       "</div>"
      ],
      "text/plain": [
       "       RECV_CPLT_DT RECV_CPLT_TM  NPA_CL  EVT_STAT_CD  EVT_CL_CD  RPTER_SEX  \\\n",
       "603464     20200726     16:36:15      13           10        215        2.0   \n",
       "29074      20200110     11:14:10      13           10        215        2.0   \n",
       "\n",
       "                      HPPN_OLD_ADDR      HPPN_X     HPPN_Y SME_EVT_YN  \\\n",
       "603464    대전광역시 서구 도마동(도마2동) 334-24  127.371118  36.316840        NaN   \n",
       "29074   대전광역시 대덕구 송촌동(행정:송촌동) 227-1  127.441950  36.357615        NaN   \n",
       "\n",
       "              RECV_CPLT_DM  \n",
       "603464 2020-07-26 16:36:15  \n",
       "29074  2020-01-10 11:14:10  "
      ]
     },
     "execution_count": 253,
     "metadata": {},
     "output_type": "execute_result"
    }
   ],
   "source": [
    "# RECV_CPLT_TM 에 숫자가 6개가 아닐경우 0으로 채워줌\n",
    "voice_npa20[\"RECV_CPLT_TM\"] = [voice_npa20[\"RECV_CPLT_TM\"].iloc[x].zfill(6) for x in range(len(voice_npa20[\"RECV_CPLT_TM\"]))]\n",
    "\n",
    "# RECV_CPLT_TM 시,분,초 단위로 나누기위해 슬라이싱을 통해 ':' 를 붙여줌\n",
    "voice_npa20[\"RECV_CPLT_TM\"] = [voice_npa20[\"RECV_CPLT_TM\"].iloc[x][:2] + \":\" + voice_npa20[\"RECV_CPLT_TM\"].iloc[x][2:4] + \":\" + voice_npa20[\"RECV_CPLT_TM\"].iloc[x][4:] for x in range(len(voice_npa20[\"RECV_CPLT_TM\"]))]\n",
    "\n",
    "# 콘캣시키기 위해 RECV_CPLT_DM 컬럼을 생성하면서 RECV_CPLT_DT와 RECV_CPLT_TM를 합쳐줌\n",
    "voice_npa20[\"RECV_CPLT_DM\"] = voice_npa20[\"RECV_CPLT_DT\"] + \" \" + voice_npa20[\"RECV_CPLT_TM\"]\n",
    "\n",
    "# RECV_CPLT_DM 을 datetime 형변환\n",
    "voice_npa20[\"RECV_CPLT_DM\"] = pd.to_datetime(voice_npa20[\"RECV_CPLT_DM\"])\n",
    "\n",
    "voice_npa20.sample(2)"
   ]
  },
  {
   "cell_type": "code",
   "execution_count": 254,
   "metadata": {},
   "outputs": [
    {
     "data": {
      "text/html": [
       "<div>\n",
       "<style scoped>\n",
       "    .dataframe tbody tr th:only-of-type {\n",
       "        vertical-align: middle;\n",
       "    }\n",
       "\n",
       "    .dataframe tbody tr th {\n",
       "        vertical-align: top;\n",
       "    }\n",
       "\n",
       "    .dataframe thead th {\n",
       "        text-align: right;\n",
       "    }\n",
       "</style>\n",
       "<table border=\"1\" class=\"dataframe\">\n",
       "  <thead>\n",
       "    <tr style=\"text-align: right;\">\n",
       "      <th></th>\n",
       "      <th>RECV_CPLT_DM</th>\n",
       "      <th>NPA_CL</th>\n",
       "      <th>EVT_STAT_CD</th>\n",
       "      <th>EVT_CL_CD</th>\n",
       "      <th>RPTER_SEX</th>\n",
       "      <th>HPPN_PNU_ADDR</th>\n",
       "      <th>HPPN_X</th>\n",
       "      <th>HPPN_Y</th>\n",
       "      <th>SME_EVT_YN</th>\n",
       "    </tr>\n",
       "  </thead>\n",
       "  <tbody>\n",
       "    <tr>\n",
       "      <th>266025</th>\n",
       "      <td>2020-03-18 14:01:25</td>\n",
       "      <td>13</td>\n",
       "      <td>10</td>\n",
       "      <td>215</td>\n",
       "      <td>1.0</td>\n",
       "      <td>대전광역시 서구 용문동(행정:용문동) 594-6</td>\n",
       "      <td>127.392509</td>\n",
       "      <td>36.338025</td>\n",
       "      <td>NaN</td>\n",
       "    </tr>\n",
       "    <tr>\n",
       "      <th>1166906</th>\n",
       "      <td>2020-11-19 01:04:18</td>\n",
       "      <td>19</td>\n",
       "      <td>10</td>\n",
       "      <td>215</td>\n",
       "      <td>3.0</td>\n",
       "      <td>충청남도 천안시 서북구 성정동(성정2동) 630-10</td>\n",
       "      <td>127.142265</td>\n",
       "      <td>36.825346</td>\n",
       "      <td></td>\n",
       "    </tr>\n",
       "  </tbody>\n",
       "</table>\n",
       "</div>"
      ],
      "text/plain": [
       "               RECV_CPLT_DM  NPA_CL  EVT_STAT_CD  EVT_CL_CD  RPTER_SEX  \\\n",
       "266025  2020-03-18 14:01:25      13           10        215        1.0   \n",
       "1166906 2020-11-19 01:04:18      19           10        215        3.0   \n",
       "\n",
       "                         HPPN_PNU_ADDR      HPPN_X     HPPN_Y SME_EVT_YN  \n",
       "266025      대전광역시 서구 용문동(행정:용문동) 594-6  127.392509  36.338025        NaN  \n",
       "1166906  충청남도 천안시 서북구 성정동(성정2동) 630-10  127.142265  36.825346             "
      ]
     },
     "execution_count": 254,
     "metadata": {},
     "output_type": "execute_result"
    }
   ],
   "source": [
    "# RECV_CPLT_DM을 생성하였으므로 RECV_CPLT_DT, RECV_CPLT_TM 는 drop\n",
    "voice_npa20 = voice_npa20.drop([\"RECV_CPLT_DT\", \"RECV_CPLT_TM\"], axis=1)\n",
    "\n",
    "# 콘캣시 컬럼이름값이 같아야 해서 컬럼이름 변경\n",
    "voice_npa20 = voice_npa20.rename(columns={'HPPN_OLD_ADDR' : 'HPPN_PNU_ADDR'})\n",
    "\n",
    "# concat_voice의 컬럼순서와 맞춤\n",
    "voice_npa20 = voice_npa20[['RECV_CPLT_DM', 'NPA_CL', 'EVT_STAT_CD', 'EVT_CL_CD',\n",
    "       'RPTER_SEX', 'HPPN_PNU_ADDR', 'HPPN_X', 'HPPN_Y', 'SME_EVT_YN']]\n",
    "\n",
    "voice_npa20.sample(2)"
   ]
  },
  {
   "cell_type": "code",
   "execution_count": 255,
   "metadata": {},
   "outputs": [
    {
     "data": {
      "text/html": [
       "<div>\n",
       "<style scoped>\n",
       "    .dataframe tbody tr th:only-of-type {\n",
       "        vertical-align: middle;\n",
       "    }\n",
       "\n",
       "    .dataframe tbody tr th {\n",
       "        vertical-align: top;\n",
       "    }\n",
       "\n",
       "    .dataframe thead th {\n",
       "        text-align: right;\n",
       "    }\n",
       "</style>\n",
       "<table border=\"1\" class=\"dataframe\">\n",
       "  <thead>\n",
       "    <tr style=\"text-align: right;\">\n",
       "      <th></th>\n",
       "      <th>RECV_CPLT_DM</th>\n",
       "      <th>NPA_CL</th>\n",
       "      <th>EVT_STAT_CD</th>\n",
       "      <th>EVT_CL_CD</th>\n",
       "      <th>RPTER_SEX</th>\n",
       "      <th>HPPN_PNU_ADDR</th>\n",
       "      <th>HPPN_X</th>\n",
       "      <th>HPPN_Y</th>\n",
       "      <th>SME_EVT_YN</th>\n",
       "    </tr>\n",
       "  </thead>\n",
       "  <tbody>\n",
       "    <tr>\n",
       "      <th>110383</th>\n",
       "      <td>2020-02-05 21:44:07</td>\n",
       "      <td>19</td>\n",
       "      <td>10</td>\n",
       "      <td>215</td>\n",
       "      <td>2.0</td>\n",
       "      <td>세종특별자치시 세종시 보람동(행정:보람동) 635-5</td>\n",
       "      <td>127.295141</td>\n",
       "      <td>36.480948</td>\n",
       "      <td>NaN</td>\n",
       "    </tr>\n",
       "    <tr>\n",
       "      <th>549751</th>\n",
       "      <td>2020-06-12 12:29:22</td>\n",
       "      <td>19</td>\n",
       "      <td>10</td>\n",
       "      <td>215</td>\n",
       "      <td>1.0</td>\n",
       "      <td>충청남도 아산시 온천동행정온양2동 2231</td>\n",
       "      <td>127.001072</td>\n",
       "      <td>36.781393</td>\n",
       "      <td></td>\n",
       "    </tr>\n",
       "    <tr>\n",
       "      <th>1092391</th>\n",
       "      <td>2020-10-29 11:52:56</td>\n",
       "      <td>13</td>\n",
       "      <td>10</td>\n",
       "      <td>215</td>\n",
       "      <td>1.0</td>\n",
       "      <td>대전광역시 서구 괴정동(행정:괴정동) 13-2</td>\n",
       "      <td>127.380431</td>\n",
       "      <td>36.340856</td>\n",
       "      <td>Y</td>\n",
       "    </tr>\n",
       "    <tr>\n",
       "      <th>911013</th>\n",
       "      <td>2021-09-15 10:15:46</td>\n",
       "      <td>31</td>\n",
       "      <td>10</td>\n",
       "      <td>215</td>\n",
       "      <td>2.0</td>\n",
       "      <td>세종특별자치시 세종시 조치원읍 번암리(행정:조치원읍) 66-16</td>\n",
       "      <td>127.294908</td>\n",
       "      <td>36.588217</td>\n",
       "      <td>NaN</td>\n",
       "    </tr>\n",
       "    <tr>\n",
       "      <th>1560741</th>\n",
       "      <td>2022-04-12 21:44:56</td>\n",
       "      <td>19</td>\n",
       "      <td>10</td>\n",
       "      <td>215</td>\n",
       "      <td>2.0</td>\n",
       "      <td>충청남도 보령시 대천동 (행정:대천2동 ) 503-17</td>\n",
       "      <td>126.586165</td>\n",
       "      <td>36.358077</td>\n",
       "      <td>NaN</td>\n",
       "    </tr>\n",
       "    <tr>\n",
       "      <th>1136880</th>\n",
       "      <td>2020-11-11 14:02:38</td>\n",
       "      <td>19</td>\n",
       "      <td>10</td>\n",
       "      <td>215</td>\n",
       "      <td>2.0</td>\n",
       "      <td>충청남도 논산시 취암동(행정:취암동) 911</td>\n",
       "      <td>127.089458</td>\n",
       "      <td>36.194094</td>\n",
       "      <td></td>\n",
       "    </tr>\n",
       "    <tr>\n",
       "      <th>2519248</th>\n",
       "      <td>2022-12-28 11:55:35</td>\n",
       "      <td>21</td>\n",
       "      <td>10</td>\n",
       "      <td>215</td>\n",
       "      <td>2.0</td>\n",
       "      <td>전라남도 담양군 대전면 대치리(행정:대전면 ) 870-4</td>\n",
       "      <td>126.889039</td>\n",
       "      <td>35.277085</td>\n",
       "      <td>NaN</td>\n",
       "    </tr>\n",
       "    <tr>\n",
       "      <th>928819</th>\n",
       "      <td>2020-09-17 11:36:19</td>\n",
       "      <td>19</td>\n",
       "      <td>10</td>\n",
       "      <td>215</td>\n",
       "      <td>2.0</td>\n",
       "      <td>세종특별자치시 세종시 아름동(행정:아름동) 1353</td>\n",
       "      <td>127.246790</td>\n",
       "      <td>36.510310</td>\n",
       "      <td></td>\n",
       "    </tr>\n",
       "    <tr>\n",
       "      <th>1689161</th>\n",
       "      <td>2022-05-25 16:45:44</td>\n",
       "      <td>13</td>\n",
       "      <td>10</td>\n",
       "      <td>215</td>\n",
       "      <td>1.0</td>\n",
       "      <td>대전광역시 서구 갈마동 (갈마1동 ) 407</td>\n",
       "      <td>127.368924</td>\n",
       "      <td>36.343113</td>\n",
       "      <td>Y</td>\n",
       "    </tr>\n",
       "    <tr>\n",
       "      <th>2448002</th>\n",
       "      <td>2022-12-05 15:08:57</td>\n",
       "      <td>19</td>\n",
       "      <td>10</td>\n",
       "      <td>215</td>\n",
       "      <td>3.0</td>\n",
       "      <td>충청남도 예산군 삽교읍 상하리(행정:덕산면 )</td>\n",
       "      <td>126.673046</td>\n",
       "      <td>36.709144</td>\n",
       "      <td>Y</td>\n",
       "    </tr>\n",
       "  </tbody>\n",
       "</table>\n",
       "</div>"
      ],
      "text/plain": [
       "               RECV_CPLT_DM  NPA_CL  EVT_STAT_CD  EVT_CL_CD  RPTER_SEX  \\\n",
       "110383  2020-02-05 21:44:07      19           10        215        2.0   \n",
       "549751  2020-06-12 12:29:22      19           10        215        1.0   \n",
       "1092391 2020-10-29 11:52:56      13           10        215        1.0   \n",
       "911013  2021-09-15 10:15:46      31           10        215        2.0   \n",
       "1560741 2022-04-12 21:44:56      19           10        215        2.0   \n",
       "1136880 2020-11-11 14:02:38      19           10        215        2.0   \n",
       "2519248 2022-12-28 11:55:35      21           10        215        2.0   \n",
       "928819  2020-09-17 11:36:19      19           10        215        2.0   \n",
       "1689161 2022-05-25 16:45:44      13           10        215        1.0   \n",
       "2448002 2022-12-05 15:08:57      19           10        215        3.0   \n",
       "\n",
       "                               HPPN_PNU_ADDR      HPPN_X     HPPN_Y SME_EVT_YN  \n",
       "110383         세종특별자치시 세종시 보람동(행정:보람동) 635-5  127.295141  36.480948        NaN  \n",
       "549751               충청남도 아산시 온천동행정온양2동 2231  127.001072  36.781393             \n",
       "1092391            대전광역시 서구 괴정동(행정:괴정동) 13-2  127.380431  36.340856          Y  \n",
       "911013   세종특별자치시 세종시 조치원읍 번암리(행정:조치원읍) 66-16  127.294908  36.588217        NaN  \n",
       "1560741       충청남도 보령시 대천동 (행정:대천2동 ) 503-17  126.586165  36.358077        NaN  \n",
       "1136880             충청남도 논산시 취암동(행정:취암동) 911  127.089458  36.194094             \n",
       "2519248      전라남도 담양군 대전면 대치리(행정:대전면 ) 870-4  126.889039  35.277085        NaN  \n",
       "928819          세종특별자치시 세종시 아름동(행정:아름동) 1353  127.246790  36.510310             \n",
       "1689161             대전광역시 서구 갈마동 (갈마1동 ) 407  127.368924  36.343113          Y  \n",
       "2448002            충청남도 예산군 삽교읍 상하리(행정:덕산면 )  126.673046  36.709144          Y  "
      ]
     },
     "execution_count": 255,
     "metadata": {},
     "output_type": "execute_result"
    }
   ],
   "source": [
    "# 머지이이\n",
    "voice = pd.concat([concat_voice, voice_npa20])\n",
    "# voice = merge_voice.merge(voice_npa20, how=\"left\")\n",
    "voice.sample(10)"
   ]
  },
  {
   "attachments": {},
   "cell_type": "markdown",
   "metadata": {},
   "source": [
    "#### NPA_CL -> 코드명"
   ]
  },
  {
   "cell_type": "code",
   "execution_count": 230,
   "metadata": {},
   "outputs": [],
   "source": [
    "# 코드명으로 변경을 위해 str로 형변환\n",
    "voice = voice.astype({\"NPA_CL\" : \"str\", \"EVT_STAT_CD\" : \"str\", \"RPTER_SEX\" : \"str\"})"
   ]
  },
  {
   "cell_type": "code",
   "execution_count": 239,
   "metadata": {},
   "outputs": [
    {
     "data": {
      "text/plain": [
       "array(['충남청', '대전청', '서울청', '세종시', '인천청', '경기남부청', '전북청', '경남청', '1서울청',\n",
       "       '광주청', '전남청', '부산청', '강원청', '대구청', '울산청', '경기북부청', '경북청'],\n",
       "      dtype=object)"
      ]
     },
     "execution_count": 239,
     "metadata": {},
     "output_type": "execute_result"
    }
   ],
   "source": [
    "voice.NPA_CL.unique()"
   ]
  },
  {
   "cell_type": "code",
   "execution_count": 233,
   "metadata": {},
   "outputs": [],
   "source": [
    "# NPA_CL 변경\n",
    "voice[\"NPA_CL\"] = voice[\"NPA_CL\"].str.replace(\"19\", \"충남청\")\n",
    "voice[\"NPA_CL\"] = voice[\"NPA_CL\"].str.replace(\"13\", \"대전청\")\n",
    "voice[\"NPA_CL\"] = voice[\"NPA_CL\"].str.replace(\"8\", \"서울청\")\n",
    "voice[\"NPA_CL\"] = voice[\"NPA_CL\"].str.replace(\"31\", \"세종시\")\n",
    "voice[\"NPA_CL\"] = voice[\"NPA_CL\"].str.replace(\"11\", \"인천청\")\n",
    "voice[\"NPA_CL\"] = voice[\"NPA_CL\"].str.replace(\"15\", \"경기남부청\")\n",
    "voice[\"NPA_CL\"] = voice[\"NPA_CL\"].str.replace(\"20\", \"전북청\")\n",
    "voice[\"NPA_CL\"] = voice[\"NPA_CL\"].str.replace(\"23\", \"경남청\")\n",
    "voice[\"NPA_CL\"] = voice[\"NPA_CL\"].str.replace(\"18\", \"충북청\")\n",
    "voice[\"NPA_CL\"] = voice[\"NPA_CL\"].str.replace(\"12\", \"광주청\")\n",
    "voice[\"NPA_CL\"] = voice[\"NPA_CL\"].str.replace(\"21\", \"전남청\")\n",
    "voice[\"NPA_CL\"] = voice[\"NPA_CL\"].str.replace(\"9\", \"부산청\")\n",
    "voice[\"NPA_CL\"] = voice[\"NPA_CL\"].str.replace(\"17\", \"강원청\")\n",
    "voice[\"NPA_CL\"] = voice[\"NPA_CL\"].str.replace(\"10\", \"대구청\")\n",
    "voice[\"NPA_CL\"] = voice[\"NPA_CL\"].str.replace(\"14\", \"울산청\")\n",
    "voice[\"NPA_CL\"] = voice[\"NPA_CL\"].str.replace(\"16\", \"경기북부청\")\n",
    "voice[\"NPA_CL\"] = voice[\"NPA_CL\"].str.replace(\"22\", \"경북청\")"
   ]
  },
  {
   "attachments": {},
   "cell_type": "markdown",
   "metadata": {},
   "source": [
    "#### EVT_STAT_CD -> 코드명"
   ]
  },
  {
   "cell_type": "code",
   "execution_count": 240,
   "metadata": {},
   "outputs": [
    {
     "data": {
      "text/plain": [
       "array(['10', '5', '7', '9'], dtype=object)"
      ]
     },
     "execution_count": 240,
     "metadata": {},
     "output_type": "execute_result"
    }
   ],
   "source": [
    "voice.EVT_STAT_CD.unique()"
   ]
  },
  {
   "cell_type": "code",
   "execution_count": 241,
   "metadata": {},
   "outputs": [],
   "source": [
    "voice[\"EVT_STAT_CD\"] = voice[\"EVT_STAT_CD\"].str.replace(\"10\", \"종결요청\")\n",
    "voice[\"EVT_STAT_CD\"] = voice[\"EVT_STAT_CD\"].str.replace(\"5\", \"도착\")\n",
    "voice[\"EVT_STAT_CD\"] = voice[\"EVT_STAT_CD\"].str.replace(\"7\", \"종결요청\")\n",
    "voice[\"EVT_STAT_CD\"] = voice[\"EVT_STAT_CD\"].str.replace(\"9\", \"다청이첩\")"
   ]
  },
  {
   "attachments": {},
   "cell_type": "markdown",
   "metadata": {},
   "source": [
    "#### RPTER_SEX -> 코드명"
   ]
  },
  {
   "cell_type": "code",
   "execution_count": 242,
   "metadata": {},
   "outputs": [
    {
     "data": {
      "text/plain": [
       "array(['1.0', '2.0', '3.0'], dtype=object)"
      ]
     },
     "execution_count": 242,
     "metadata": {},
     "output_type": "execute_result"
    }
   ],
   "source": [
    "voice.RPTER_SEX.unique()"
   ]
  },
  {
   "cell_type": "code",
   "execution_count": 243,
   "metadata": {},
   "outputs": [
    {
     "name": "stderr",
     "output_type": "stream",
     "text": [
      "C:\\Users\\tpfl1\\AppData\\Local\\Temp\\ipykernel_8708\\3265531194.py:1: FutureWarning: The default value of regex will change from True to False in a future version.\n",
      "  voice[\"RPTER_SEX\"] = voice[\"RPTER_SEX\"].str.replace(\"1.0\", \"남성\")\n",
      "C:\\Users\\tpfl1\\AppData\\Local\\Temp\\ipykernel_8708\\3265531194.py:2: FutureWarning: The default value of regex will change from True to False in a future version.\n",
      "  voice[\"RPTER_SEX\"] = voice[\"RPTER_SEX\"].str.replace(\"2.0\", \"여성\")\n",
      "C:\\Users\\tpfl1\\AppData\\Local\\Temp\\ipykernel_8708\\3265531194.py:3: FutureWarning: The default value of regex will change from True to False in a future version.\n",
      "  voice[\"RPTER_SEX\"] = voice[\"RPTER_SEX\"].str.replace(\"3.0\", \"불상\")\n"
     ]
    }
   ],
   "source": [
    "voice[\"RPTER_SEX\"] = voice[\"RPTER_SEX\"].str.replace(\"1.0\", \"남성\")\n",
    "voice[\"RPTER_SEX\"] = voice[\"RPTER_SEX\"].str.replace(\"2.0\", \"여성\")\n",
    "voice[\"RPTER_SEX\"] = voice[\"RPTER_SEX\"].str.replace(\"3.0\", \"불상\")"
   ]
  },
  {
   "attachments": {},
   "cell_type": "markdown",
   "metadata": {},
   "source": [
    "#### save"
   ]
  },
  {
   "cell_type": "code",
   "execution_count": 256,
   "metadata": {},
   "outputs": [],
   "source": [
    "path = r\"C:\\Users\\tpfl1\\Desktop\\solve_git\\analysis\"\n",
    "voice.to_csv(f\"{path}/voice.csv\", index=False, encoding='cp949')"
   ]
  },
  {
   "cell_type": "markdown",
   "metadata": {},
   "source": []
  }
 ],
 "metadata": {
  "kernelspec": {
   "display_name": "tf",
   "language": "python",
   "name": "python3"
  },
  "language_info": {
   "codemirror_mode": {
    "name": "ipython",
    "version": 3
   },
   "file_extension": ".py",
   "mimetype": "text/x-python",
   "name": "python",
   "nbconvert_exporter": "python",
   "pygments_lexer": "ipython3",
   "version": "3.9.15"
  },
  "orig_nbformat": 4,
  "vscode": {
   "interpreter": {
    "hash": "3b5acafdcfa35f80fc83ae21a172430579bc3e3fd106dfadc006c2048ac2cf81"
   }
  }
 },
 "nbformat": 4,
 "nbformat_minor": 2
}
