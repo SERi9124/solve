{
 "cells": [
  {
   "cell_type": "code",
   "execution_count": 1,
   "metadata": {},
   "outputs": [],
   "source": [
    "import pandas as pd\n",
    "import numpy as np"
   ]
  },
  {
   "cell_type": "code",
   "execution_count": 20,
   "metadata": {},
   "outputs": [
    {
     "data": {
      "text/plain": [
       "(46268, 9)"
      ]
     },
     "execution_count": 20,
     "metadata": {},
     "output_type": "execute_result"
    }
   ],
   "source": [
    "path = r\"C:\\Users\\tpfl1\\OneDrive\\Desktop\\SERi\\voice_kor.csv\"\n",
    "voice = pd.read_csv(path, encoding='cp949', index_col=False)\n",
    "voice.shape"
   ]
  },
  {
   "cell_type": "code",
   "execution_count": 21,
   "metadata": {},
   "outputs": [
    {
     "data": {
      "text/html": [
       "<div>\n",
       "<style scoped>\n",
       "    .dataframe tbody tr th:only-of-type {\n",
       "        vertical-align: middle;\n",
       "    }\n",
       "\n",
       "    .dataframe tbody tr th {\n",
       "        vertical-align: top;\n",
       "    }\n",
       "\n",
       "    .dataframe thead th {\n",
       "        text-align: right;\n",
       "    }\n",
       "</style>\n",
       "<table border=\"1\" class=\"dataframe\">\n",
       "  <thead>\n",
       "    <tr style=\"text-align: right;\">\n",
       "      <th></th>\n",
       "      <th>RECV_CPLT_DM</th>\n",
       "      <th>NPA_CL</th>\n",
       "      <th>EVT_STAT_CD</th>\n",
       "      <th>EVT_CL_CD</th>\n",
       "      <th>RPTER_SEX</th>\n",
       "      <th>HPPN_PNU_ADDR</th>\n",
       "      <th>HPPN_X</th>\n",
       "      <th>HPPN_Y</th>\n",
       "      <th>SME_EVT_YN</th>\n",
       "    </tr>\n",
       "  </thead>\n",
       "  <tbody>\n",
       "    <tr>\n",
       "      <th>19914</th>\n",
       "      <td>2022-01-21 14:22:10</td>\n",
       "      <td>충남청</td>\n",
       "      <td>종결요청</td>\n",
       "      <td>215</td>\n",
       "      <td>여성</td>\n",
       "      <td>NaN</td>\n",
       "      <td>NaN</td>\n",
       "      <td>NaN</td>\n",
       "      <td>NaN</td>\n",
       "    </tr>\n",
       "    <tr>\n",
       "      <th>14423</th>\n",
       "      <td>2021-09-03 17:54:52</td>\n",
       "      <td>충남청</td>\n",
       "      <td>종결요청</td>\n",
       "      <td>215</td>\n",
       "      <td>남성</td>\n",
       "      <td>충청남도 아산시 온천동(온양1동) 216-4</td>\n",
       "      <td>127.002086</td>\n",
       "      <td>36.782558</td>\n",
       "      <td>NaN</td>\n",
       "    </tr>\n",
       "    <tr>\n",
       "      <th>21443</th>\n",
       "      <td>2022-03-12 13:03:14</td>\n",
       "      <td>충남청</td>\n",
       "      <td>종결요청</td>\n",
       "      <td>215</td>\n",
       "      <td>남성</td>\n",
       "      <td>충청남도 천안시 서북구 두정동 (행정:부성1동 ) 63-6</td>\n",
       "      <td>127.146547</td>\n",
       "      <td>36.830705</td>\n",
       "      <td>NaN</td>\n",
       "    </tr>\n",
       "    <tr>\n",
       "      <th>30543</th>\n",
       "      <td>2022-09-28 12:07:27</td>\n",
       "      <td>충남청</td>\n",
       "      <td>종결요청</td>\n",
       "      <td>215</td>\n",
       "      <td>여성</td>\n",
       "      <td>NaN</td>\n",
       "      <td>NaN</td>\n",
       "      <td>NaN</td>\n",
       "      <td>NaN</td>\n",
       "    </tr>\n",
       "    <tr>\n",
       "      <th>43587</th>\n",
       "      <td>2020-09-23 14:06:27</td>\n",
       "      <td>대전청</td>\n",
       "      <td>종결요청</td>\n",
       "      <td>215</td>\n",
       "      <td>남성</td>\n",
       "      <td>대전광역시 서구 복수동(행정:복수동) 865</td>\n",
       "      <td>127.378733</td>\n",
       "      <td>36.297180</td>\n",
       "      <td></td>\n",
       "    </tr>\n",
       "  </tbody>\n",
       "</table>\n",
       "</div>"
      ],
      "text/plain": [
       "              RECV_CPLT_DM NPA_CL EVT_STAT_CD  EVT_CL_CD RPTER_SEX  \\\n",
       "19914  2022-01-21 14:22:10    충남청        종결요청        215        여성   \n",
       "14423  2021-09-03 17:54:52    충남청        종결요청        215        남성   \n",
       "21443  2022-03-12 13:03:14    충남청        종결요청        215        남성   \n",
       "30543  2022-09-28 12:07:27    충남청        종결요청        215        여성   \n",
       "43587  2020-09-23 14:06:27    대전청        종결요청        215        남성   \n",
       "\n",
       "                          HPPN_PNU_ADDR      HPPN_X     HPPN_Y SME_EVT_YN  \n",
       "19914                               NaN         NaN        NaN        NaN  \n",
       "14423          충청남도 아산시 온천동(온양1동) 216-4  127.002086  36.782558        NaN  \n",
       "21443  충청남도 천안시 서북구 두정동 (행정:부성1동 ) 63-6  127.146547  36.830705        NaN  \n",
       "30543                               NaN         NaN        NaN        NaN  \n",
       "43587          대전광역시 서구 복수동(행정:복수동) 865  127.378733  36.297180             "
      ]
     },
     "execution_count": 21,
     "metadata": {},
     "output_type": "execute_result"
    }
   ],
   "source": [
    "voice.sample(5)"
   ]
  },
  {
   "cell_type": "code",
   "execution_count": 22,
   "metadata": {},
   "outputs": [
    {
     "data": {
      "text/plain": [
       "array(['충남청', '대전청', '서울청', '세종시', '인천청', '경기남부청', '전북청', '경남청', '충북청',\n",
       "       '광주청', '전남청', '부산청', '강원청', '대구청', '울산청', '경기북부청', '경북청'],\n",
       "      dtype=object)"
      ]
     },
     "execution_count": 22,
     "metadata": {},
     "output_type": "execute_result"
    }
   ],
   "source": [
    "voice.NPA_CL.unique()"
   ]
  },
  {
   "cell_type": "code",
   "execution_count": 23,
   "metadata": {},
   "outputs": [],
   "source": [
    "cn = voice.loc[voice.NPA_CL == \"충남청\"] # 31595\n",
    "dj = voice.loc[voice.NPA_CL == \"대전청\"] # 11176\n",
    "su = voice.loc[voice.NPA_CL == \"서울청\"] # 79\n",
    "sj = voice.loc[voice.NPA_CL == \"세종시\"] # 2936\n",
    "ic = voice.loc[voice.NPA_CL == \"인천청\"] # 14\n",
    "gnc = voice.loc[voice.NPA_CL == \"경기남부청\"] # 175\n",
    "jb = voice.loc[voice.NPA_CL == \"전북청\"] # 52\n",
    "gn = voice.loc[voice.NPA_CL == \"경남청\"] # 26\n",
    "cb = voice.loc[voice.NPA_CL == \"충북청\"] # 78\n",
    "kj = voice.loc[voice.NPA_CL == \"광주청\"] # 14\n",
    "jn = voice.loc[voice.NPA_CL == \"전남청\"] # 26\n",
    "bu = voice.loc[voice.NPA_CL == \"부산청\"] # 12\n",
    "kw = voice.loc[voice.NPA_CL == \"강원청\"] # 12\n",
    "dg = voice.loc[voice.NPA_CL == \"대구청\"] # 16\n",
    "us = voice.loc[voice.NPA_CL == \"울산청\"] # 9\n",
    "gbc = voice.loc[voice.NPA_CL == \"경기북부청\"] # 27\n",
    "gb = voice.loc[voice.NPA_CL == \"경북청\"] # 21"
   ]
  },
  {
   "cell_type": "code",
   "execution_count": 48,
   "metadata": {},
   "outputs": [
    {
     "data": {
      "text/html": [
       "<div>\n",
       "<style scoped>\n",
       "    .dataframe tbody tr th:only-of-type {\n",
       "        vertical-align: middle;\n",
       "    }\n",
       "\n",
       "    .dataframe tbody tr th {\n",
       "        vertical-align: top;\n",
       "    }\n",
       "\n",
       "    .dataframe thead th {\n",
       "        text-align: right;\n",
       "    }\n",
       "</style>\n",
       "<table border=\"1\" class=\"dataframe\">\n",
       "  <thead>\n",
       "    <tr style=\"text-align: right;\">\n",
       "      <th></th>\n",
       "      <th>RECV_CPLT_DM</th>\n",
       "      <th>NPA_CL</th>\n",
       "      <th>EVT_STAT_CD</th>\n",
       "      <th>EVT_CL_CD</th>\n",
       "      <th>RPTER_SEX</th>\n",
       "      <th>HPPN_PNU_ADDR</th>\n",
       "      <th>HPPN_X</th>\n",
       "      <th>HPPN_Y</th>\n",
       "      <th>SME_EVT_YN</th>\n",
       "    </tr>\n",
       "  </thead>\n",
       "  <tbody>\n",
       "    <tr>\n",
       "      <th>19866</th>\n",
       "      <td>2022-01-23 19:16:37</td>\n",
       "      <td>충남청</td>\n",
       "      <td>종결요청</td>\n",
       "      <td>215</td>\n",
       "      <td>남성</td>\n",
       "      <td>충청남도 천안시 동남구 신부동 (행정:신안동 ) 354-1</td>\n",
       "      <td>127.154391</td>\n",
       "      <td>36.819217</td>\n",
       "      <td>NaN</td>\n",
       "    </tr>\n",
       "    <tr>\n",
       "      <th>1135</th>\n",
       "      <td>2020-12-21 15:09:22</td>\n",
       "      <td>충남청</td>\n",
       "      <td>종결요청</td>\n",
       "      <td>215</td>\n",
       "      <td>여성</td>\n",
       "      <td>충청남도 공주시 신관동(행정:신관동) 산9-105</td>\n",
       "      <td>127.148083</td>\n",
       "      <td>36.469575</td>\n",
       "      <td>Y</td>\n",
       "    </tr>\n",
       "  </tbody>\n",
       "</table>\n",
       "</div>"
      ],
      "text/plain": [
       "              RECV_CPLT_DM NPA_CL EVT_STAT_CD  EVT_CL_CD RPTER_SEX  \\\n",
       "19866  2022-01-23 19:16:37    충남청        종결요청        215        남성   \n",
       "1135   2020-12-21 15:09:22    충남청        종결요청        215        여성   \n",
       "\n",
       "                          HPPN_PNU_ADDR      HPPN_X     HPPN_Y SME_EVT_YN  \n",
       "19866  충청남도 천안시 동남구 신부동 (행정:신안동 ) 354-1  127.154391  36.819217        NaN  \n",
       "1135        충청남도 공주시 신관동(행정:신관동) 산9-105  127.148083  36.469575          Y  "
      ]
     },
     "execution_count": 48,
     "metadata": {},
     "output_type": "execute_result"
    }
   ],
   "source": [
    "cn.sample(2)"
   ]
  },
  {
   "cell_type": "code",
   "execution_count": 45,
   "metadata": {},
   "outputs": [
    {
     "data": {
      "text/plain": [
       "array(['종결요청', '도착'], dtype=object)"
      ]
     },
     "execution_count": 45,
     "metadata": {},
     "output_type": "execute_result"
    }
   ],
   "source": [
    "cn.EVT_STAT_CD.unique()"
   ]
  },
  {
   "cell_type": "code",
   "execution_count": 47,
   "metadata": {},
   "outputs": [
    {
     "name": "stdout",
     "output_type": "stream",
     "text": [
      "<class 'pandas.core.frame.DataFrame'>\n",
      "Int64Index: 28 entries, 10593 to 46151\n",
      "Data columns (total 9 columns):\n",
      " #   Column         Non-Null Count  Dtype  \n",
      "---  ------         --------------  -----  \n",
      " 0   RECV_CPLT_DM   28 non-null     object \n",
      " 1   NPA_CL         28 non-null     object \n",
      " 2   EVT_STAT_CD    28 non-null     object \n",
      " 3   EVT_CL_CD      28 non-null     int64  \n",
      " 4   RPTER_SEX      28 non-null     object \n",
      " 5   HPPN_PNU_ADDR  28 non-null     object \n",
      " 6   HPPN_X         27 non-null     float64\n",
      " 7   HPPN_Y         27 non-null     float64\n",
      " 8   SME_EVT_YN     22 non-null     object \n",
      "dtypes: float64(2), int64(1), object(6)\n",
      "memory usage: 2.2+ KB\n"
     ]
    }
   ],
   "source": [
    "cn.loc[cn.EVT_STAT_CD == \"도착\"].info() # 28"
   ]
  },
  {
   "cell_type": "code",
   "execution_count": 54,
   "metadata": {},
   "outputs": [
    {
     "data": {
      "text/plain": [
       "array(['남성', '여성', '불상'], dtype=object)"
      ]
     },
     "execution_count": 54,
     "metadata": {},
     "output_type": "execute_result"
    }
   ],
   "source": [
    "cn.RPTER_SEX.unique()"
   ]
  },
  {
   "cell_type": "code",
   "execution_count": 70,
   "metadata": {},
   "outputs": [
    {
     "name": "stdout",
     "output_type": "stream",
     "text": [
      "남성: 15083 / 여성: 13051 / 불상: 3461\n"
     ]
    }
   ],
   "source": [
    "print(f'남성: {len(cn.loc[cn.RPTER_SEX == \"남성\"])}', end= \" / \")\n",
    "print(f'여성: {len(cn.loc[cn.RPTER_SEX == \"여성\"])}', end= \" / \")\n",
    "print(f'불상: {len(cn.loc[cn.RPTER_SEX == \"불상\"])}')"
   ]
  },
  {
   "cell_type": "code",
   "execution_count": 72,
   "metadata": {},
   "outputs": [
    {
     "name": "stdout",
     "output_type": "stream",
     "text": [
      "남성비율 : 47.738566228833676 / 여성비율 : 41.30716885583162 / 불상비율 : 10.954264915334704\n"
     ]
    }
   ],
   "source": [
    "total = cn.RPTER_SEX.count()\n",
    "man = len(cn.loc[cn.RPTER_SEX == '남성'])\n",
    "women = len(cn.loc[cn.RPTER_SEX == '여성'])\n",
    "other = len(cn.loc[cn.RPTER_SEX == '불상'])\n",
    "\n",
    "print(f\"남성비율 : {(man/total) * 100}\", end= \" / \")\n",
    "print(f\"여성비율 : {(women/total) * 100}\", end= \" / \")\n",
    "print(f\"불상비율 : {(other/total) * 100}\")"
   ]
  },
  {
   "attachments": {},
   "cell_type": "markdown",
   "metadata": {},
   "source": [
    "충남청에 보이스피싱으로 신고된건이 많음. <br>\n",
    "총 31595건 중 28건만 도착상태이고 나머지는 다 종결요청상태. <br>\n",
    "전체에서 남자는 47.7%, 여자는 41.3% 이다."
   ]
  }
 ],
 "metadata": {
  "kernelspec": {
   "display_name": "tf",
   "language": "python",
   "name": "python3"
  },
  "language_info": {
   "codemirror_mode": {
    "name": "ipython",
    "version": 3
   },
   "file_extension": ".py",
   "mimetype": "text/x-python",
   "name": "python",
   "nbconvert_exporter": "python",
   "pygments_lexer": "ipython3",
   "version": "3.9.13"
  },
  "orig_nbformat": 4,
  "vscode": {
   "interpreter": {
    "hash": "d92db622cb5bb78c2c77e21c3317885bdf8c1e85044705cff7d629a77fb46d17"
   }
  }
 },
 "nbformat": 4,
 "nbformat_minor": 2
}
