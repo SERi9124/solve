{
 "cells": [
  {
   "attachments": {},
   "cell_type": "markdown",
   "metadata": {},
   "source": [
    "[편지](https://school.programmers.co.kr/learn/courses/30/lessons/120898)"
   ]
  },
  {
   "cell_type": "code",
   "execution_count": 3,
   "metadata": {},
   "outputs": [
    {
     "data": {
      "text/plain": [
       "30"
      ]
     },
     "execution_count": 3,
     "metadata": {},
     "output_type": "execute_result"
    }
   ],
   "source": [
    "def solution(message):\n",
    "    answer = len(message) * 2\n",
    "    return answer\n",
    "\n",
    "message = \"happy birthday!\"\n",
    "solution(message)"
   ]
  },
  {
   "attachments": {},
   "cell_type": "markdown",
   "metadata": {},
   "source": [
    "[약수구하기](https://school.programmers.co.kr/learn/courses/30/lessons/120897)"
   ]
  },
  {
   "cell_type": "code",
   "execution_count": 16,
   "metadata": {},
   "outputs": [
    {
     "data": {
      "text/plain": [
       "[1, 2, 3, 4, 6, 8, 12, 24]"
      ]
     },
     "execution_count": 16,
     "metadata": {},
     "output_type": "execute_result"
    }
   ],
   "source": [
    "def solution(n):\n",
    "    answer = []\n",
    "    for x in range(1,n+1):\n",
    "        if n % x == 0:\n",
    "            answer.append(x)\n",
    "    return answer\n",
    "\n",
    "n = 24\n",
    "solution(n)"
   ]
  },
  {
   "attachments": {},
   "cell_type": "markdown",
   "metadata": {},
   "source": [
    "[한 번만 등장한 문자](https://school.programmers.co.kr/learn/courses/30/lessons/120896)"
   ]
  },
  {
   "cell_type": "code",
   "execution_count": 16,
   "metadata": {},
   "outputs": [
    {
     "data": {
      "text/plain": [
       "'eho'"
      ]
     },
     "execution_count": 16,
     "metadata": {},
     "output_type": "execute_result"
    }
   ],
   "source": [
    "def solution(s):\n",
    "    answer = []\n",
    "    s_list = list(s)\n",
    "    for x in sorted(set(s_list)):\n",
    "        if s_list.count(x) == 1:\n",
    "            answer.append(x)\n",
    "    return ''.join(answer)\n",
    "\n",
    "s = \"hello\"\n",
    "solution(s)"
   ]
  },
  {
   "attachments": {},
   "cell_type": "markdown",
   "metadata": {},
   "source": [
    "[인덱스 바꾸기](https://school.programmers.co.kr/learn/courses/30/lessons/120895)"
   ]
  },
  {
   "cell_type": "code",
   "execution_count": 23,
   "metadata": {},
   "outputs": [
    {
     "data": {
      "text/plain": [
       "'hlelo'"
      ]
     },
     "execution_count": 23,
     "metadata": {},
     "output_type": "execute_result"
    }
   ],
   "source": [
    "def solution(my_string, num1, num2):\n",
    "    my_string = list(my_string)\n",
    "\n",
    "    temp = my_string[num1]\n",
    "    my_string[num1] = my_string[num2]\n",
    "    my_string[num2] = temp\n",
    "\n",
    "    answer = ''.join(my_string)\n",
    "    return answer\n",
    "\n",
    "my_string = \"hello\"\n",
    "num1 = 1\n",
    "num2 = 2\n",
    "solution(my_string, num1, num2)"
   ]
  },
  {
   "attachments": {},
   "cell_type": "markdown",
   "metadata": {},
   "source": [
    "[옷가게 할인 받기](https://school.programmers.co.kr/learn/courses/30/lessons/120818)"
   ]
  },
  {
   "cell_type": "code",
   "execution_count": 42,
   "metadata": {},
   "outputs": [
    {
     "data": {
      "text/plain": [
       "270000"
      ]
     },
     "execution_count": 42,
     "metadata": {},
     "output_type": "execute_result"
    }
   ],
   "source": [
    "def solution(price):\n",
    "    answer = 0\n",
    "    if (price >= 100000) & (price < 299999):\n",
    "        # print(\"1\")\n",
    "        answer = price - (price * 0.05)\n",
    "\n",
    "    elif (price >= 300000) & (price < 499999):\n",
    "        # print(\"2\")\n",
    "        answer = price - (price * 0.1)\n",
    "\n",
    "    elif 500000 <= price:\n",
    "        # print(\"3\")\n",
    "        answer = price - (price * 0.2)\n",
    "\n",
    "    else:\n",
    "        answer = price\n",
    "    return int(answer)\n",
    "\n",
    "price = 300000\n",
    "solution(price)"
   ]
  },
  {
   "attachments": {},
   "cell_type": "markdown",
   "metadata": {},
   "source": [
    "[순서쌍의 개수](https://school.programmers.co.kr/learn/courses/30/lessons/120836)"
   ]
  },
  {
   "cell_type": "code",
   "execution_count": 51,
   "metadata": {},
   "outputs": [
    {
     "data": {
      "text/plain": [
       "9"
      ]
     },
     "execution_count": 51,
     "metadata": {},
     "output_type": "execute_result"
    }
   ],
   "source": [
    "def solution(n):\n",
    "    answer = 1\n",
    "    for x in range(1, int(n/2)+1):\n",
    "        # print(x)\n",
    "        if n % x == 0:\n",
    "            answer +=1\n",
    "            # print(x)\n",
    "    return answer\n",
    "\n",
    "n = 100\n",
    "solution(n)"
   ]
  },
  {
   "attachments": {},
   "cell_type": "markdown",
   "metadata": {},
   "source": [
    "[중앙값 구하기](https://school.programmers.co.kr/learn/courses/30/lessons/120811)"
   ]
  },
  {
   "cell_type": "code",
   "execution_count": 53,
   "metadata": {},
   "outputs": [
    {
     "data": {
      "text/plain": [
       "7"
      ]
     },
     "execution_count": 53,
     "metadata": {},
     "output_type": "execute_result"
    }
   ],
   "source": [
    "import numpy as np\n",
    "\n",
    "def solution(array):\n",
    "    answer = int(np.median(array))\n",
    "    return answer\n",
    "\n",
    "array = [1, 2, 7, 10, 11]\n",
    "solution(array)"
   ]
  },
  {
   "attachments": {},
   "cell_type": "markdown",
   "metadata": {},
   "source": [
    "[개미 군단](https://school.programmers.co.kr/learn/courses/30/lessons/120837)"
   ]
  },
  {
   "cell_type": "code",
   "execution_count": 54,
   "metadata": {},
   "outputs": [
    {
     "data": {
      "text/plain": [
       "0"
      ]
     },
     "execution_count": 54,
     "metadata": {},
     "output_type": "execute_result"
    }
   ],
   "source": [
    "def solution(hp):\n",
    "    answer = 0\n",
    "    \n",
    "    return answer\n",
    "\n",
    "hp = 24\n",
    "solution(hp)"
   ]
  },
  {
   "cell_type": "code",
   "execution_count": 68,
   "metadata": {},
   "outputs": [
    {
     "ename": "NameError",
     "evalue": "name 'b' is not defined",
     "output_type": "error",
     "traceback": [
      "\u001b[1;31m---------------------------------------------------------------------------\u001b[0m",
      "\u001b[1;31mNameError\u001b[0m                                 Traceback (most recent call last)",
      "Cell \u001b[1;32mIn [68], line 9\u001b[0m\n\u001b[0;32m      7\u001b[0m \u001b[39melif\u001b[39;00m \u001b[39m3\u001b[39m \u001b[39m>\u001b[39m ((hp\u001b[39m%\u001b[39m\u001b[39m5\u001b[39m)\u001b[39m%\u001b[39m\u001b[39m3\u001b[39m):\n\u001b[0;32m      8\u001b[0m     c \u001b[39m=\u001b[39m ((hp\u001b[39m%\u001b[39m\u001b[39m5\u001b[39m)\u001b[39m%\u001b[39m\u001b[39m3\u001b[39m)\n\u001b[1;32m----> 9\u001b[0m count \u001b[39m=\u001b[39m a\u001b[39m+\u001b[39mb\u001b[39m+\u001b[39mc\n",
      "\u001b[1;31mNameError\u001b[0m: name 'b' is not defined"
     ]
    }
   ],
   "source": [
    "hp = 24\n",
    "# count = 0\n",
    "if hp > 5:\n",
    "    a = hp // 5 # 장군쓰 4마뤼\n",
    "elif (hp % 5) > 3:\n",
    "    b = (hp%5) // 3\n",
    "elif 3 > ((hp%5)%3):\n",
    "    c = ((hp%5)%3)\n",
    "count = a+b+c"
   ]
  },
  {
   "cell_type": "code",
   "execution_count": 80,
   "metadata": {},
   "outputs": [
    {
     "name": "stdout",
     "output_type": "stream",
     "text": [
      "4\n"
     ]
    }
   ],
   "source": [
    "while hp > 5:\n",
    "    sum = hp // 5  #4\n",
    "\n",
    "    if "
   ]
  },
  {
   "cell_type": "code",
   "execution_count": null,
   "metadata": {},
   "outputs": [],
   "source": []
  }
 ],
 "metadata": {
  "kernelspec": {
   "display_name": "tf",
   "language": "python",
   "name": "python3"
  },
  "language_info": {
   "codemirror_mode": {
    "name": "ipython",
    "version": 3
   },
   "file_extension": ".py",
   "mimetype": "text/x-python",
   "name": "python",
   "nbconvert_exporter": "python",
   "pygments_lexer": "ipython3",
   "version": "3.9.13"
  },
  "orig_nbformat": 4,
  "vscode": {
   "interpreter": {
    "hash": "d92db622cb5bb78c2c77e21c3317885bdf8c1e85044705cff7d629a77fb46d17"
   }
  }
 },
 "nbformat": 4,
 "nbformat_minor": 2
}
