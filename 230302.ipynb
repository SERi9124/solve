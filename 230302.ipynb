{
 "cells": [
  {
   "attachments": {},
   "cell_type": "markdown",
   "metadata": {},
   "source": [
    "[A로 B만들기](https://school.programmers.co.kr/learn/courses/30/lessons/120886)"
   ]
  },
  {
   "cell_type": "code",
   "execution_count": 2,
   "metadata": {},
   "outputs": [
    {
     "data": {
      "text/plain": [
       "1"
      ]
     },
     "execution_count": 2,
     "metadata": {},
     "output_type": "execute_result"
    }
   ],
   "source": [
    "def solution(before, after):\n",
    "    answer = 0\n",
    "    list_after = list(after)\n",
    "    for x in before:\n",
    "        if x in list_after:\n",
    "            list_after.remove(x)\n",
    "\n",
    "    if len(list_after) > 0:\n",
    "        answer = 0\n",
    "    else:\n",
    "        answer = 1\n",
    "    return answer\n",
    "\n",
    "before = \"olleh\"\n",
    "after = \"hello\"\n",
    "solution(before, after)"
   ]
  },
  {
   "attachments": {},
   "cell_type": "markdown",
   "metadata": {},
   "source": [
    "##### 다른사람풀이\n",
    "sorted... 생각은했지만 적용을안해봤는데 생각보다 편해보인다"
   ]
  },
  {
   "cell_type": "code",
   "execution_count": 3,
   "metadata": {},
   "outputs": [
    {
     "data": {
      "text/plain": [
       "1"
      ]
     },
     "execution_count": 3,
     "metadata": {},
     "output_type": "execute_result"
    }
   ],
   "source": [
    "def solution(before, after):\n",
    "    \n",
    "    before = sorted(before)\n",
    "    after = sorted(after)\n",
    "    \n",
    "    if before == after:\n",
    "        return 1\n",
    "    else:\n",
    "        return 0\n",
    "\n",
    "before = \"olleh\"\n",
    "after = \"hello\"\n",
    "solution(before, after)"
   ]
  },
  {
   "attachments": {},
   "cell_type": "markdown",
   "metadata": {},
   "source": [
    "[분수의 덧셈](https://school.programmers.co.kr/learn/courses/30/lessons/120808)"
   ]
  },
  {
   "cell_type": "code",
   "execution_count": 4,
   "metadata": {},
   "outputs": [
    {
     "data": {
      "text/plain": [
       "[5, 4]"
      ]
     },
     "execution_count": 4,
     "metadata": {},
     "output_type": "execute_result"
    }
   ],
   "source": [
    "from fractions import Fraction\n",
    "\n",
    "def solution(numer1, denom1, numer2, denom2):\n",
    "    answer = []\n",
    "    frac = Fraction(numer1, denom1) + Fraction(numer2, denom2)\n",
    "    answer.append(frac.numerator)\n",
    "    answer.append(frac.denominator)\n",
    "    return answer\n",
    "\n",
    "numer1 = 1\n",
    "denom1 = 2\n",
    "numer2 = 3\n",
    "denom2 = 4\n",
    "solution(numer1, denom1, numer2, denom2)"
   ]
  },
  {
   "attachments": {},
   "cell_type": "markdown",
   "metadata": {},
   "source": [
    "[저주의 숫자 3](https://school.programmers.co.kr/learn/courses/30/lessons/120871)"
   ]
  },
  {
   "cell_type": "code",
   "execution_count": 5,
   "metadata": {},
   "outputs": [
    {
     "data": {
      "text/plain": [
       "25"
      ]
     },
     "execution_count": 5,
     "metadata": {},
     "output_type": "execute_result"
    }
   ],
   "source": [
    "def solution(n):\n",
    "    answer = []\n",
    "    for y in range(1,101):\n",
    "        if y%3 ==0:\n",
    "            continue\n",
    "        if '3' in str(y):\n",
    "            continue\n",
    "        answer.append(y)\n",
    "    return answer[n-1]\n",
    "\n",
    "n = 15\n",
    "solution(n)"
   ]
  },
  {
   "attachments": {},
   "cell_type": "markdown",
   "metadata": {},
   "source": [
    "풀긴 풀었는데, 런타임에러가 나는중.. 😭"
   ]
  }
 ],
 "metadata": {
  "kernelspec": {
   "display_name": "tf",
   "language": "python",
   "name": "python3"
  },
  "language_info": {
   "codemirror_mode": {
    "name": "ipython",
    "version": 3
   },
   "file_extension": ".py",
   "mimetype": "text/x-python",
   "name": "python",
   "nbconvert_exporter": "python",
   "pygments_lexer": "ipython3",
   "version": "3.9.13"
  },
  "orig_nbformat": 4,
  "vscode": {
   "interpreter": {
    "hash": "d92db622cb5bb78c2c77e21c3317885bdf8c1e85044705cff7d629a77fb46d17"
   }
  }
 },
 "nbformat": 4,
 "nbformat_minor": 2
}
