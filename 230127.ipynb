{
 "cells": [
  {
   "attachments": {},
   "cell_type": "markdown",
   "metadata": {},
   "source": [
    "[옹알이 (1)](https://school.programmers.co.kr/learn/courses/30/lessons/120956)"
   ]
  },
  {
   "cell_type": "code",
   "execution_count": 25,
   "metadata": {},
   "outputs": [
    {
     "data": {
      "text/plain": [
       "3"
      ]
     },
     "execution_count": 25,
     "metadata": {},
     "output_type": "execute_result"
    }
   ],
   "source": [
    "from itertools import permutations\n",
    "\n",
    "def solution(babbling):\n",
    "    count = 0\n",
    "    speek = [\"aya\",\"ye\",\"woo\",\"ma\"]\n",
    "    word = []\n",
    "    for i in range(1, len(speek)+1):\n",
    "        for j in permutations(speek, i):\n",
    "            word.append(''.join(j))\n",
    "\n",
    "    for i in babbling:\n",
    "        if i in word:\n",
    "            count += 1\n",
    "\n",
    "    return count\n",
    "\n",
    "babbling = [\"ayaye\", \"uuuma\", \"ye\", \"yemawoo\", \"ayaa\"]\n",
    "\n",
    "solution(babbling)"
   ]
  },
  {
   "attachments": {},
   "cell_type": "markdown",
   "metadata": {},
   "source": [
    "[다음에 올 숫자](https://school.programmers.co.kr/learn/courses/30/lessons/120924)"
   ]
  },
  {
   "cell_type": "code",
   "execution_count": 40,
   "metadata": {},
   "outputs": [
    {
     "data": {
      "text/plain": [
       "16"
      ]
     },
     "execution_count": 40,
     "metadata": {},
     "output_type": "execute_result"
    }
   ],
   "source": [
    "def solution(common):\n",
    "    num = common[1] - common[0]    \n",
    "    if common[1] + num == common[2]:\n",
    "        answer = common[len(common)-1] + num\n",
    "    else:\n",
    "        num = common[1] // common[0]    \n",
    "        answer = common[len(common)-1] * num\n",
    "    return answer\n",
    "\n",
    "# common = [1, 2, 3, 4]\n",
    "common = [2, 4, 8]\n",
    "solution(common)"
   ]
  },
  {
   "attachments": {},
   "cell_type": "markdown",
   "metadata": {},
   "source": [
    "[연속된 수의 합](https://school.programmers.co.kr/learn/courses/30/lessons/120923)"
   ]
  },
  {
   "cell_type": "code",
   "execution_count": 64,
   "metadata": {},
   "outputs": [
    {
     "data": {
      "text/plain": [
       "[3, 4, 5]"
      ]
     },
     "execution_count": 64,
     "metadata": {},
     "output_type": "execute_result"
    }
   ],
   "source": [
    "def solution(num, total):\n",
    "    sum = 0\n",
    "    answer = []\n",
    "    for x in range(1,num+1):\n",
    "        sum += x\n",
    "\n",
    "    result = int((total-sum)/num)+1\n",
    "    for y in range(result, result+num):\n",
    "        answer.append(y)\n",
    "    return answer\n",
    "\n",
    "num = 3\n",
    "total = 12\n",
    "solution(num, total)"
   ]
  },
  {
   "attachments": {},
   "cell_type": "markdown",
   "metadata": {},
   "source": [
    "[종이 자르기](https://school.programmers.co.kr/learn/courses/30/lessons/120922)"
   ]
  },
  {
   "cell_type": "code",
   "execution_count": 76,
   "metadata": {},
   "outputs": [
    {
     "data": {
      "text/plain": [
       "9"
      ]
     },
     "execution_count": 76,
     "metadata": {},
     "output_type": "execute_result"
    }
   ],
   "source": [
    "def solution(M, N):\n",
    "    \n",
    "    if M or N != 0:\n",
    "        M1 = M-1\n",
    "        N2 = (N-1) * M\n",
    "        return M1 + N2\n",
    "    else:\n",
    "        return 0\n",
    "\n",
    "M = 2\n",
    "N = 5\n",
    "solution(M, N)"
   ]
  },
  {
   "attachments": {},
   "cell_type": "markdown",
   "metadata": {},
   "source": [
    "[잘라서 배열로 저장하기](https://school.programmers.co.kr/learn/courses/30/lessons/120913)"
   ]
  },
  {
   "cell_type": "code",
   "execution_count": 105,
   "metadata": {},
   "outputs": [
    {
     "name": "stdout",
     "output_type": "stream",
     "text": [
      "0\n",
      "6\n",
      "12\n",
      "18\n"
     ]
    },
    {
     "data": {
      "text/plain": [
       "['abcdef', '123ask', 'dfjasi', 'dfj']"
      ]
     },
     "execution_count": 105,
     "metadata": {},
     "output_type": "execute_result"
    }
   ],
   "source": [
    "# def solution(my_str, n):\n",
    "#     answer = []\n",
    "#     num = len(my_str)//n #2\n",
    "#     for x in range(num+1):\n",
    "#         # print(x)\n",
    "#         answer.append(my)\n",
    "#     # answer.append(my_str[:n])\n",
    "#     # answer.append(my_str[n:n*2])\n",
    "#     # answer.append(my_str[n*2:])\n",
    "#     return answer\n",
    "def solution(my_str, n):\n",
    "    answer = []\n",
    "    for x in range(0, len(my_str), n):\n",
    "        answer.append(my_str[x:x+n])\n",
    "    return answer\n",
    "\n",
    "# my_str = \"abc1Addfggg4556b\"\n",
    "my_str = \"abcdef123askdfjasidfj\"\n",
    "n = 6\n",
    "solution(my_str, n)"
   ]
  }
 ],
 "metadata": {
  "kernelspec": {
   "display_name": "tf",
   "language": "python",
   "name": "python3"
  },
  "language_info": {
   "codemirror_mode": {
    "name": "ipython",
    "version": 3
   },
   "file_extension": ".py",
   "mimetype": "text/x-python",
   "name": "python",
   "nbconvert_exporter": "python",
   "pygments_lexer": "ipython3",
   "version": "3.9.13 (main, Oct 13 2022, 21:23:06) [MSC v.1916 64 bit (AMD64)]"
  },
  "orig_nbformat": 4,
  "vscode": {
   "interpreter": {
    "hash": "d92db622cb5bb78c2c77e21c3317885bdf8c1e85044705cff7d629a77fb46d17"
   }
  }
 },
 "nbformat": 4,
 "nbformat_minor": 2
}
